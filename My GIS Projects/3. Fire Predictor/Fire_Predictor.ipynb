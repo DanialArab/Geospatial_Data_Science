{
 "cells": [
  {
   "cell_type": "code",
   "execution_count": 1,
   "id": "b02de7aa",
   "metadata": {
    "scrolled": true
   },
   "outputs": [],
   "source": [
    "import findspark"
   ]
  },
  {
   "cell_type": "code",
   "execution_count": null,
   "id": "b92eac20",
   "metadata": {},
   "outputs": [],
   "source": [
    "spark = findspark.init('/home/danial/spark-3.4.0-bin-hadoop3')"
   ]
  },
  {
   "cell_type": "code",
   "execution_count": null,
   "id": "dd03248c",
   "metadata": {},
   "outputs": [],
   "source": [
    "# for my spark on windows\n",
    "\n",
    "# no need for this \n",
    "#spark = findspark.init('C:\\Program Files\\spark-3.4.0-bin-hadoop3')"
   ]
  },
  {
   "cell_type": "code",
   "execution_count": 1,
   "id": "cb37c020",
   "metadata": {},
   "outputs": [],
   "source": [
    "from pyspark.ml.classification import LogisticRegression\n",
    "from pyspark.ml.regression import LinearRegression\n",
    "from pyspark.ml.evaluation import (BinaryClassificationEvaluator,\n",
    "                                    MulticlassClassificationEvaluator)\n",
    "from pyspark.ml.feature import (StringIndexer, VectorAssembler,\n",
    "                               OneHotEncoder)\n",
    "from pyspark.sql.session import SparkSession\n",
    "from pyspark.ml import Pipeline\n",
    "from pyspark.sql.functions import col, sum\n",
    "from pyspark.ml.classification import (RandomForestClassifier,\n",
    "                                       GBTClassifier,\n",
    "                                       DecisionTreeClassifier)\n",
    "import xgboost as xgb\n",
    "from imblearn.over_sampling import SMOTE\n",
    "import pandas as pd\n"
   ]
  },
  {
   "cell_type": "code",
   "execution_count": 2,
   "id": "cce231fb",
   "metadata": {
    "scrolled": false
   },
   "outputs": [],
   "source": [
    "spark = SparkSession.builder.config('spark.jars.packages', 'org.xerial:sqlite-jdbc:3.42.0.0').getOrCreate()"
   ]
  },
  {
   "cell_type": "code",
   "execution_count": null,
   "id": "cf4ee08c",
   "metadata": {},
   "outputs": [],
   "source": [
    "df_spark = spark.read.format('jdbc').options(driver='org.sqlite.JDBC', \\\n",
    "                                             inferSchema = True,\\\n",
    "                                             header = True,\\\n",
    "                                             dbtable = 'fires',\\\n",
    "                                             url= 'jdbc:sqlite:/home/danial/Desktop/mygis/Geospatial_Data_Science/My GIS Projects/data/3.1.88_M_US_Wildfires/FPA_FOD_20170508.sqlite').load()\n"
   ]
  },
  {
   "cell_type": "code",
   "execution_count": null,
   "id": "2f2487e0",
   "metadata": {},
   "outputs": [],
   "source": [
    "# for my spark on windows"
   ]
  },
  {
   "cell_type": "code",
   "execution_count": 3,
   "id": "e06e172b",
   "metadata": {},
   "outputs": [],
   "source": [
    "df_spark = spark.read.format('jdbc').options(driver='org.sqlite.JDBC', \\\n",
    "                                             inferSchema = True,\\\n",
    "                                             header = True,\\\n",
    "                                             dbtable = 'fires',\\\n",
    "                                             url= 'jdbc:sqlite:/D:/0_Machine_Learning/0.my_code_excercise/0.My_Portfolio/27.mygis/FPA_FOD_20170508.sqlite').load()\n",
    "\n",
    "\n"
   ]
  },
  {
   "cell_type": "code",
   "execution_count": 4,
   "id": "2f61f62f",
   "metadata": {},
   "outputs": [
    {
     "name": "stdout",
     "output_type": "stream",
     "text": [
      "root\n",
      " |-- OBJECTID: integer (nullable = true)\n",
      " |-- FOD_ID: decimal(38,18) (nullable = true)\n",
      " |-- FPA_ID: string (nullable = true)\n",
      " |-- SOURCE_SYSTEM_TYPE: string (nullable = true)\n",
      " |-- SOURCE_SYSTEM: string (nullable = true)\n",
      " |-- NWCG_REPORTING_AGENCY: string (nullable = true)\n",
      " |-- NWCG_REPORTING_UNIT_ID: string (nullable = true)\n",
      " |-- NWCG_REPORTING_UNIT_NAME: string (nullable = true)\n",
      " |-- SOURCE_REPORTING_UNIT: string (nullable = true)\n",
      " |-- SOURCE_REPORTING_UNIT_NAME: string (nullable = true)\n",
      " |-- LOCAL_FIRE_REPORT_ID: string (nullable = true)\n",
      " |-- LOCAL_INCIDENT_ID: string (nullable = true)\n",
      " |-- FIRE_CODE: string (nullable = true)\n",
      " |-- FIRE_NAME: string (nullable = true)\n",
      " |-- ICS_209_INCIDENT_NUMBER: string (nullable = true)\n",
      " |-- ICS_209_NAME: string (nullable = true)\n",
      " |-- MTBS_ID: string (nullable = true)\n",
      " |-- MTBS_FIRE_NAME: string (nullable = true)\n",
      " |-- COMPLEX_NAME: string (nullable = true)\n",
      " |-- FIRE_YEAR: decimal(38,18) (nullable = true)\n",
      " |-- DISCOVERY_DATE: decimal(38,18) (nullable = true)\n",
      " |-- DISCOVERY_DOY: decimal(38,18) (nullable = true)\n",
      " |-- DISCOVERY_TIME: string (nullable = true)\n",
      " |-- STAT_CAUSE_CODE: decimal(38,18) (nullable = true)\n",
      " |-- STAT_CAUSE_DESCR: string (nullable = true)\n",
      " |-- CONT_DATE: decimal(38,18) (nullable = true)\n",
      " |-- CONT_DOY: decimal(38,18) (nullable = true)\n",
      " |-- CONT_TIME: string (nullable = true)\n",
      " |-- FIRE_SIZE: decimal(38,18) (nullable = true)\n",
      " |-- FIRE_SIZE_CLASS: string (nullable = true)\n",
      " |-- LATITUDE: decimal(38,18) (nullable = true)\n",
      " |-- LONGITUDE: decimal(38,18) (nullable = true)\n",
      " |-- OWNER_CODE: decimal(38,18) (nullable = true)\n",
      " |-- OWNER_DESCR: string (nullable = true)\n",
      " |-- STATE: string (nullable = true)\n",
      " |-- COUNTY: string (nullable = true)\n",
      " |-- FIPS_CODE: string (nullable = true)\n",
      " |-- FIPS_NAME: string (nullable = true)\n",
      " |-- Shape: decimal(38,18) (nullable = true)\n",
      "\n"
     ]
    }
   ],
   "source": [
    "df_spark.printSchema()"
   ]
  },
  {
   "cell_type": "code",
   "execution_count": 4,
   "id": "92f61ea2",
   "metadata": {
    "scrolled": false
   },
   "outputs": [
    {
     "name": "stdout",
     "output_type": "stream",
     "text": [
      "root\n",
      " |-- OBJECTID: integer (nullable = true)\n",
      " |-- FOD_ID: decimal(38,18) (nullable = true)\n",
      " |-- FPA_ID: string (nullable = true)\n",
      " |-- SOURCE_SYSTEM_TYPE: string (nullable = true)\n",
      " |-- SOURCE_SYSTEM: string (nullable = true)\n",
      " |-- NWCG_REPORTING_AGENCY: string (nullable = true)\n",
      " |-- NWCG_REPORTING_UNIT_ID: string (nullable = true)\n",
      " |-- NWCG_REPORTING_UNIT_NAME: string (nullable = true)\n",
      " |-- SOURCE_REPORTING_UNIT: string (nullable = true)\n",
      " |-- SOURCE_REPORTING_UNIT_NAME: string (nullable = true)\n",
      " |-- LOCAL_FIRE_REPORT_ID: string (nullable = true)\n",
      " |-- LOCAL_INCIDENT_ID: string (nullable = true)\n",
      " |-- FIRE_CODE: string (nullable = true)\n",
      " |-- FIRE_NAME: string (nullable = true)\n",
      " |-- ICS_209_INCIDENT_NUMBER: string (nullable = true)\n",
      " |-- ICS_209_NAME: string (nullable = true)\n",
      " |-- MTBS_ID: string (nullable = true)\n",
      " |-- MTBS_FIRE_NAME: string (nullable = true)\n",
      " |-- COMPLEX_NAME: string (nullable = true)\n",
      " |-- FIRE_YEAR: decimal(38,18) (nullable = true)\n",
      " |-- DISCOVERY_DATE: decimal(38,18) (nullable = true)\n",
      " |-- DISCOVERY_DOY: decimal(38,18) (nullable = true)\n",
      " |-- DISCOVERY_TIME: string (nullable = true)\n",
      " |-- STAT_CAUSE_CODE: decimal(38,18) (nullable = true)\n",
      " |-- STAT_CAUSE_DESCR: string (nullable = true)\n",
      " |-- CONT_DATE: decimal(38,18) (nullable = true)\n",
      " |-- CONT_DOY: decimal(38,18) (nullable = true)\n",
      " |-- CONT_TIME: string (nullable = true)\n",
      " |-- FIRE_SIZE: decimal(38,18) (nullable = true)\n",
      " |-- FIRE_SIZE_CLASS: string (nullable = true)\n",
      " |-- LATITUDE: decimal(38,18) (nullable = true)\n",
      " |-- LONGITUDE: decimal(38,18) (nullable = true)\n",
      " |-- OWNER_CODE: decimal(38,18) (nullable = true)\n",
      " |-- OWNER_DESCR: string (nullable = true)\n",
      " |-- STATE: string (nullable = true)\n",
      " |-- COUNTY: string (nullable = true)\n",
      " |-- FIPS_CODE: string (nullable = true)\n",
      " |-- FIPS_NAME: string (nullable = true)\n",
      " |-- Shape: decimal(38,18) (nullable = true)\n",
      "\n"
     ]
    }
   ],
   "source": [
    "df_spark.printSchema()"
   ]
  },
  {
   "cell_type": "code",
   "execution_count": 7,
   "id": "dcd38e35",
   "metadata": {},
   "outputs": [
    {
     "data": {
      "text/plain": [
       "['OBJECTID',\n",
       " 'FOD_ID',\n",
       " 'FPA_ID',\n",
       " 'SOURCE_SYSTEM_TYPE',\n",
       " 'SOURCE_SYSTEM',\n",
       " 'NWCG_REPORTING_AGENCY',\n",
       " 'NWCG_REPORTING_UNIT_ID',\n",
       " 'NWCG_REPORTING_UNIT_NAME',\n",
       " 'SOURCE_REPORTING_UNIT',\n",
       " 'SOURCE_REPORTING_UNIT_NAME',\n",
       " 'LOCAL_FIRE_REPORT_ID',\n",
       " 'LOCAL_INCIDENT_ID',\n",
       " 'FIRE_CODE',\n",
       " 'FIRE_NAME',\n",
       " 'ICS_209_INCIDENT_NUMBER',\n",
       " 'ICS_209_NAME',\n",
       " 'MTBS_ID',\n",
       " 'MTBS_FIRE_NAME',\n",
       " 'COMPLEX_NAME',\n",
       " 'FIRE_YEAR',\n",
       " 'DISCOVERY_DATE',\n",
       " 'DISCOVERY_DOY',\n",
       " 'DISCOVERY_TIME',\n",
       " 'STAT_CAUSE_CODE',\n",
       " 'STAT_CAUSE_DESCR',\n",
       " 'CONT_DATE',\n",
       " 'CONT_DOY',\n",
       " 'CONT_TIME',\n",
       " 'FIRE_SIZE',\n",
       " 'FIRE_SIZE_CLASS',\n",
       " 'LATITUDE',\n",
       " 'LONGITUDE',\n",
       " 'OWNER_CODE',\n",
       " 'OWNER_DESCR',\n",
       " 'STATE',\n",
       " 'COUNTY',\n",
       " 'FIPS_CODE',\n",
       " 'FIPS_NAME',\n",
       " 'Shape']"
      ]
     },
     "execution_count": 7,
     "metadata": {},
     "output_type": "execute_result"
    }
   ],
   "source": [
    "df_spark.columns"
   ]
  },
  {
   "cell_type": "code",
   "execution_count": 117,
   "id": "08adeeb7",
   "metadata": {},
   "outputs": [
    {
     "name": "stdout",
     "output_type": "stream",
     "text": [
      "root\n",
      " |-- LONGITUDE: decimal(38,18) (nullable = true)\n",
      " |-- LATITUDE: decimal(38,18) (nullable = true)\n",
      " |-- FIRE_SIZE: decimal(38,18) (nullable = true)\n",
      " |-- FIRE_SIZE_CLASS: string (nullable = true)\n",
      " |-- STATE: string (nullable = true)\n",
      " |-- FIRE_YEAR: decimal(38,18) (nullable = true)\n",
      " |-- DISCOVERY_DOY: decimal(38,18) (nullable = true)\n",
      " |-- CONT_DOY: decimal(38,18) (nullable = true)\n",
      " |-- STAT_CAUSE_DESCR: string (nullable = true)\n",
      " |-- STAT_CAUSE_CODE: decimal(38,18) (nullable = true)\n",
      " |-- DISCOVERY_TIME: string (nullable = true)\n",
      " |-- CONT_TIME: string (nullable = true)\n",
      "\n"
     ]
    }
   ],
   "source": [
    "df = df_spark.select('LONGITUDE', 'LATITUDE','FIRE_SIZE', 'FIRE_SIZE_CLASS',\\\n",
    "               'STATE','FIRE_YEAR', 'DISCOVERY_DOY', 'CONT_DOY',\\\n",
    "                'STAT_CAUSE_DESCR', 'STAT_CAUSE_CODE','DISCOVERY_TIME', 'CONT_TIME'\\\n",
    "               )\n",
    "df.printSchema()"
   ]
  },
  {
   "cell_type": "code",
   "execution_count": 7,
   "id": "86913c93",
   "metadata": {},
   "outputs": [
    {
     "name": "stdout",
     "output_type": "stream",
     "text": [
      "+--------------------+\n",
      "|     STAT_CAUSE_CODE|\n",
      "+--------------------+\n",
      "|1.000000000000000000|\n",
      "|3.000000000000000000|\n",
      "|12.00000000000000...|\n",
      "|4.000000000000000000|\n",
      "|10.00000000000000...|\n",
      "|11.00000000000000...|\n",
      "|2.000000000000000000|\n",
      "|13.00000000000000...|\n",
      "|9.000000000000000000|\n",
      "|8.000000000000000000|\n",
      "|6.000000000000000000|\n",
      "|7.000000000000000000|\n",
      "|5.000000000000000000|\n",
      "+--------------------+\n",
      "\n"
     ]
    }
   ],
   "source": [
    "df_spark.select('STAT_CAUSE_CODE').distinct().show()"
   ]
  },
  {
   "cell_type": "code",
   "execution_count": 118,
   "id": "cea34fed",
   "metadata": {},
   "outputs": [],
   "source": [
    "df = df.withColumn(\"FIRE_YEAR\", df.FIRE_YEAR.cast(\"integer\"))\n",
    "df = df.withColumn(\"DISCOVERY_DOY\", df.DISCOVERY_DOY.cast(\"integer\"))\n",
    "df = df.withColumn(\"CONT_DOY\", df.CONT_DOY.cast(\"integer\"))\n",
    "df = df.withColumn(\"STAT_CAUSE_CODE\", df.STAT_CAUSE_CODE.cast(\"integer\"))\n",
    "df = df.withColumn(\"FIRE_SIZE\", df.FIRE_SIZE.cast(\"double\"))\n"
   ]
  },
  {
   "cell_type": "code",
   "execution_count": 119,
   "id": "33bb30d4",
   "metadata": {},
   "outputs": [
    {
     "name": "stdout",
     "output_type": "stream",
     "text": [
      "+-----+---------+-------------+--------+----------------+---------------+--------------+---------+---------+\n",
      "|STATE|FIRE_YEAR|DISCOVERY_DOY|CONT_DOY|STAT_CAUSE_DESCR|STAT_CAUSE_CODE|DISCOVERY_TIME|CONT_TIME|FIRE_SIZE|\n",
      "+-----+---------+-------------+--------+----------------+---------------+--------------+---------+---------+\n",
      "|   CA|     2005|           33|      33|   Miscellaneous|              9|          1300|     1730|      0.1|\n",
      "|   CA|     2004|          133|     133|       Lightning|              1|          0845|     1530|     0.25|\n",
      "|   CA|     2004|          152|     152|  Debris Burning|              5|          1921|     2024|      0.1|\n",
      "|   CA|     2004|          180|     185|       Lightning|              1|          1600|     1400|      0.1|\n",
      "|   CA|     2004|          180|     185|       Lightning|              1|          1600|     1200|      0.1|\n",
      "|   CA|     2004|          182|     183|       Lightning|              1|          1800|     1600|      0.1|\n",
      "|   CA|     2004|          183|     184|       Lightning|              1|          1800|     1400|      0.1|\n",
      "|   CA|     2005|           67|      67|  Debris Burning|              5|          1300|     1600|      0.8|\n",
      "|   CA|     2005|           74|      74|  Debris Burning|              5|          1200|     1700|      1.0|\n",
      "|   CA|     2004|          183|     184|       Lightning|              1|          1800|     1800|      0.1|\n",
      "|   CA|     2004|          184|     185|       Lightning|              1|          1830|     1900|      0.1|\n",
      "|   CA|     2004|          184|     185|       Lightning|              1|          1730|     2000|      0.1|\n",
      "|   CA|     2004|          247|     247|   Miscellaneous|              9|          1600|     1630|      0.1|\n",
      "|   CA|     2004|          272|     272|        Campfire|              4|          1200|     1800|      6.0|\n",
      "|   CA|     2004|          277|     277|       Lightning|              1|          0630|     1500|      0.2|\n",
      "|   CA|     2004|          277|     277|       Lightning|              1|          0930|     1400|      0.1|\n",
      "|   CA|     2004|          280|     295|   Equipment Use|              2|          1415|     1000|  16823.0|\n",
      "|   CA|     2004|          287|     291|   Equipment Use|              2|          1618|     1800|   7700.0|\n",
      "|   CA|     2004|          325|     326|  Debris Burning|              5|          2000|     1630|      0.1|\n",
      "|   NM|     2004|          156|     156|       Lightning|              1|          1030|     1400|      0.1|\n",
      "+-----+---------+-------------+--------+----------------+---------------+--------------+---------+---------+\n",
      "only showing top 20 rows\n",
      "\n"
     ]
    }
   ],
   "source": [
    "df.select('STATE','FIRE_YEAR', 'DISCOVERY_DOY', 'CONT_DOY',\\\n",
    "                'STAT_CAUSE_DESCR', 'STAT_CAUSE_CODE','DISCOVERY_TIME', 'CONT_TIME', 'FIRE_SIZE').show()\n",
    "\n"
   ]
  },
  {
   "cell_type": "code",
   "execution_count": 71,
   "id": "77a6fb3b",
   "metadata": {},
   "outputs": [
    {
     "name": "stdout",
     "output_type": "stream",
     "text": [
      "+--------------------+--------------------+--------------------+---------------+\n",
      "|           LONGITUDE|            LATITUDE|           FIRE_SIZE|FIRE_SIZE_CLASS|\n",
      "+--------------------+--------------------+--------------------+---------------+\n",
      "|-121.005833330000...|40.03694444000000...|0.100000000000000000|              A|\n",
      "|-120.404444440000...|38.93305556000000...|0.250000000000000000|              A|\n",
      "|-120.735555560000...|38.98416667000000...|0.100000000000000000|              A|\n",
      "|-119.913333330000...|38.55916667000000...|0.100000000000000000|              A|\n",
      "|-119.933055560000...|38.55916667000000...|0.100000000000000000|              A|\n",
      "|-120.103611110000...|38.63527778000000...|0.100000000000000000|              A|\n",
      "|-120.153333330000...|38.68833333000000...|0.100000000000000000|              A|\n",
      "|-122.433888890000...|40.96805556000000...|0.800000000000000000|              B|\n",
      "|-122.283333330000...|41.23361111000000...|1.000000000000000000|              B|\n",
      "|-120.149166670000...|38.54833333000000...|0.100000000000000000|              A|\n",
      "|-120.159722220000...|38.69166667000000...|0.100000000000000000|              A|\n",
      "|-120.106111110000...|38.52750000000000...|0.100000000000000000|              A|\n",
      "|-120.193333330000...|38.78666667000000...|0.100000000000000000|              A|\n",
      "|-120.510000000000...|38.43333333000000...|6.000000000000000000|              B|\n",
      "|-120.279722220000...|38.67583333000000...|0.200000000000000000|              A|\n",
      "|-120.542222220000...|38.56416667000000...|0.100000000000000000|              A|\n",
      "|-120.211666670000...|38.52333333000000...|16823.00000000000...|              G|\n",
      "|-120.260000000000...|38.78000000000000...|7700.000000000000...|              G|\n",
      "|-120.411666670000...|38.94500000000000...|0.100000000000000000|              A|\n",
      "|-105.720555560000...|33.44083333000000...|0.100000000000000000|              A|\n",
      "+--------------------+--------------------+--------------------+---------------+\n",
      "only showing top 20 rows\n",
      "\n"
     ]
    }
   ],
   "source": [
    "df_spark.select('LONGITUDE', 'LATITUDE','FIRE_SIZE', 'FIRE_SIZE_CLASS').show()\n"
   ]
  },
  {
   "cell_type": "code",
   "execution_count": 73,
   "id": "6c5a347b",
   "metadata": {
    "scrolled": true
   },
   "outputs": [
    {
     "name": "stdout",
     "output_type": "stream",
     "text": [
      "root\n",
      " |-- LONGITUDE: decimal(38,18) (nullable = true)\n",
      " |-- LATITUDE: decimal(38,18) (nullable = true)\n",
      " |-- FIRE_SIZE: decimal(38,18) (nullable = true)\n",
      " |-- FIRE_SIZE_CLASS: string (nullable = true)\n",
      " |-- STATE: string (nullable = true)\n",
      " |-- FIRE_YEAR: integer (nullable = true)\n",
      " |-- DISCOVERY_DOY: integer (nullable = true)\n",
      " |-- CONT_DOY: integer (nullable = true)\n",
      " |-- STAT_CAUSE_DESCR: string (nullable = true)\n",
      " |-- STAT_CAUSE_CODE: integer (nullable = true)\n",
      " |-- DISCOVERY_TIME: string (nullable = true)\n",
      " |-- CONT_TIME: string (nullable = true)\n",
      "\n"
     ]
    }
   ],
   "source": [
    "df.printSchema()"
   ]
  },
  {
   "cell_type": "markdown",
   "id": "c8832ecb",
   "metadata": {},
   "source": [
    "# Let's see the task as a classification task\n",
    "\n",
    "+ meaning I will choose the fire size class as the target variable rather the the fire size in acres.\n",
    "+ I chose STAT_CAUSE_CODE rather than STAT_CAUSE_DESCR, so I will not need to perform encoding. at least for this attribute\n",
    "+ For now, I will exclude DISCOVERY_TIME and CONT_TIME\n",
    "+ I will keep DISCOVERY_DOY becasue it may be useful in terms of predicting fire size like the day of the year the fire occured may be related to the size of fire like in terms of weather temperature\n",
    "+ I will keep CONT_DOY becasue it may be useful in terms of predicting fire size like the larger the fire the more time it may take to control the fire\n"
   ]
  },
  {
   "cell_type": "code",
   "execution_count": 6,
   "id": "45a200cf",
   "metadata": {},
   "outputs": [],
   "source": [
    "my_df = df.select('LONGITUDE', 'LATITUDE', 'FIRE_SIZE_CLASS',\\\n",
    "               'STATE','FIRE_YEAR', 'DISCOVERY_DOY', 'CONT_DOY',\\\n",
    "                'STAT_CAUSE_CODE'\\\n",
    "               )"
   ]
  },
  {
   "cell_type": "code",
   "execution_count": 10,
   "id": "f45c08a6",
   "metadata": {
    "scrolled": false
   },
   "outputs": [
    {
     "name": "stdout",
     "output_type": "stream",
     "text": [
      "+--------------------+--------------------+---------------+-----+---------+-------------+--------+---------------+\n",
      "|           LONGITUDE|            LATITUDE|FIRE_SIZE_CLASS|STATE|FIRE_YEAR|DISCOVERY_DOY|CONT_DOY|STAT_CAUSE_CODE|\n",
      "+--------------------+--------------------+---------------+-----+---------+-------------+--------+---------------+\n",
      "|-121.005833330000...|40.03694444000000...|              A|   CA|     2005|           33|      33|              9|\n",
      "|-120.404444440000...|38.93305556000000...|              A|   CA|     2004|          133|     133|              1|\n",
      "|-120.735555560000...|38.98416667000000...|              A|   CA|     2004|          152|     152|              5|\n",
      "|-119.913333330000...|38.55916667000000...|              A|   CA|     2004|          180|     185|              1|\n",
      "|-119.933055560000...|38.55916667000000...|              A|   CA|     2004|          180|     185|              1|\n",
      "|-120.103611110000...|38.63527778000000...|              A|   CA|     2004|          182|     183|              1|\n",
      "|-120.153333330000...|38.68833333000000...|              A|   CA|     2004|          183|     184|              1|\n",
      "|-122.433888890000...|40.96805556000000...|              B|   CA|     2005|           67|      67|              5|\n",
      "|-122.283333330000...|41.23361111000000...|              B|   CA|     2005|           74|      74|              5|\n",
      "|-120.149166670000...|38.54833333000000...|              A|   CA|     2004|          183|     184|              1|\n",
      "|-120.159722220000...|38.69166667000000...|              A|   CA|     2004|          184|     185|              1|\n",
      "|-120.106111110000...|38.52750000000000...|              A|   CA|     2004|          184|     185|              1|\n",
      "|-120.193333330000...|38.78666667000000...|              A|   CA|     2004|          247|     247|              9|\n",
      "|-120.510000000000...|38.43333333000000...|              B|   CA|     2004|          272|     272|              4|\n",
      "|-120.279722220000...|38.67583333000000...|              A|   CA|     2004|          277|     277|              1|\n",
      "|-120.542222220000...|38.56416667000000...|              A|   CA|     2004|          277|     277|              1|\n",
      "|-120.211666670000...|38.52333333000000...|              G|   CA|     2004|          280|     295|              2|\n",
      "|-120.260000000000...|38.78000000000000...|              G|   CA|     2004|          287|     291|              2|\n",
      "|-120.411666670000...|38.94500000000000...|              A|   CA|     2004|          325|     326|              5|\n",
      "|-105.720555560000...|33.44083333000000...|              A|   NM|     2004|          156|     156|              1|\n",
      "+--------------------+--------------------+---------------+-----+---------+-------------+--------+---------------+\n",
      "only showing top 20 rows\n",
      "\n"
     ]
    }
   ],
   "source": [
    "my_df.show()"
   ]
  },
  {
   "cell_type": "code",
   "execution_count": 120,
   "id": "8bae6773",
   "metadata": {},
   "outputs": [
    {
     "name": "stdout",
     "output_type": "stream",
     "text": [
      "root\n",
      " |-- LONGITUDE: decimal(38,18) (nullable = true)\n",
      " |-- LATITUDE: decimal(38,18) (nullable = true)\n",
      " |-- FIRE_SIZE_CLASS: string (nullable = true)\n",
      " |-- STATE: string (nullable = true)\n",
      " |-- FIRE_YEAR: integer (nullable = true)\n",
      " |-- DISCOVERY_DOY: integer (nullable = true)\n",
      " |-- CONT_DOY: integer (nullable = true)\n",
      " |-- STAT_CAUSE_CODE: integer (nullable = true)\n",
      "\n"
     ]
    }
   ],
   "source": [
    "my_df.printSchema()"
   ]
  },
  {
   "cell_type": "code",
   "execution_count": 121,
   "id": "a4384b9b",
   "metadata": {},
   "outputs": [
    {
     "name": "stderr",
     "output_type": "stream",
     "text": [
      "\r",
      "[Stage 81:>                                                         (0 + 1) / 1]\r"
     ]
    },
    {
     "name": "stdout",
     "output_type": "stream",
     "text": [
      "+---------------+\n",
      "|FIRE_SIZE_CLASS|\n",
      "+---------------+\n",
      "|              F|\n",
      "|              E|\n",
      "|              B|\n",
      "|              D|\n",
      "|              C|\n",
      "|              A|\n",
      "|              G|\n",
      "+---------------+\n",
      "\n"
     ]
    },
    {
     "name": "stderr",
     "output_type": "stream",
     "text": [
      "\r",
      "                                                                                \r"
     ]
    }
   ],
   "source": [
    "my_df.select('FIRE_SIZE_CLASS').distinct().show()"
   ]
  },
  {
   "cell_type": "code",
   "execution_count": 9,
   "id": "12bfafd8",
   "metadata": {},
   "outputs": [
    {
     "name": "stdout",
     "output_type": "stream",
     "text": [
      "+---------+--------+---------------+-----+---------+-------------+--------+---------------+\n",
      "|LONGITUDE|LATITUDE|FIRE_SIZE_CLASS|STATE|FIRE_YEAR|DISCOVERY_DOY|CONT_DOY|STAT_CAUSE_CODE|\n",
      "+---------+--------+---------------+-----+---------+-------------+--------+---------------+\n",
      "|        0|       0|              0|    0|        0|            0|  891531|              0|\n",
      "+---------+--------+---------------+-----+---------+-------------+--------+---------------+\n",
      "\n"
     ]
    }
   ],
   "source": [
    "null_counts = my_df.select([sum(col(c).isNull().cast(\"int\")).alias(c) for c in my_df.columns])\n",
    "\n",
    "null_counts.show()\n"
   ]
  },
  {
   "cell_type": "markdown",
   "id": "c6b6d535",
   "metadata": {},
   "source": [
    "# SO for now let's exclude CONT_DOY column which contains null values\n",
    "\n",
    "later I will retrain the model using these column where dropping the null vals"
   ]
  },
  {
   "cell_type": "markdown",
   "id": "5aea0c1a",
   "metadata": {},
   "source": [
    "# Let's also exclude long and lat for now"
   ]
  },
  {
   "cell_type": "code",
   "execution_count": 120,
   "id": "b8f585e9",
   "metadata": {},
   "outputs": [],
   "source": [
    "df_final = df.select('FIRE_SIZE',\\\n",
    "               'STATE','FIRE_YEAR', 'DISCOVERY_DOY',\\\n",
    "                'STAT_CAUSE_CODE'\\\n",
    "               )"
   ]
  },
  {
   "cell_type": "code",
   "execution_count": 7,
   "id": "cfbf62fa",
   "metadata": {},
   "outputs": [],
   "source": [
    "df_final = df.select('FIRE_SIZE_CLASS',\\\n",
    "               'STATE','FIRE_YEAR', 'DISCOVERY_DOY',\\\n",
    "                'STAT_CAUSE_CODE'\\\n",
    "               )"
   ]
  },
  {
   "cell_type": "code",
   "execution_count": 135,
   "id": "e66caab4",
   "metadata": {
    "scrolled": false
   },
   "outputs": [
    {
     "name": "stdout",
     "output_type": "stream",
     "text": [
      "+---------+-----+---------+-------------+---------------+\n",
      "|FIRE_SIZE|STATE|FIRE_YEAR|DISCOVERY_DOY|STAT_CAUSE_CODE|\n",
      "+---------+-----+---------+-------------+---------------+\n",
      "|      0.1|   CA|     2005|           33|              9|\n",
      "|     0.25|   CA|     2004|          133|              1|\n",
      "|      0.1|   CA|     2004|          152|              5|\n",
      "|      0.1|   CA|     2004|          180|              1|\n",
      "|      0.1|   CA|     2004|          180|              1|\n",
      "|      0.1|   CA|     2004|          182|              1|\n",
      "|      0.1|   CA|     2004|          183|              1|\n",
      "|      0.8|   CA|     2005|           67|              5|\n",
      "|      1.0|   CA|     2005|           74|              5|\n",
      "|      0.1|   CA|     2004|          183|              1|\n",
      "|      0.1|   CA|     2004|          184|              1|\n",
      "|      0.1|   CA|     2004|          184|              1|\n",
      "|      0.1|   CA|     2004|          247|              9|\n",
      "|      6.0|   CA|     2004|          272|              4|\n",
      "|      0.2|   CA|     2004|          277|              1|\n",
      "|      0.1|   CA|     2004|          277|              1|\n",
      "|  16823.0|   CA|     2004|          280|              2|\n",
      "|   7700.0|   CA|     2004|          287|              2|\n",
      "|      0.1|   CA|     2004|          325|              5|\n",
      "|      0.1|   NM|     2004|          156|              1|\n",
      "+---------+-----+---------+-------------+---------------+\n",
      "only showing top 20 rows\n",
      "\n"
     ]
    }
   ],
   "source": [
    "df_final.show()"
   ]
  },
  {
   "cell_type": "code",
   "execution_count": 134,
   "id": "eea57a64",
   "metadata": {},
   "outputs": [
    {
     "data": {
      "text/plain": [
       "1880465"
      ]
     },
     "execution_count": 134,
     "metadata": {},
     "output_type": "execute_result"
    }
   ],
   "source": [
    "df_final.count()"
   ]
  },
  {
   "cell_type": "code",
   "execution_count": 53,
   "id": "91e4ffd1",
   "metadata": {
    "scrolled": true
   },
   "outputs": [
    {
     "name": "stdout",
     "output_type": "stream",
     "text": [
      "+---------------+------+\n",
      "|FIRE_SIZE_CLASS| count|\n",
      "+---------------+------+\n",
      "|              F|  7786|\n",
      "|              E| 14107|\n",
      "|              B|939376|\n",
      "|              D| 28427|\n",
      "|              C|220077|\n",
      "|              A|666919|\n",
      "|              G|  3773|\n",
      "+---------------+------+\n",
      "\n"
     ]
    }
   ],
   "source": [
    "df_final.groupBy('FIRE_SIZE_CLASS').count().show()"
   ]
  },
  {
   "cell_type": "code",
   "execution_count": 26,
   "id": "5a576767",
   "metadata": {},
   "outputs": [
    {
     "data": {
      "text/plain": [
       "1606295"
      ]
     },
     "execution_count": 26,
     "metadata": {},
     "output_type": "execute_result"
    }
   ],
   "source": [
    "939376 + 666919"
   ]
  },
  {
   "cell_type": "code",
   "execution_count": 132,
   "id": "09d46cf1",
   "metadata": {},
   "outputs": [
    {
     "name": "stdout",
     "output_type": "stream",
     "text": [
      "+--------------------+-----------------+\n",
      "|     STAT_CAUSE_CODE| STAT_CAUSE_DESCR|\n",
      "+--------------------+-----------------+\n",
      "|3.000000000000000000|          Smoking|\n",
      "|13.00000000000000...|Missing/Undefined|\n",
      "|4.000000000000000000|         Campfire|\n",
      "|5.000000000000000000|   Debris Burning|\n",
      "|12.00000000000000...|        Structure|\n",
      "|7.000000000000000000|            Arson|\n",
      "|6.000000000000000000|         Railroad|\n",
      "|2.000000000000000000|    Equipment Use|\n",
      "|8.000000000000000000|         Children|\n",
      "|10.00000000000000...|        Fireworks|\n",
      "|11.00000000000000...|        Powerline|\n",
      "|1.000000000000000000|        Lightning|\n",
      "|9.000000000000000000|    Miscellaneous|\n",
      "+--------------------+-----------------+\n",
      "\n"
     ]
    }
   ],
   "source": [
    "df_spark.select('STAT_CAUSE_CODE', 'STAT_CAUSE_DESCR').distinct().show()"
   ]
  },
  {
   "cell_type": "code",
   "execution_count": 130,
   "id": "7585e675",
   "metadata": {
    "scrolled": true
   },
   "outputs": [
    {
     "data": {
      "text/plain": [
       "5     22.814995\n",
       "9     17.219411\n",
       "7     14.967309\n",
       "1     14.808465\n",
       "13     8.866052\n",
       "2      7.849761\n",
       "4      4.048945\n",
       "8      3.252759\n",
       "3      2.811485\n",
       "6      1.779081\n",
       "11     0.768321\n",
       "10     0.611551\n",
       "12     0.201865\n",
       "Name: STAT_CAUSE_CODE, dtype: float64"
      ]
     },
     "execution_count": 130,
     "metadata": {},
     "output_type": "execute_result"
    }
   ],
   "source": [
    "df_final.toPandas()['STAT_CAUSE_CODE'].value_counts(normalize=True)*100"
   ]
  },
  {
   "cell_type": "code",
   "execution_count": 62,
   "id": "94d2d93b",
   "metadata": {
    "scrolled": true
   },
   "outputs": [
    {
     "data": {
      "text/plain": [
       "B    49.954453\n",
       "A    35.465643\n",
       "C    11.703329\n",
       "D     1.511701\n",
       "E     0.750187\n",
       "F     0.414047\n",
       "G     0.200642\n",
       "Name: FIRE_SIZE_CLASS, dtype: float64"
      ]
     },
     "execution_count": 62,
     "metadata": {},
     "output_type": "execute_result"
    }
   ],
   "source": [
    "df_final.toPandas()['FIRE_SIZE_CLASS'].value_counts(normalize=True)*100"
   ]
  },
  {
   "cell_type": "markdown",
   "id": "23c947b3",
   "metadata": {},
   "source": [
    "# so data is so imbalanced"
   ]
  },
  {
   "cell_type": "code",
   "execution_count": 4,
   "id": "609f4a18",
   "metadata": {},
   "outputs": [],
   "source": [
    "def data_reader(df_spark):\n",
    "    \n",
    "    selected_col = ['LONGITUDE', 'LATITUDE','FIRE_SIZE', 'FIRE_SIZE_CLASS',\\\n",
    "               'STATE','FIRE_YEAR', 'DISCOVERY_DOY', \\\n",
    "                'STAT_CAUSE_CODE','DISCOVERY_TIME', 'CONT_TIME'] # 'CONT_DOY',\n",
    "    \n",
    "    df = df_spark.select(selected_col)\n",
    "    \n",
    "    df = df.withColumn(\"FIRE_SIZE\", df.FIRE_SIZE.cast(\"double\"))\n",
    "    df = df.withColumn(\"FIRE_YEAR\", df.FIRE_YEAR.cast(\"integer\"))\n",
    "    df = df.withColumn(\"DISCOVERY_DOY\", df.DISCOVERY_DOY.cast(\"integer\"))\n",
    "    #df = df.withColumn(\"CONT_DOY\", df.CONT_DOY.cast(\"integer\"))\n",
    "    df = df.withColumn(\"STAT_CAUSE_CODE\", df.STAT_CAUSE_CODE.cast(\"integer\"))\n",
    "\n",
    "    return df"
   ]
  },
  {
   "cell_type": "code",
   "execution_count": 13,
   "id": "f80bcbdb",
   "metadata": {},
   "outputs": [
    {
     "name": "stdout",
     "output_type": "stream",
     "text": [
      "+---------+--------+---------+---------------+-----+---------+-------------+---------------+--------------+---------+\n",
      "|LONGITUDE|LATITUDE|FIRE_SIZE|FIRE_SIZE_CLASS|STATE|FIRE_YEAR|DISCOVERY_DOY|STAT_CAUSE_CODE|DISCOVERY_TIME|CONT_TIME|\n",
      "+---------+--------+---------+---------------+-----+---------+-------------+---------------+--------------+---------+\n",
      "|        0|       0|        0|              0|    0|        0|            0|              0|        882638|   972173|\n",
      "+---------+--------+---------+---------------+-----+---------+-------------+---------------+--------------+---------+\n",
      "\n"
     ]
    }
   ],
   "source": [
    "df = data_reader(df_spark)\n",
    "df.select([sum(col(c).isNull().cast('int')).alias(c) for c in df.columns]).show()\n",
    "\n"
   ]
  },
  {
   "cell_type": "code",
   "execution_count": null,
   "id": "62f9dc64",
   "metadata": {},
   "outputs": [],
   "source": []
  },
  {
   "cell_type": "code",
   "execution_count": 5,
   "id": "f282d222",
   "metadata": {
    "code_folding": []
   },
   "outputs": [],
   "source": [
    "def classifier_data_prep_1 (label, df):\n",
    "    desired_cols = ['FIRE_SIZE_CLASS',\\\n",
    "               'STATE','FIRE_YEAR', 'DISCOVERY_DOY',\\\n",
    "                'STAT_CAUSE_CODE']\n",
    "   \n",
    "#     desired_cols = ['FIRE_SIZE',\\\n",
    "#                'STATE','FIRE_YEAR', 'DISCOVERY_DOY',\\\n",
    "#                 'STAT_CAUSE_CODE']\n",
    "    \n",
    "    \n",
    "    df_final =  df.select(desired_cols)\n",
    "    \n",
    "    outputCol = label + '_index'\n",
    "    indexer = label + '_indexer'\n",
    "    indexer = StringIndexer(inputCol=label, outputCol=outputCol)\n",
    "    #FIRE_SIZE_CLASS_indexer = StringIndexer(inputCol='FIRE_SIZE_CLASS', outputCol='FIRE_SIZE_CLASS_Index')\n",
    "    \n",
    "    indexed_df = indexer.fit(df_final).transform(df_final)\n",
    "    #FIRE_SIZE_CLASS_indexed = FIRE_SIZE_CLASS_indexer.fit(df_final).transform(df_final)\n",
    "\n",
    "    STATE_indexer = StringIndexer(inputCol='STATE', outputCol='STATE_Index')\n",
    "\n",
    "    inputCols = [ 'STATE_Index','FIRE_YEAR', 'DISCOVERY_DOY',\n",
    "                                      'STAT_CAUSE_CODE']\n",
    "    \n",
    "#     inputCols = [ 'STATE_Index','FIRE_YEAR', 'DISCOVERY_DOY',\n",
    "#                                       'FIRE_SIZE']\n",
    "    \n",
    "    assembler = VectorAssembler(inputCols=inputCols, outputCol='features')\n",
    "    \n",
    "    \n",
    "    return STATE_indexer, assembler, indexed_df, outputCol\n",
    "    "
   ]
  },
  {
   "cell_type": "code",
   "execution_count": 56,
   "id": "2e21ee7c",
   "metadata": {},
   "outputs": [],
   "source": [
    "def logistic_reg_classifier_1 (df, label):\n",
    "    \n",
    "    STATE_indexer, assembler, label_indexed_df, outputCol = classifier_data_prep (label, df)\n",
    "    \n",
    "    \n",
    "    log_reg_model = LogisticRegression(featuresCol='features', labelCol=outputCol, family=\"multinomial\")\n",
    "    #log_reg_model = LogisticRegression(featuresCol='features', labelCol='FIRE_SIZE_CLASS_Index')\n",
    "\n",
    "    pipeline = Pipeline(stages=[STATE_indexer, assembler, log_reg_model])\n",
    "\n",
    "    #train_data, test_data = FIRE_SIZE_CLASS_indexed.randomSplit([0.7, 0.3])\n",
    "    train_data, test_data = label_indexed_df.randomSplit([0.7, 0.3])\n",
    "\n",
    "    fit_model = pipeline.fit(train_data)\n",
    "    \n",
    "    predictions = fit_model.transform(test_data)\n",
    "    \n",
    "    #evaluator = MulticlassClassificationEvaluator(labelCol=\"FIRE_SIZE_CLASS_Index\", metricName=\"accuracy\")\n",
    "    evaluator = MulticlassClassificationEvaluator(labelCol=outputCol, metricName=\"accuracy\")\n",
    "\n",
    "    accuracy = evaluator.evaluate(predictions)\n",
    "    \n",
    "    evaluator = MulticlassClassificationEvaluator(labelCol=outputCol, metricName=\"f1\")\n",
    "    f_1_score = evaluator.evaluate(predictions)\n",
    "\n",
    "    evaluator = MulticlassClassificationEvaluator(labelCol=outputCol, metricName=\"weightedPrecision\")\n",
    "    weighted_Precision = evaluator.evaluate(predictions)\n",
    "    \n",
    "    evaluator = MulticlassClassificationEvaluator(labelCol=outputCol, metricName=\"weightedRecall\")\n",
    "    weighted_Recall = evaluator.evaluate(predictions)\n",
    "    \n",
    "    # Compute confusion matrix\n",
    "    predictionAndLabels = predictions.select(\"prediction\", outputCol)\n",
    "    confusionMatrix = predictionAndLabels.groupBy(outputCol, \"prediction\").count()\n",
    "\n",
    "    # Collect the confusion matrix into a Pandas DataFrame\n",
    "    confusionMatrix = confusionMatrix.toPandas()\n",
    "\n",
    "    # Pivot the confusion matrix\n",
    "    confusionMatrix = confusionMatrix.pivot(index=outputCol, columns=\"prediction\", values=\"count\").fillna(0)\n",
    "\n",
    "    return accuracy, f_1_score, weighted_Precision, weighted_Recall, confusionMatrix\n",
    "    #return predictions.select('prediction', 'FIRE_SIZE_CLASS_Index'), accuracy, f_1_score, weighted_Precision, weighted_Recall,confusionMatrix \n"
   ]
  },
  {
   "cell_type": "code",
   "execution_count": 77,
   "id": "12a9da42",
   "metadata": {
    "code_folding": []
   },
   "outputs": [],
   "source": [
    "from pyspark.ml.feature import StringIndexer, VectorAssembler, StandardScaler\n",
    "from pyspark.ml.classification import LogisticRegression\n",
    "from pyspark.ml import Pipeline\n",
    "from pyspark.ml.evaluation import MulticlassClassificationEvaluator\n",
    "import pandas as pd\n",
    "\n",
    "def classifier_data_prep_2(label, df):\n",
    "    desired_cols = ['FIRE_SIZE_CLASS', 'STATE', 'FIRE_YEAR', 'DISCOVERY_DOY', 'STAT_CAUSE_CODE']\n",
    "\n",
    "    df_final = df.select(desired_cols)\n",
    "\n",
    "    outputCol = label + '_index'\n",
    "    indexer = label + '_indexer'\n",
    "    indexer = StringIndexer(inputCol=label, outputCol=outputCol)\n",
    "\n",
    "    indexed_df = indexer.fit(df_final).transform(df_final)\n",
    "\n",
    "    STATE_indexer = StringIndexer(inputCol='STATE', outputCol='STATE_Index')\n",
    "\n",
    "    inputCols = ['STATE_Index', 'FIRE_YEAR', 'DISCOVERY_DOY', 'STAT_CAUSE_CODE']\n",
    "\n",
    "    assembler = VectorAssembler(inputCols=inputCols, outputCol='raw_features')\n",
    "\n",
    "    scaler = StandardScaler(inputCol='raw_features', outputCol='features', withMean=True, withStd=True)\n",
    "\n",
    "    return STATE_indexer, assembler, scaler, indexed_df, outputCol\n",
    "\n",
    "\n",
    "def logistic_reg_classifier_2(df, label):\n",
    "    STATE_indexer, assembler, scaler, label_indexed_df, outputCol = classifier_data_prep_2(label, df)\n",
    "\n",
    "    log_reg_model = LogisticRegression(featuresCol='features', labelCol=outputCol, family=\"multinomial\")\n",
    "\n",
    "    pipeline = Pipeline(stages=[STATE_indexer, assembler, scaler, log_reg_model])\n",
    "\n",
    "    train_data, test_data = label_indexed_df.randomSplit([0.7, 0.3])\n",
    "\n",
    "    fit_model = pipeline.fit(train_data)\n",
    "\n",
    "    predictions = fit_model.transform(test_data)\n",
    "\n",
    "    evaluator = MulticlassClassificationEvaluator(labelCol=outputCol, metricName=\"accuracy\")\n",
    "    accuracy = evaluator.evaluate(predictions)\n",
    "\n",
    "    evaluator = MulticlassClassificationEvaluator(labelCol=outputCol, metricName=\"f1\")\n",
    "    f1_score = evaluator.evaluate(predictions)\n",
    "\n",
    "    evaluator = MulticlassClassificationEvaluator(labelCol=outputCol, metricName=\"weightedPrecision\")\n",
    "    weighted_precision = evaluator.evaluate(predictions)\n",
    "\n",
    "    evaluator = MulticlassClassificationEvaluator(labelCol=outputCol, metricName=\"weightedRecall\")\n",
    "    weighted_recall = evaluator.evaluate(predictions)\n",
    "\n",
    "    # Compute confusion matrix\n",
    "    predictionAndLabels = predictions.select(\"prediction\", outputCol)\n",
    "    confusionMatrix = predictionAndLabels.groupBy(outputCol, \"prediction\").count()\n",
    "\n",
    "    # Collect the confusion matrix into a Pandas DataFrame\n",
    "    confusionMatrix = confusionMatrix.toPandas()\n",
    "\n",
    "    # Pivot the confusion matrix\n",
    "    confusionMatrix = confusionMatrix.pivot(index=outputCol, columns=\"prediction\", values=\"count\").fillna(0)\n",
    "\n",
    "    return train_data\n",
    "    #return accuracy, f1_score, weighted_precision, weighted_recall, confusionMatrix\n"
   ]
  },
  {
   "cell_type": "code",
   "execution_count": 78,
   "id": "8bd69274",
   "metadata": {},
   "outputs": [],
   "source": [
    "train_data= logistic_reg_classifier_2(my_df, 'FIRE_SIZE_CLASS')\n"
   ]
  },
  {
   "cell_type": "code",
   "execution_count": 79,
   "id": "6434de2c",
   "metadata": {},
   "outputs": [
    {
     "name": "stdout",
     "output_type": "stream",
     "text": [
      "+---------------+-----+---------+-------------+---------------+---------------------+-----------+--------------------+--------------------+--------------------+--------------------+----------+\n",
      "|FIRE_SIZE_CLASS|STATE|FIRE_YEAR|DISCOVERY_DOY|STAT_CAUSE_CODE|FIRE_SIZE_CLASS_index|STATE_Index|        raw_features|            features|       rawPrediction|         probability|prediction|\n",
      "+---------------+-----+---------+-------------+---------------+---------------------+-----------+--------------------+--------------------+--------------------+--------------------+----------+\n",
      "|              A|   AK|     1992|           95|              3|                  1.0|       34.0|[34.0,1992.0,95.0...|[2.16706771983551...|[2.38673316001936...|[0.45534233112977...|       0.0|\n",
      "|              A|   AK|     1992|           97|              9|                  1.0|       34.0|[34.0,1992.0,97.0...|[2.16706771983551...|[2.84644991005862...|[0.51005711664664...|       0.0|\n",
      "|              A|   AK|     1992|          112|             12|                  1.0|       34.0|[34.0,1992.0,112....|[2.16706771983551...|[3.05502735869863...|[0.53060431786493...|       0.0|\n",
      "|              A|   AK|     1992|          117|              5|                  1.0|       34.0|[34.0,1992.0,117....|[2.16706771983551...|[2.50754399840636...|[0.46533731546086...|       0.0|\n",
      "|              A|   AK|     1992|          118|              5|                  1.0|       34.0|[34.0,1992.0,118....|[2.16706771983551...|[2.50602393223639...|[0.46491259083324...|       0.0|\n",
      "|              A|   AK|     1992|          118|              9|                  1.0|       34.0|[34.0,1992.0,118....|[2.16706771983551...|[2.81452852048919...|[0.50207206496034...|       0.0|\n",
      "|              A|   AK|     1992|          119|              5|                  1.0|       34.0|[34.0,1992.0,119....|[2.16706771983551...|[2.50450386606642...|[0.46448706717527...|       0.0|\n",
      "|              A|   AK|     1992|          125|              5|                  1.0|       34.0|[34.0,1992.0,125....|[2.16706771983551...|[2.49538346904658...|[0.46191726681649...|       0.0|\n",
      "|              A|   AK|     1992|          125|              5|                  1.0|       34.0|[34.0,1992.0,125....|[2.16706771983551...|[2.49538346904658...|[0.46191726681649...|       0.0|\n",
      "|              A|   AK|     1992|          125|              8|                  1.0|       34.0|[34.0,1992.0,125....|[2.16706771983551...|[2.72676191023618...|[0.49018162252662...|       0.0|\n",
      "|              A|   AK|     1992|          126|              7|                  1.0|       34.0|[34.0,1992.0,126....|[2.16706771983551...|[2.64811569700301...|[0.48048902032705...|       0.0|\n",
      "|              A|   AK|     1992|          131|              4|                  1.0|       34.0|[34.0,1992.0,131....|[2.16706771983551...|[2.40913692496354...|[0.44955355394934...|       0.0|\n",
      "|              A|   AK|     1992|          131|              8|                  1.0|       34.0|[34.0,1992.0,131....|[2.16706771983551...|[2.71764151321634...|[0.48773388593410...|       0.0|\n",
      "|              A|   AK|     1992|          137|              4|                  1.0|       34.0|[34.0,1992.0,137....|[2.16706771983551...|[2.40001652794370...|[0.44688404142179...|       0.0|\n",
      "|              A|   AK|     1992|          137|             12|                  1.0|       34.0|[34.0,1992.0,137....|[2.16706771983551...|[3.01702570444931...|[0.52144784965892...|       0.0|\n",
      "|              A|   AK|     1992|          138|              5|                  1.0|       34.0|[34.0,1992.0,138....|[2.16706771983551...|[2.47562260883693...|[0.45625322740401...|       0.0|\n",
      "|              A|   AK|     1992|          140|              3|                  1.0|       34.0|[34.0,1992.0,140....|[2.16706771983551...|[2.31833018237059...|[0.43555128628129...|       0.0|\n",
      "|              A|   AK|     1992|          140|              4|                  1.0|       34.0|[34.0,1992.0,140....|[2.16706771983551...|[2.39545632943379...|[0.44553952508730...|       0.0|\n",
      "|              A|   AK|     1992|          140|              5|                  1.0|       34.0|[34.0,1992.0,140....|[2.16706771983551...|[2.47258247649699...|[0.45537039929954...|       0.0|\n",
      "|              A|   AK|     1992|          141|              4|                  1.0|       34.0|[34.0,1992.0,141....|[2.16706771983551...|[2.39393626326381...|[0.44508992366240...|       0.0|\n",
      "+---------------+-----+---------+-------------+---------------+---------------------+-----------+--------------------+--------------------+--------------------+--------------------+----------+\n",
      "only showing top 20 rows\n",
      "\n"
     ]
    }
   ],
   "source": [
    "train_data.show()"
   ]
  },
  {
   "cell_type": "code",
   "execution_count": 80,
   "id": "9860e3fc",
   "metadata": {},
   "outputs": [
    {
     "ename": "KeyError",
     "evalue": "'STATE_ENCODED'",
     "output_type": "error",
     "traceback": [
      "\u001b[1;31m---------------------------------------------------------------------------\u001b[0m",
      "\u001b[1;31mKeyError\u001b[0m                                  Traceback (most recent call last)",
      "File \u001b[1;32m~\\anaconda3\\envs\\gpufordl\\lib\\site-packages\\pandas\\core\\indexes\\base.py:3802\u001b[0m, in \u001b[0;36mIndex.get_loc\u001b[1;34m(self, key, method, tolerance)\u001b[0m\n\u001b[0;32m   3801\u001b[0m \u001b[38;5;28;01mtry\u001b[39;00m:\n\u001b[1;32m-> 3802\u001b[0m     \u001b[38;5;28;01mreturn\u001b[39;00m \u001b[38;5;28;43mself\u001b[39;49m\u001b[38;5;241;43m.\u001b[39;49m\u001b[43m_engine\u001b[49m\u001b[38;5;241;43m.\u001b[39;49m\u001b[43mget_loc\u001b[49m\u001b[43m(\u001b[49m\u001b[43mcasted_key\u001b[49m\u001b[43m)\u001b[49m\n\u001b[0;32m   3803\u001b[0m \u001b[38;5;28;01mexcept\u001b[39;00m \u001b[38;5;167;01mKeyError\u001b[39;00m \u001b[38;5;28;01mas\u001b[39;00m err:\n",
      "File \u001b[1;32m~\\anaconda3\\envs\\gpufordl\\lib\\site-packages\\pandas\\_libs\\index.pyx:138\u001b[0m, in \u001b[0;36mpandas._libs.index.IndexEngine.get_loc\u001b[1;34m()\u001b[0m\n",
      "File \u001b[1;32m~\\anaconda3\\envs\\gpufordl\\lib\\site-packages\\pandas\\_libs\\index.pyx:165\u001b[0m, in \u001b[0;36mpandas._libs.index.IndexEngine.get_loc\u001b[1;34m()\u001b[0m\n",
      "File \u001b[1;32mpandas\\_libs\\hashtable_class_helper.pxi:5745\u001b[0m, in \u001b[0;36mpandas._libs.hashtable.PyObjectHashTable.get_item\u001b[1;34m()\u001b[0m\n",
      "File \u001b[1;32mpandas\\_libs\\hashtable_class_helper.pxi:5753\u001b[0m, in \u001b[0;36mpandas._libs.hashtable.PyObjectHashTable.get_item\u001b[1;34m()\u001b[0m\n",
      "\u001b[1;31mKeyError\u001b[0m: 'STATE_ENCODED'",
      "\nThe above exception was the direct cause of the following exception:\n",
      "\u001b[1;31mKeyError\u001b[0m                                  Traceback (most recent call last)",
      "Cell \u001b[1;32mIn[80], line 11\u001b[0m\n\u001b[0;32m      9\u001b[0m \u001b[38;5;66;03m# Plot histograms for each feature\u001b[39;00m\n\u001b[0;32m     10\u001b[0m \u001b[38;5;28;01mfor\u001b[39;00m ax, feature \u001b[38;5;129;01min\u001b[39;00m \u001b[38;5;28mzip\u001b[39m(axes\u001b[38;5;241m.\u001b[39mflatten(), features_to_plot):\n\u001b[1;32m---> 11\u001b[0m     ax\u001b[38;5;241m.\u001b[39mhist(\u001b[43mdf\u001b[49m\u001b[43m[\u001b[49m\u001b[43mfeature\u001b[49m\u001b[43m]\u001b[49m, bins\u001b[38;5;241m=\u001b[39m\u001b[38;5;241m20\u001b[39m, edgecolor\u001b[38;5;241m=\u001b[39m\u001b[38;5;124m'\u001b[39m\u001b[38;5;124mblack\u001b[39m\u001b[38;5;124m'\u001b[39m)\n\u001b[0;32m     12\u001b[0m     ax\u001b[38;5;241m.\u001b[39mset_title(\u001b[38;5;124mf\u001b[39m\u001b[38;5;124m\"\u001b[39m\u001b[38;5;124mDistribution of \u001b[39m\u001b[38;5;132;01m{\u001b[39;00mfeature\u001b[38;5;132;01m}\u001b[39;00m\u001b[38;5;124m\"\u001b[39m)\n\u001b[0;32m     13\u001b[0m     ax\u001b[38;5;241m.\u001b[39mset_xlabel(feature)\n",
      "File \u001b[1;32m~\\anaconda3\\envs\\gpufordl\\lib\\site-packages\\pandas\\core\\frame.py:3807\u001b[0m, in \u001b[0;36mDataFrame.__getitem__\u001b[1;34m(self, key)\u001b[0m\n\u001b[0;32m   3805\u001b[0m \u001b[38;5;28;01mif\u001b[39;00m \u001b[38;5;28mself\u001b[39m\u001b[38;5;241m.\u001b[39mcolumns\u001b[38;5;241m.\u001b[39mnlevels \u001b[38;5;241m>\u001b[39m \u001b[38;5;241m1\u001b[39m:\n\u001b[0;32m   3806\u001b[0m     \u001b[38;5;28;01mreturn\u001b[39;00m \u001b[38;5;28mself\u001b[39m\u001b[38;5;241m.\u001b[39m_getitem_multilevel(key)\n\u001b[1;32m-> 3807\u001b[0m indexer \u001b[38;5;241m=\u001b[39m \u001b[38;5;28;43mself\u001b[39;49m\u001b[38;5;241;43m.\u001b[39;49m\u001b[43mcolumns\u001b[49m\u001b[38;5;241;43m.\u001b[39;49m\u001b[43mget_loc\u001b[49m\u001b[43m(\u001b[49m\u001b[43mkey\u001b[49m\u001b[43m)\u001b[49m\n\u001b[0;32m   3808\u001b[0m \u001b[38;5;28;01mif\u001b[39;00m is_integer(indexer):\n\u001b[0;32m   3809\u001b[0m     indexer \u001b[38;5;241m=\u001b[39m [indexer]\n",
      "File \u001b[1;32m~\\anaconda3\\envs\\gpufordl\\lib\\site-packages\\pandas\\core\\indexes\\base.py:3804\u001b[0m, in \u001b[0;36mIndex.get_loc\u001b[1;34m(self, key, method, tolerance)\u001b[0m\n\u001b[0;32m   3802\u001b[0m     \u001b[38;5;28;01mreturn\u001b[39;00m \u001b[38;5;28mself\u001b[39m\u001b[38;5;241m.\u001b[39m_engine\u001b[38;5;241m.\u001b[39mget_loc(casted_key)\n\u001b[0;32m   3803\u001b[0m \u001b[38;5;28;01mexcept\u001b[39;00m \u001b[38;5;167;01mKeyError\u001b[39;00m \u001b[38;5;28;01mas\u001b[39;00m err:\n\u001b[1;32m-> 3804\u001b[0m     \u001b[38;5;28;01mraise\u001b[39;00m \u001b[38;5;167;01mKeyError\u001b[39;00m(key) \u001b[38;5;28;01mfrom\u001b[39;00m \u001b[38;5;21;01merr\u001b[39;00m\n\u001b[0;32m   3805\u001b[0m \u001b[38;5;28;01mexcept\u001b[39;00m \u001b[38;5;167;01mTypeError\u001b[39;00m:\n\u001b[0;32m   3806\u001b[0m     \u001b[38;5;66;03m# If we have a listlike key, _check_indexing_error will raise\u001b[39;00m\n\u001b[0;32m   3807\u001b[0m     \u001b[38;5;66;03m#  InvalidIndexError. Otherwise we fall through and re-raise\u001b[39;00m\n\u001b[0;32m   3808\u001b[0m     \u001b[38;5;66;03m#  the TypeError.\u001b[39;00m\n\u001b[0;32m   3809\u001b[0m     \u001b[38;5;28mself\u001b[39m\u001b[38;5;241m.\u001b[39m_check_indexing_error(key)\n",
      "\u001b[1;31mKeyError\u001b[0m: 'STATE_ENCODED'"
     ]
    },
    {
     "data": {
      "image/png": "[encoded data removed]",
      "text/plain": [
       "<Figure size 1200x800 with 4 Axes>"
      ]
     },
     "metadata": {},
     "output_type": "display_data"
    }
   ],
   "source": [
    "import matplotlib.pyplot as plt\n",
    "df=train_data.toPandas()\n",
    "# Select the features for plotting\n",
    "features_to_plot = ['FIRE_YEAR', 'DISCOVERY_DOY', 'STAT_CAUSE_CODE', 'STATE_ENCODED']\n",
    "\n",
    "# Create subplots for each feature\n",
    "fig, axes = plt.subplots(nrows=2, ncols=2, figsize=(12, 8))\n",
    "\n",
    "# Plot histograms for each feature\n",
    "for ax, feature in zip(axes.flatten(), features_to_plot):\n",
    "    ax.hist(df[feature], bins=20, edgecolor='black')\n",
    "    ax.set_title(f\"Distribution of {feature}\")\n",
    "    ax.set_xlabel(feature)\n",
    "    ax.set_ylabel(\"Frequency\")\n",
    "\n",
    "# Adjust spacing between subplots\n",
    "plt.tight_layout()\n",
    "\n",
    "# Display the plot\n",
    "plt.show()\n"
   ]
  },
  {
   "cell_type": "code",
   "execution_count": 64,
   "id": "eef9f934",
   "metadata": {},
   "outputs": [
    {
     "name": "stdout",
     "output_type": "stream",
     "text": [
      "Acuuracy = 0.5053613359534063\n",
      "f1_score = 0.4311207784883252, \n",
      "weighted_Precision = 0.4167271882129583, \n",
      "weighted_Recall = 0.5053613359534063, \n",
      "confusionMatrix: \n",
      "prediction                0.0    1.0\n",
      "FIRE_SIZE_CLASS_index               \n",
      "0.0                    237391  44326\n",
      "1.0                    152426  47558\n",
      "2.0                     54768  11093\n",
      "3.0                      6656   1926\n",
      "4.0                      2998   1223\n",
      "5.0                      1487    890\n",
      "6.0                       531    579, \n",
      "classification_metrics: \n",
      "              precision    recall  f1-score   support\n",
      "\n",
      "           0       0.38      0.17      0.23    200462\n",
      "           1       0.46      0.04      0.07    281558\n",
      "           2       0.15      0.47      0.23     65831\n",
      "           3       0.01      0.08      0.03      8549\n",
      "           4       0.01      0.03      0.01      4306\n",
      "           5       0.00      0.09      0.01      2337\n",
      "           6       0.01      0.65      0.01      1097\n",
      "\n",
      "    accuracy                           0.14    564140\n",
      "   macro avg       0.15      0.22      0.08    564140\n",
      "weighted avg       0.38      0.14      0.15    564140\n",
      "\n"
     ]
    }
   ],
   "source": [
    "accuracy, f_1_score, weighted_Precision, weighted_Recall, confusionMatrix = logistic_reg_classifier_2(my_df, 'FIRE_SIZE_CLASS')\n",
    "\n",
    "print (f\"Acuuracy = {accuracy}\\n\"\n",
    "       f\"f1_score = {f_1_score}, \\n\"\n",
    "       f\"weighted_Precision = {weighted_Precision}, \\n\"\n",
    "       f\"weighted_Recall = {weighted_Recall}, \\n\"\n",
    "       f\"confusionMatrix: \\n\"\n",
    "       f\"{confusionMatrix}, \\n\"\n",
    "      f\"classification_metrics: \\n\"\n",
    "       f\"{classification_metrics}\")"
   ]
  },
  {
   "cell_type": "code",
   "execution_count": null,
   "id": "7295760a",
   "metadata": {},
   "outputs": [],
   "source": []
  },
  {
   "cell_type": "code",
   "execution_count": null,
   "id": "cdda5ceb",
   "metadata": {},
   "outputs": [],
   "source": []
  },
  {
   "cell_type": "code",
   "execution_count": 58,
   "id": "aac42b84",
   "metadata": {},
   "outputs": [],
   "source": [
    "from imblearn.over_sampling import SMOTE\n",
    "from imblearn.pipeline import Pipeline"
   ]
  },
  {
   "cell_type": "code",
   "execution_count": 6,
   "id": "f0cf9739",
   "metadata": {},
   "outputs": [],
   "source": [
    "my_df = data_reader(df_spark)"
   ]
  },
  {
   "cell_type": "code",
   "execution_count": 70,
   "id": "1c9a9dd0",
   "metadata": {
    "collapsed": true
   },
   "outputs": [
    {
     "name": "stdout",
     "output_type": "stream",
     "text": [
      "+---------------+-----+---------+-------------+---------------+---------------------+\n",
      "|FIRE_SIZE_CLASS|STATE|FIRE_YEAR|DISCOVERY_DOY|STAT_CAUSE_CODE|FIRE_SIZE_CLASS_index|\n",
      "+---------------+-----+---------+-------------+---------------+---------------------+\n",
      "|              A|   CA|     2005|           33|              9|                  1.0|\n",
      "|              A|   CA|     2004|          133|              1|                  1.0|\n",
      "|              A|   CA|     2004|          152|              5|                  1.0|\n",
      "|              A|   CA|     2004|          180|              1|                  1.0|\n",
      "|              A|   CA|     2004|          180|              1|                  1.0|\n",
      "|              A|   CA|     2004|          182|              1|                  1.0|\n",
      "|              A|   CA|     2004|          183|              1|                  1.0|\n",
      "|              B|   CA|     2005|           67|              5|                  0.0|\n",
      "|              B|   CA|     2005|           74|              5|                  0.0|\n",
      "|              A|   CA|     2004|          183|              1|                  1.0|\n",
      "|              A|   CA|     2004|          184|              1|                  1.0|\n",
      "|              A|   CA|     2004|          184|              1|                  1.0|\n",
      "|              A|   CA|     2004|          247|              9|                  1.0|\n",
      "|              B|   CA|     2004|          272|              4|                  0.0|\n",
      "|              A|   CA|     2004|          277|              1|                  1.0|\n",
      "|              A|   CA|     2004|          277|              1|                  1.0|\n",
      "|              G|   CA|     2004|          280|              2|                  6.0|\n",
      "|              G|   CA|     2004|          287|              2|                  6.0|\n",
      "|              A|   CA|     2004|          325|              5|                  1.0|\n",
      "|              A|   NM|     2004|          156|              1|                  1.0|\n",
      "+---------------+-----+---------+-------------+---------------+---------------------+\n",
      "only showing top 20 rows\n",
      "\n"
     ]
    }
   ],
   "source": [
    "STATE_indexer, assembler, indexed_df, outputCol = classifier_data_prep('FIRE_SIZE_CLASS', my_df)\n",
    "indexed_df.show()"
   ]
  },
  {
   "cell_type": "code",
   "execution_count": 39,
   "id": "b5fcf1fb",
   "metadata": {},
   "outputs": [],
   "source": [
    "import pandas as pd\n",
    "from sklearn.model_selection import train_test_split\n",
    "from sklearn.linear_model import LogisticRegression\n",
    "from sklearn.metrics import accuracy_score, f1_score, precision_score, recall_score, confusion_matrix\n",
    "from imblearn.over_sampling import SMOTE\n",
    "from sklearn.preprocessing import LabelEncoder\n",
    "from sklearn.metrics import classification_report\n",
    "\n",
    "from sklearn.preprocessing import LabelEncoder\n",
    "import sys\n",
    "sys.setrecursionlimit(1500)  # Increase the recursion limit as per your requirement\n",
    "\n",
    "def classifier_data_prep(label, df):\n",
    "    desired_cols = ['FIRE_SIZE_CLASS',  'FIRE_YEAR', 'STATE', 'DISCOVERY_DOY', 'STAT_CAUSE_CODE'] # \n",
    "    df_final = df[desired_cols]\n",
    "\n",
    "    outputCol = label + '_index'\n",
    "    indexer = LabelEncoder()\n",
    "\n",
    "    df_final['STATE_ENCODED'] = indexer.fit_transform(df_final['STATE'])\n",
    "    #df_final.loc[:, 'STATE_ENCODED'] = indexer.fit_transform(df_final['STATE'])\n",
    "\n",
    "    \n",
    "    indexed_labels = indexer.fit_transform(df_final[label])\n",
    "    \n",
    "    features = df_final.drop([label, 'STATE'], axis=1)\n",
    "\n",
    "    return features, indexed_labels, indexer\n",
    "\n",
    "def logistic_reg_classifier(df, label):\n",
    "    features, indexed_labels, indexer = classifier_data_prep(label, df)\n",
    "\n",
    "    # Split the dataset into training and testing\n",
    "    train_features, test_features, train_labels, test_labels = train_test_split(features, indexed_labels, test_size=0.3, random_state=42)\n",
    "\n",
    "    # Oversample the training data using SMOTE\n",
    "    oversampler = SMOTE()\n",
    "    train_features_oversampled, train_labels_oversampled = oversampler.fit_resample(train_features, train_labels)\n",
    "\n",
    "    # Define the logistic regression model\n",
    "    log_reg_model = LogisticRegression()\n",
    "\n",
    "    # Fit the logistic regression model on the oversampled training data\n",
    "    log_reg_model.fit(train_features_oversampled, train_labels_oversampled)\n",
    "\n",
    "    # Make predictions on the testing data\n",
    "    predictions = log_reg_model.predict(test_features)\n",
    "\n",
    "    # Calculate evaluation metrics\n",
    "    accuracy = accuracy_score(test_labels, predictions)\n",
    "    f1 = f1_score(test_labels, predictions, average='weighted')\n",
    "    precision = precision_score(test_labels, predictions, average='weighted')\n",
    "    recall = recall_score(test_labels, predictions, average='weighted')\n",
    "\n",
    "    # Compute confusion matrix\n",
    "    confusion_matrix_df = pd.DataFrame(confusion_matrix(test_labels, predictions), index=indexer.classes_, columns=indexer.classes_)\n",
    "    \n",
    "    #predicted_labels = np.argmax(predictions, axis=1)\n",
    "    predicted_labels = predictions\n",
    "    actual_labels = test_labels\n",
    "\n",
    "\n",
    "    classification_metrics = classification_report(actual_labels, predicted_labels)\n",
    "\n",
    "    return accuracy, f1, precision, recall, confusion_matrix_df, classification_metrics\n",
    "    #return train_features_oversampled, train_labels_oversampled\n",
    "\n",
    "# Assuming 'actual_labels' and 'predicted_labels' are defined as mentioned before\n",
    "\n",
    "# Calculate classification metrics\n",
    "\n",
    "\n"
   ]
  },
  {
   "cell_type": "code",
   "execution_count": 7,
   "id": "de9e0420",
   "metadata": {},
   "outputs": [
    {
     "data": {
      "text/html": [
       "<div>\n",
       "<style scoped>\n",
       "    .dataframe tbody tr th:only-of-type {\n",
       "        vertical-align: middle;\n",
       "    }\n",
       "\n",
       "    .dataframe tbody tr th {\n",
       "        vertical-align: top;\n",
       "    }\n",
       "\n",
       "    .dataframe thead th {\n",
       "        text-align: right;\n",
       "    }\n",
       "</style>\n",
       "<table border=\"1\" class=\"dataframe\">\n",
       "  <thead>\n",
       "    <tr style=\"text-align: right;\">\n",
       "      <th></th>\n",
       "      <th>LONGITUDE</th>\n",
       "      <th>LATITUDE</th>\n",
       "      <th>FIRE_SIZE</th>\n",
       "      <th>FIRE_SIZE_CLASS</th>\n",
       "      <th>STATE</th>\n",
       "      <th>FIRE_YEAR</th>\n",
       "      <th>DISCOVERY_DOY</th>\n",
       "      <th>STAT_CAUSE_CODE</th>\n",
       "      <th>DISCOVERY_TIME</th>\n",
       "      <th>CONT_TIME</th>\n",
       "    </tr>\n",
       "  </thead>\n",
       "  <tbody>\n",
       "    <tr>\n",
       "      <th>0</th>\n",
       "      <td>-121.005833330000000000</td>\n",
       "      <td>40.036944440000000000</td>\n",
       "      <td>0.10</td>\n",
       "      <td>A</td>\n",
       "      <td>CA</td>\n",
       "      <td>2005</td>\n",
       "      <td>33</td>\n",
       "      <td>9</td>\n",
       "      <td>1300</td>\n",
       "      <td>1730</td>\n",
       "    </tr>\n",
       "    <tr>\n",
       "      <th>1</th>\n",
       "      <td>-120.404444440000000000</td>\n",
       "      <td>38.933055560000000000</td>\n",
       "      <td>0.25</td>\n",
       "      <td>A</td>\n",
       "      <td>CA</td>\n",
       "      <td>2004</td>\n",
       "      <td>133</td>\n",
       "      <td>1</td>\n",
       "      <td>0845</td>\n",
       "      <td>1530</td>\n",
       "    </tr>\n",
       "    <tr>\n",
       "      <th>2</th>\n",
       "      <td>-120.735555560000000000</td>\n",
       "      <td>38.984166670000000000</td>\n",
       "      <td>0.10</td>\n",
       "      <td>A</td>\n",
       "      <td>CA</td>\n",
       "      <td>2004</td>\n",
       "      <td>152</td>\n",
       "      <td>5</td>\n",
       "      <td>1921</td>\n",
       "      <td>2024</td>\n",
       "    </tr>\n",
       "    <tr>\n",
       "      <th>3</th>\n",
       "      <td>-119.913333330000000000</td>\n",
       "      <td>38.559166670000000000</td>\n",
       "      <td>0.10</td>\n",
       "      <td>A</td>\n",
       "      <td>CA</td>\n",
       "      <td>2004</td>\n",
       "      <td>180</td>\n",
       "      <td>1</td>\n",
       "      <td>1600</td>\n",
       "      <td>1400</td>\n",
       "    </tr>\n",
       "    <tr>\n",
       "      <th>4</th>\n",
       "      <td>-119.933055560000000000</td>\n",
       "      <td>38.559166670000000000</td>\n",
       "      <td>0.10</td>\n",
       "      <td>A</td>\n",
       "      <td>CA</td>\n",
       "      <td>2004</td>\n",
       "      <td>180</td>\n",
       "      <td>1</td>\n",
       "      <td>1600</td>\n",
       "      <td>1200</td>\n",
       "    </tr>\n",
       "    <tr>\n",
       "      <th>...</th>\n",
       "      <td>...</td>\n",
       "      <td>...</td>\n",
       "      <td>...</td>\n",
       "      <td>...</td>\n",
       "      <td>...</td>\n",
       "      <td>...</td>\n",
       "      <td>...</td>\n",
       "      <td>...</td>\n",
       "      <td>...</td>\n",
       "      <td>...</td>\n",
       "    </tr>\n",
       "    <tr>\n",
       "      <th>1880460</th>\n",
       "      <td>-122.389375000000000000</td>\n",
       "      <td>40.481637000000000000</td>\n",
       "      <td>0.01</td>\n",
       "      <td>A</td>\n",
       "      <td>CA</td>\n",
       "      <td>2015</td>\n",
       "      <td>269</td>\n",
       "      <td>13</td>\n",
       "      <td>1726</td>\n",
       "      <td>1843</td>\n",
       "    </tr>\n",
       "    <tr>\n",
       "      <th>1880461</th>\n",
       "      <td>-120.938570200000000000</td>\n",
       "      <td>37.617619160000000000</td>\n",
       "      <td>0.20</td>\n",
       "      <td>A</td>\n",
       "      <td>CA</td>\n",
       "      <td>2015</td>\n",
       "      <td>278</td>\n",
       "      <td>9</td>\n",
       "      <td>0126</td>\n",
       "      <td>None</td>\n",
       "    </tr>\n",
       "    <tr>\n",
       "      <th>1880462</th>\n",
       "      <td>-120.938570200000000000</td>\n",
       "      <td>37.617619160000000000</td>\n",
       "      <td>0.10</td>\n",
       "      <td>A</td>\n",
       "      <td>CA</td>\n",
       "      <td>2015</td>\n",
       "      <td>122</td>\n",
       "      <td>13</td>\n",
       "      <td>2052</td>\n",
       "      <td>None</td>\n",
       "    </tr>\n",
       "    <tr>\n",
       "      <th>1880463</th>\n",
       "      <td>-120.898356050000000000</td>\n",
       "      <td>37.672234690000000000</td>\n",
       "      <td>2.00</td>\n",
       "      <td>B</td>\n",
       "      <td>CA</td>\n",
       "      <td>2015</td>\n",
       "      <td>287</td>\n",
       "      <td>13</td>\n",
       "      <td>2309</td>\n",
       "      <td>None</td>\n",
       "    </tr>\n",
       "    <tr>\n",
       "      <th>1880464</th>\n",
       "      <td>-116.830950000000000000</td>\n",
       "      <td>34.263217000000000000</td>\n",
       "      <td>0.10</td>\n",
       "      <td>A</td>\n",
       "      <td>CA</td>\n",
       "      <td>2015</td>\n",
       "      <td>73</td>\n",
       "      <td>9</td>\n",
       "      <td>2128</td>\n",
       "      <td>None</td>\n",
       "    </tr>\n",
       "  </tbody>\n",
       "</table>\n",
       "<p>1880465 rows × 10 columns</p>\n",
       "</div>"
      ],
      "text/plain": [
       "                       LONGITUDE               LATITUDE  FIRE_SIZE  \\\n",
       "0        -121.005833330000000000  40.036944440000000000       0.10   \n",
       "1        -120.404444440000000000  38.933055560000000000       0.25   \n",
       "2        -120.735555560000000000  38.984166670000000000       0.10   \n",
       "3        -119.913333330000000000  38.559166670000000000       0.10   \n",
       "4        -119.933055560000000000  38.559166670000000000       0.10   \n",
       "...                          ...                    ...        ...   \n",
       "1880460  -122.389375000000000000  40.481637000000000000       0.01   \n",
       "1880461  -120.938570200000000000  37.617619160000000000       0.20   \n",
       "1880462  -120.938570200000000000  37.617619160000000000       0.10   \n",
       "1880463  -120.898356050000000000  37.672234690000000000       2.00   \n",
       "1880464  -116.830950000000000000  34.263217000000000000       0.10   \n",
       "\n",
       "        FIRE_SIZE_CLASS STATE  FIRE_YEAR  DISCOVERY_DOY  STAT_CAUSE_CODE  \\\n",
       "0                     A    CA       2005             33                9   \n",
       "1                     A    CA       2004            133                1   \n",
       "2                     A    CA       2004            152                5   \n",
       "3                     A    CA       2004            180                1   \n",
       "4                     A    CA       2004            180                1   \n",
       "...                 ...   ...        ...            ...              ...   \n",
       "1880460               A    CA       2015            269               13   \n",
       "1880461               A    CA       2015            278                9   \n",
       "1880462               A    CA       2015            122               13   \n",
       "1880463               B    CA       2015            287               13   \n",
       "1880464               A    CA       2015             73                9   \n",
       "\n",
       "        DISCOVERY_TIME CONT_TIME  \n",
       "0                 1300      1730  \n",
       "1                 0845      1530  \n",
       "2                 1921      2024  \n",
       "3                 1600      1400  \n",
       "4                 1600      1200  \n",
       "...                ...       ...  \n",
       "1880460           1726      1843  \n",
       "1880461           0126      None  \n",
       "1880462           2052      None  \n",
       "1880463           2309      None  \n",
       "1880464           2128      None  \n",
       "\n",
       "[1880465 rows x 10 columns]"
      ]
     },
     "execution_count": 7,
     "metadata": {},
     "output_type": "execute_result"
    }
   ],
   "source": [
    "my_df.toPandas()"
   ]
  },
  {
   "cell_type": "code",
   "execution_count": 8,
   "id": "71039882",
   "metadata": {},
   "outputs": [
    {
     "name": "stderr",
     "output_type": "stream",
     "text": [
      "C:\\Users\\dania\\AppData\\Local\\Temp\\ipykernel_14136\\3782922956.py:20: SettingWithCopyWarning: \n",
      "A value is trying to be set on a copy of a slice from a DataFrame.\n",
      "Try using .loc[row_indexer,col_indexer] = value instead\n",
      "\n",
      "See the caveats in the documentation: https://pandas.pydata.org/pandas-docs/stable/user_guide/indexing.html#returning-a-view-versus-a-copy\n",
      "  df_final['STATE_ENCODED'] = indexer.fit_transform(df_final['STATE'])\n"
     ]
    }
   ],
   "source": [
    "features, indexed_labels, indexer = classifier_data_prep('FIRE_SIZE_CLASS', my_df.toPandas())"
   ]
  },
  {
   "cell_type": "code",
   "execution_count": 9,
   "id": "774c7fe0",
   "metadata": {},
   "outputs": [
    {
     "data": {
      "text/html": [
       "<div>\n",
       "<style scoped>\n",
       "    .dataframe tbody tr th:only-of-type {\n",
       "        vertical-align: middle;\n",
       "    }\n",
       "\n",
       "    .dataframe tbody tr th {\n",
       "        vertical-align: top;\n",
       "    }\n",
       "\n",
       "    .dataframe thead th {\n",
       "        text-align: right;\n",
       "    }\n",
       "</style>\n",
       "<table border=\"1\" class=\"dataframe\">\n",
       "  <thead>\n",
       "    <tr style=\"text-align: right;\">\n",
       "      <th></th>\n",
       "      <th>FIRE_YEAR</th>\n",
       "      <th>DISCOVERY_DOY</th>\n",
       "      <th>STAT_CAUSE_CODE</th>\n",
       "      <th>STATE_ENCODED</th>\n",
       "    </tr>\n",
       "  </thead>\n",
       "  <tbody>\n",
       "    <tr>\n",
       "      <th>0</th>\n",
       "      <td>2005</td>\n",
       "      <td>33</td>\n",
       "      <td>9</td>\n",
       "      <td>4</td>\n",
       "    </tr>\n",
       "    <tr>\n",
       "      <th>1</th>\n",
       "      <td>2004</td>\n",
       "      <td>133</td>\n",
       "      <td>1</td>\n",
       "      <td>4</td>\n",
       "    </tr>\n",
       "    <tr>\n",
       "      <th>2</th>\n",
       "      <td>2004</td>\n",
       "      <td>152</td>\n",
       "      <td>5</td>\n",
       "      <td>4</td>\n",
       "    </tr>\n",
       "    <tr>\n",
       "      <th>3</th>\n",
       "      <td>2004</td>\n",
       "      <td>180</td>\n",
       "      <td>1</td>\n",
       "      <td>4</td>\n",
       "    </tr>\n",
       "    <tr>\n",
       "      <th>4</th>\n",
       "      <td>2004</td>\n",
       "      <td>180</td>\n",
       "      <td>1</td>\n",
       "      <td>4</td>\n",
       "    </tr>\n",
       "    <tr>\n",
       "      <th>...</th>\n",
       "      <td>...</td>\n",
       "      <td>...</td>\n",
       "      <td>...</td>\n",
       "      <td>...</td>\n",
       "    </tr>\n",
       "    <tr>\n",
       "      <th>1880460</th>\n",
       "      <td>2015</td>\n",
       "      <td>269</td>\n",
       "      <td>13</td>\n",
       "      <td>4</td>\n",
       "    </tr>\n",
       "    <tr>\n",
       "      <th>1880461</th>\n",
       "      <td>2015</td>\n",
       "      <td>278</td>\n",
       "      <td>9</td>\n",
       "      <td>4</td>\n",
       "    </tr>\n",
       "    <tr>\n",
       "      <th>1880462</th>\n",
       "      <td>2015</td>\n",
       "      <td>122</td>\n",
       "      <td>13</td>\n",
       "      <td>4</td>\n",
       "    </tr>\n",
       "    <tr>\n",
       "      <th>1880463</th>\n",
       "      <td>2015</td>\n",
       "      <td>287</td>\n",
       "      <td>13</td>\n",
       "      <td>4</td>\n",
       "    </tr>\n",
       "    <tr>\n",
       "      <th>1880464</th>\n",
       "      <td>2015</td>\n",
       "      <td>73</td>\n",
       "      <td>9</td>\n",
       "      <td>4</td>\n",
       "    </tr>\n",
       "  </tbody>\n",
       "</table>\n",
       "<p>1880465 rows × 4 columns</p>\n",
       "</div>"
      ],
      "text/plain": [
       "         FIRE_YEAR  DISCOVERY_DOY  STAT_CAUSE_CODE  STATE_ENCODED\n",
       "0             2005             33                9              4\n",
       "1             2004            133                1              4\n",
       "2             2004            152                5              4\n",
       "3             2004            180                1              4\n",
       "4             2004            180                1              4\n",
       "...            ...            ...              ...            ...\n",
       "1880460       2015            269               13              4\n",
       "1880461       2015            278                9              4\n",
       "1880462       2015            122               13              4\n",
       "1880463       2015            287               13              4\n",
       "1880464       2015             73                9              4\n",
       "\n",
       "[1880465 rows x 4 columns]"
      ]
     },
     "execution_count": 9,
     "metadata": {},
     "output_type": "execute_result"
    }
   ],
   "source": [
    "features"
   ]
  },
  {
   "cell_type": "code",
   "execution_count": 43,
   "id": "a50e0a43",
   "metadata": {},
   "outputs": [
    {
     "data": {
      "image/png": "[encoded data removed]",
      "text/plain": [
       "<Figure size 1200x800 with 4 Axes>"
      ]
     },
     "metadata": {},
     "output_type": "display_data"
    }
   ],
   "source": [
    "import matplotlib.pyplot as plt\n",
    "df=features\n",
    "# Select the features for plotting\n",
    "features_to_plot = ['FIRE_YEAR', 'DISCOVERY_DOY', 'STAT_CAUSE_CODE', 'STATE_ENCODED']\n",
    "\n",
    "# Create subplots for each feature\n",
    "fig, axes = plt.subplots(nrows=2, ncols=2, figsize=(12, 8))\n",
    "\n",
    "# Plot histograms for each feature\n",
    "for ax, feature in zip(axes.flatten(), features_to_plot):\n",
    "    ax.hist(df[feature], bins=20, edgecolor='black')\n",
    "    ax.set_title(f\"Distribution of {feature}\")\n",
    "    ax.set_xlabel(feature)\n",
    "    ax.set_ylabel(\"Frequency\")\n",
    "\n",
    "# Adjust spacing between subplots\n",
    "plt.tight_layout()\n",
    "\n",
    "# Display the plot\n",
    "plt.show()\n"
   ]
  },
  {
   "cell_type": "code",
   "execution_count": 55,
   "id": "0655ac9a",
   "metadata": {},
   "outputs": [],
   "source": [
    "import pandas as pd\n",
    "from sklearn.model_selection import train_test_split\n",
    "from sklearn.linear_model import LogisticRegression\n",
    "from sklearn.metrics import accuracy_score, f1_score, precision_score, recall_score, confusion_matrix\n",
    "from imblearn.over_sampling import SMOTE\n",
    "from sklearn.preprocessing import LabelEncoder, StandardScaler\n",
    "from sklearn.metrics import classification_report\n",
    "\n",
    "import sys\n",
    "sys.setrecursionlimit(1500)  # Increase the recursion limit as per your requirement\n",
    "\n",
    "def classifier_data_prep(label, df):\n",
    "    desired_cols = ['FIRE_SIZE_CLASS', 'FIRE_YEAR', 'STATE', 'DISCOVERY_DOY', 'STAT_CAUSE_CODE']\n",
    "    df_final = df[desired_cols]\n",
    "\n",
    "    outputCol = label + '_index'\n",
    "    indexer = LabelEncoder()\n",
    "\n",
    "    df_final['STATE_ENCODED'] = indexer.fit_transform(df_final['STATE'])\n",
    "\n",
    "    indexed_labels = indexer.fit_transform(df_final[label])\n",
    "\n",
    "    numerical_features = ['FIRE_YEAR', 'DISCOVERY_DOY', 'STAT_CAUSE_CODE', 'STATE_ENCODED']\n",
    "    scaler = StandardScaler()\n",
    "    scaled_features = scaler.fit_transform(df_final[numerical_features])\n",
    "    df_scaled = pd.DataFrame(scaled_features, columns=numerical_features)\n",
    "\n",
    "    #features = df_scaled.drop(label, axis=1)\n",
    "    features = df_scaled\n",
    "    return features, indexed_labels, indexer\n",
    "\n",
    "def logistic_reg_classifier(df, label):\n",
    "    features, indexed_labels, indexer = classifier_data_prep(label, df)\n",
    "\n",
    "    # Split the dataset into training and testing\n",
    "    train_features, test_features, train_labels, test_labels = train_test_split(features, indexed_labels, test_size=0.3, random_state=42)\n",
    "\n",
    "    # Oversample the training data using SMOTE\n",
    "    oversampler = SMOTE()\n",
    "    train_features_oversampled, train_labels_oversampled = oversampler.fit_resample(train_features, train_labels)\n",
    "\n",
    "    # Define the logistic regression model\n",
    "    log_reg_model = LogisticRegression()\n",
    "\n",
    "    # Fit the logistic regression model on the oversampled training data\n",
    "    log_reg_model.fit(train_features_oversampled, train_labels_oversampled)\n",
    "\n",
    "    # Make predictions on the testing data\n",
    "    predictions = log_reg_model.predict(test_features)\n",
    "\n",
    "    # Calculate evaluation metrics\n",
    "    accuracy = accuracy_score(test_labels, predictions)\n",
    "    f1 = f1_score(test_labels, predictions, average='weighted')\n",
    "    precision = precision_score(test_labels, predictions, average='weighted')\n",
    "    recall = recall_score(test_labels, predictions, average='weighted')\n",
    "\n",
    "    # Compute confusion matrix\n",
    "    confusion_matrix_df = pd.DataFrame(confusion_matrix(test_labels, predictions), index=indexer.classes_, columns=indexer.classes_)\n",
    "\n",
    "    predicted_labels = predictions\n",
    "    actual_labels = test_labels\n",
    "\n",
    "    classification_metrics = classification_report(actual_labels, predicted_labels)\n",
    "\n",
    "    return accuracy, f1, precision, recall, confusion_matrix_df, classification_metrics\n"
   ]
  },
  {
   "cell_type": "code",
   "execution_count": 51,
   "id": "057f8399",
   "metadata": {},
   "outputs": [
    {
     "name": "stderr",
     "output_type": "stream",
     "text": [
      "C:\\Users\\dania\\AppData\\Local\\Temp\\ipykernel_14136\\2194091889.py:19: SettingWithCopyWarning: \n",
      "A value is trying to be set on a copy of a slice from a DataFrame.\n",
      "Try using .loc[row_indexer,col_indexer] = value instead\n",
      "\n",
      "See the caveats in the documentation: https://pandas.pydata.org/pandas-docs/stable/user_guide/indexing.html#returning-a-view-versus-a-copy\n",
      "  df_final['STATE_ENCODED'] = indexer.fit_transform(df_final['STATE'])\n"
     ]
    }
   ],
   "source": [
    "features, indexed_labels, indexer = classifier_data_prep('FIRE_SIZE_CLASS', my_df.toPandas())"
   ]
  },
  {
   "cell_type": "code",
   "execution_count": 52,
   "id": "fd81acc3",
   "metadata": {},
   "outputs": [
    {
     "data": {
      "image/png": "[encoded data removed]",
      "text/plain": [
       "<Figure size 1200x800 with 4 Axes>"
      ]
     },
     "metadata": {},
     "output_type": "display_data"
    }
   ],
   "source": [
    "import matplotlib.pyplot as plt\n",
    "df=features\n",
    "# Select the features for plotting\n",
    "features_to_plot = ['FIRE_YEAR', 'DISCOVERY_DOY', 'STAT_CAUSE_CODE', 'STATE_ENCODED']\n",
    "\n",
    "# Create subplots for each feature\n",
    "fig, axes = plt.subplots(nrows=2, ncols=2, figsize=(12, 8))\n",
    "\n",
    "# Plot histograms for each feature\n",
    "for ax, feature in zip(axes.flatten(), features_to_plot):\n",
    "    ax.hist(df[feature], bins=20, edgecolor='black')\n",
    "    ax.set_title(f\"Distribution of {feature}\")\n",
    "    ax.set_xlabel(feature)\n",
    "    ax.set_ylabel(\"Frequency\")\n",
    "\n",
    "# Adjust spacing between subplots\n",
    "plt.tight_layout()\n",
    "\n",
    "# Display the plot\n",
    "plt.show()\n"
   ]
  },
  {
   "cell_type": "code",
   "execution_count": 18,
   "id": "5953c806",
   "metadata": {},
   "outputs": [
    {
     "data": {
      "text/plain": [
       "52"
      ]
     },
     "execution_count": 18,
     "metadata": {},
     "output_type": "execute_result"
    }
   ],
   "source": [
    "len(features.STATE_ENCODED.unique())"
   ]
  },
  {
   "cell_type": "code",
   "execution_count": 13,
   "id": "4f25d2d8",
   "metadata": {
    "scrolled": false
   },
   "outputs": [
    {
     "data": {
      "text/plain": [
       "array([0, 1, 2, 3, 4, 5, 6])"
      ]
     },
     "execution_count": 13,
     "metadata": {},
     "output_type": "execute_result"
    }
   ],
   "source": [
    "np.unique(indexed_labels)"
   ]
  },
  {
   "cell_type": "code",
   "execution_count": 27,
   "id": "a423974c",
   "metadata": {},
   "outputs": [
    {
     "name": "stdout",
     "output_type": "stream",
     "text": [
      "0: 666919\n",
      "1: 939376\n",
      "2: 220077\n",
      "3: 28427\n",
      "4: 14107\n",
      "5: 7786\n",
      "6: 3773\n"
     ]
    }
   ],
   "source": [
    "unique_values, counts = np.unique(indexed_labels, return_counts=True)\n",
    "\n",
    "for value, count in zip(unique_values, counts):\n",
    "    print(f\"{value}: {count}\")"
   ]
  },
  {
   "cell_type": "code",
   "execution_count": 22,
   "id": "355cf09f",
   "metadata": {
    "scrolled": false
   },
   "outputs": [
    {
     "name": "stderr",
     "output_type": "stream",
     "text": [
      "C:\\Users\\dania\\AppData\\Local\\Temp\\ipykernel_14136\\2763190568.py:20: SettingWithCopyWarning: \n",
      "A value is trying to be set on a copy of a slice from a DataFrame.\n",
      "Try using .loc[row_indexer,col_indexer] = value instead\n",
      "\n",
      "See the caveats in the documentation: https://pandas.pydata.org/pandas-docs/stable/user_guide/indexing.html#returning-a-view-versus-a-copy\n",
      "  df_final['STATE_ENCODED'] = indexer.fit_transform(df_final['STATE'])\n",
      "C:\\Users\\dania\\anaconda3\\envs\\gpufordl\\lib\\site-packages\\sklearn\\linear_model\\_logistic.py:458: ConvergenceWarning: lbfgs failed to converge (status=1):\n",
      "STOP: TOTAL NO. of ITERATIONS REACHED LIMIT.\n",
      "\n",
      "Increase the number of iterations (max_iter) or scale the data as shown in:\n",
      "    https://scikit-learn.org/stable/modules/preprocessing.html\n",
      "Please also refer to the documentation for alternative solver options:\n",
      "    https://scikit-learn.org/stable/modules/linear_model.html#logistic-regression\n",
      "  n_iter_i = _check_optimize_result(\n"
     ]
    }
   ],
   "source": [
    "train_features_oversampled, train_labels_oversampled = logistic_reg_classifier(my_df.toPandas(), 'FIRE_SIZE_CLASS')"
   ]
  },
  {
   "cell_type": "code",
   "execution_count": 28,
   "id": "d851a368",
   "metadata": {},
   "outputs": [
    {
     "name": "stdout",
     "output_type": "stream",
     "text": [
      "0: 657818\n",
      "1: 657818\n",
      "2: 657818\n",
      "3: 657818\n",
      "4: 657818\n",
      "5: 657818\n",
      "6: 657818\n"
     ]
    }
   ],
   "source": [
    "unique_values, counts = np.unique(train_labels_oversampled, return_counts=True)\n",
    "\n",
    "for value, count in zip(unique_values, counts):\n",
    "    print(f\"{value}: {count}\") "
   ]
  },
  {
   "cell_type": "code",
   "execution_count": 36,
   "id": "b3d9c206",
   "metadata": {},
   "outputs": [
    {
     "data": {
      "text/plain": [
       "4604726"
      ]
     },
     "execution_count": 36,
     "metadata": {},
     "output_type": "execute_result"
    }
   ],
   "source": [
    "len(train_labels_oversampled)"
   ]
  },
  {
   "cell_type": "code",
   "execution_count": 60,
   "id": "7c184d33",
   "metadata": {
    "scrolled": false
   },
   "outputs": [
    {
     "ename": "AttributeError",
     "evalue": "'DataFrame' object has no attribute 'select'",
     "output_type": "error",
     "traceback": [
      "\u001b[1;31m---------------------------------------------------------------------------\u001b[0m",
      "\u001b[1;31mAttributeError\u001b[0m                            Traceback (most recent call last)",
      "Cell \u001b[1;32mIn[60], line 1\u001b[0m\n\u001b[1;32m----> 1\u001b[0m accuracy, f_1_score, weighted_Precision, weighted_Recall, confusionMatrix, classification_metrics \u001b[38;5;241m=\u001b[39m \u001b[43mlogistic_reg_classifier_2\u001b[49m\u001b[43m(\u001b[49m\u001b[43mmy_df\u001b[49m\u001b[38;5;241;43m.\u001b[39;49m\u001b[43mtoPandas\u001b[49m\u001b[43m(\u001b[49m\u001b[43m)\u001b[49m\u001b[43m,\u001b[49m\u001b[43m \u001b[49m\u001b[38;5;124;43m'\u001b[39;49m\u001b[38;5;124;43mFIRE_SIZE_CLASS\u001b[39;49m\u001b[38;5;124;43m'\u001b[39;49m\u001b[43m)\u001b[49m\n",
      "Cell \u001b[1;32mIn[59], line 24\u001b[0m, in \u001b[0;36mlogistic_reg_classifier_2\u001b[1;34m(df, label)\u001b[0m\n\u001b[0;32m     23\u001b[0m \u001b[38;5;28;01mdef\u001b[39;00m \u001b[38;5;21mlogistic_reg_classifier_2\u001b[39m (df, label):\n\u001b[1;32m---> 24\u001b[0m     STATE_indexer, assembler, scaler, label_indexed_df, outputCol \u001b[38;5;241m=\u001b[39m \u001b[43mclassifier_data_prep_2\u001b[49m\u001b[43m(\u001b[49m\u001b[43mlabel\u001b[49m\u001b[43m,\u001b[49m\u001b[43m \u001b[49m\u001b[43mdf\u001b[49m\u001b[43m)\u001b[49m\n\u001b[0;32m     26\u001b[0m     log_reg_model \u001b[38;5;241m=\u001b[39m LogisticRegression(featuresCol\u001b[38;5;241m=\u001b[39m\u001b[38;5;124m'\u001b[39m\u001b[38;5;124mfeatures\u001b[39m\u001b[38;5;124m'\u001b[39m, labelCol\u001b[38;5;241m=\u001b[39moutputCol, family\u001b[38;5;241m=\u001b[39m\u001b[38;5;124m\"\u001b[39m\u001b[38;5;124mmultinomial\u001b[39m\u001b[38;5;124m\"\u001b[39m)\n\u001b[0;32m     28\u001b[0m     pipeline \u001b[38;5;241m=\u001b[39m Pipeline(stages\u001b[38;5;241m=\u001b[39m[STATE_indexer, assembler, scaler, log_reg_model])\n",
      "Cell \u001b[1;32mIn[59], line 4\u001b[0m, in \u001b[0;36mclassifier_data_prep_2\u001b[1;34m(label, df)\u001b[0m\n\u001b[0;32m      1\u001b[0m \u001b[38;5;28;01mdef\u001b[39;00m \u001b[38;5;21mclassifier_data_prep_2\u001b[39m(label, df):\n\u001b[0;32m      2\u001b[0m     desired_cols \u001b[38;5;241m=\u001b[39m [\u001b[38;5;124m'\u001b[39m\u001b[38;5;124mFIRE_SIZE_CLASS\u001b[39m\u001b[38;5;124m'\u001b[39m, \u001b[38;5;124m'\u001b[39m\u001b[38;5;124mSTATE\u001b[39m\u001b[38;5;124m'\u001b[39m, \u001b[38;5;124m'\u001b[39m\u001b[38;5;124mFIRE_YEAR\u001b[39m\u001b[38;5;124m'\u001b[39m, \u001b[38;5;124m'\u001b[39m\u001b[38;5;124mDISCOVERY_DOY\u001b[39m\u001b[38;5;124m'\u001b[39m, \u001b[38;5;124m'\u001b[39m\u001b[38;5;124mSTAT_CAUSE_CODE\u001b[39m\u001b[38;5;124m'\u001b[39m]\n\u001b[1;32m----> 4\u001b[0m     df_final \u001b[38;5;241m=\u001b[39m \u001b[43mdf\u001b[49m\u001b[38;5;241;43m.\u001b[39;49m\u001b[43mselect\u001b[49m(desired_cols)\n\u001b[0;32m      6\u001b[0m     outputCol \u001b[38;5;241m=\u001b[39m label \u001b[38;5;241m+\u001b[39m \u001b[38;5;124m'\u001b[39m\u001b[38;5;124m_index\u001b[39m\u001b[38;5;124m'\u001b[39m\n\u001b[0;32m      7\u001b[0m     indexer \u001b[38;5;241m=\u001b[39m label \u001b[38;5;241m+\u001b[39m \u001b[38;5;124m'\u001b[39m\u001b[38;5;124m_indexer\u001b[39m\u001b[38;5;124m'\u001b[39m\n",
      "File \u001b[1;32m~\\anaconda3\\envs\\gpufordl\\lib\\site-packages\\pandas\\core\\generic.py:5902\u001b[0m, in \u001b[0;36mNDFrame.__getattr__\u001b[1;34m(self, name)\u001b[0m\n\u001b[0;32m   5895\u001b[0m \u001b[38;5;28;01mif\u001b[39;00m (\n\u001b[0;32m   5896\u001b[0m     name \u001b[38;5;129;01mnot\u001b[39;00m \u001b[38;5;129;01min\u001b[39;00m \u001b[38;5;28mself\u001b[39m\u001b[38;5;241m.\u001b[39m_internal_names_set\n\u001b[0;32m   5897\u001b[0m     \u001b[38;5;129;01mand\u001b[39;00m name \u001b[38;5;129;01mnot\u001b[39;00m \u001b[38;5;129;01min\u001b[39;00m \u001b[38;5;28mself\u001b[39m\u001b[38;5;241m.\u001b[39m_metadata\n\u001b[0;32m   5898\u001b[0m     \u001b[38;5;129;01mand\u001b[39;00m name \u001b[38;5;129;01mnot\u001b[39;00m \u001b[38;5;129;01min\u001b[39;00m \u001b[38;5;28mself\u001b[39m\u001b[38;5;241m.\u001b[39m_accessors\n\u001b[0;32m   5899\u001b[0m     \u001b[38;5;129;01mand\u001b[39;00m \u001b[38;5;28mself\u001b[39m\u001b[38;5;241m.\u001b[39m_info_axis\u001b[38;5;241m.\u001b[39m_can_hold_identifiers_and_holds_name(name)\n\u001b[0;32m   5900\u001b[0m ):\n\u001b[0;32m   5901\u001b[0m     \u001b[38;5;28;01mreturn\u001b[39;00m \u001b[38;5;28mself\u001b[39m[name]\n\u001b[1;32m-> 5902\u001b[0m \u001b[38;5;28;01mreturn\u001b[39;00m \u001b[38;5;28;43mobject\u001b[39;49m\u001b[38;5;241;43m.\u001b[39;49m\u001b[38;5;21;43m__getattribute__\u001b[39;49m\u001b[43m(\u001b[49m\u001b[38;5;28;43mself\u001b[39;49m\u001b[43m,\u001b[49m\u001b[43m \u001b[49m\u001b[43mname\u001b[49m\u001b[43m)\u001b[49m\n",
      "\u001b[1;31mAttributeError\u001b[0m: 'DataFrame' object has no attribute 'select'"
     ]
    }
   ],
   "source": [
    "accuracy, f_1_score, weighted_Precision, weighted_Recall, confusionMatrix, classification_metrics = logistic_reg_classifier(my_df.toPandas(), 'FIRE_SIZE_CLASS')"
   ]
  },
  {
   "cell_type": "code",
   "execution_count": null,
   "id": "8653d51f",
   "metadata": {},
   "outputs": [],
   "source": []
  },
  {
   "cell_type": "code",
   "execution_count": 54,
   "id": "79105a7c",
   "metadata": {},
   "outputs": [
    {
     "name": "stdout",
     "output_type": "stream",
     "text": [
      "Acuuracy = 0.1373400219803595\n",
      "f1_score = 0.14577119276084124, \n",
      "weighted_Precision = 0.3827697842901517, \n",
      "weighted_Recall = 0.1373400219803595, \n",
      "confusionMatrix: \n",
      "       A      B       C      D      E      F      G\n",
      "A  33548  10320   48265  17816   7900  17936  64677\n",
      "B  44218  10937  118307  24434  10443  20336  52883\n",
      "C   9286   1778   31211   4739   1984   4234  12599\n",
      "D   1156    271    3211    718    287    601   2305\n",
      "E    507    230    1200    357    146    329   1537\n",
      "F    249    109     435    197     82    201   1064\n",
      "G     81     24     106     64     22     82    718, \n",
      "classification_metrics: \n",
      "              precision    recall  f1-score   support\n",
      "\n",
      "           0       0.38      0.17      0.23    200462\n",
      "           1       0.46      0.04      0.07    281558\n",
      "           2       0.15      0.47      0.23     65831\n",
      "           3       0.01      0.08      0.03      8549\n",
      "           4       0.01      0.03      0.01      4306\n",
      "           5       0.00      0.09      0.01      2337\n",
      "           6       0.01      0.65      0.01      1097\n",
      "\n",
      "    accuracy                           0.14    564140\n",
      "   macro avg       0.15      0.22      0.08    564140\n",
      "weighted avg       0.38      0.14      0.15    564140\n",
      "\n"
     ]
    }
   ],
   "source": [
    "print (f\"Acuuracy = {accuracy}\\n\"\n",
    "       f\"f1_score = {f_1_score}, \\n\"\n",
    "       f\"weighted_Precision = {weighted_Precision}, \\n\"\n",
    "       f\"weighted_Recall = {weighted_Recall}, \\n\"\n",
    "       f\"confusionMatrix: \\n\"\n",
    "       f\"{confusionMatrix}, \\n\"\n",
    "      f\"classification_metrics: \\n\"\n",
    "       f\"{classification_metrics}\")"
   ]
  },
  {
   "cell_type": "code",
   "execution_count": 29,
   "id": "12dcc0cb",
   "metadata": {
    "collapsed": true
   },
   "outputs": [
    {
     "ename": "RecursionError",
     "evalue": "maximum recursion depth exceeded in comparison",
     "output_type": "error",
     "traceback": [
      "\u001b[1;31m---------------------------------------------------------------------------\u001b[0m",
      "\u001b[1;31mRecursionError\u001b[0m                            Traceback (most recent call last)",
      "Cell \u001b[1;32mIn[29], line 3\u001b[0m\n\u001b[0;32m      1\u001b[0m \u001b[38;5;66;03m# this is only for visualizing the procceced data\u001b[39;00m\n\u001b[1;32m----> 3\u001b[0m STATE_indexer, assembler, indexed_df, outputCol \u001b[38;5;241m=\u001b[39m \u001b[43mclassifier_data_prep\u001b[49m\u001b[43m(\u001b[49m\u001b[38;5;124;43m'\u001b[39;49m\u001b[38;5;124;43mFIRE_SIZE_CLASS\u001b[39;49m\u001b[38;5;124;43m'\u001b[39;49m\u001b[43m,\u001b[49m\u001b[43m \u001b[49m\u001b[43mmy_df\u001b[49m\u001b[43m)\u001b[49m\n\u001b[0;32m      5\u001b[0m indexed_df_state_index \u001b[38;5;241m=\u001b[39m STATE_indexer\u001b[38;5;241m.\u001b[39mfit(indexed_df)\u001b[38;5;241m.\u001b[39mtransform(indexed_df)\n\u001b[0;32m      8\u001b[0m inputCols \u001b[38;5;241m=\u001b[39m [ \u001b[38;5;124m'\u001b[39m\u001b[38;5;124mSTATE_Index\u001b[39m\u001b[38;5;124m'\u001b[39m,\u001b[38;5;124m'\u001b[39m\u001b[38;5;124mFIRE_YEAR\u001b[39m\u001b[38;5;124m'\u001b[39m, \u001b[38;5;124m'\u001b[39m\u001b[38;5;124mDISCOVERY_DOY\u001b[39m\u001b[38;5;124m'\u001b[39m,\n\u001b[0;32m      9\u001b[0m                                   \u001b[38;5;124m'\u001b[39m\u001b[38;5;124mSTAT_CAUSE_CODE\u001b[39m\u001b[38;5;124m'\u001b[39m]\n",
      "Cell \u001b[1;32mIn[21], line 19\u001b[0m, in \u001b[0;36mclassifier_data_prep\u001b[1;34m(label, df)\u001b[0m\n\u001b[0;32m     16\u001b[0m outputCol \u001b[38;5;241m=\u001b[39m label \u001b[38;5;241m+\u001b[39m \u001b[38;5;124m'\u001b[39m\u001b[38;5;124m_index\u001b[39m\u001b[38;5;124m'\u001b[39m\n\u001b[0;32m     17\u001b[0m indexer \u001b[38;5;241m=\u001b[39m LabelEncoder()\n\u001b[1;32m---> 19\u001b[0m indexed_labels \u001b[38;5;241m=\u001b[39m \u001b[43mindexer\u001b[49m\u001b[38;5;241;43m.\u001b[39;49m\u001b[43mfit_transform\u001b[49m\u001b[43m(\u001b[49m\u001b[43mdf_final\u001b[49m\u001b[43m[\u001b[49m\u001b[43mlabel\u001b[49m\u001b[43m]\u001b[49m\u001b[43m)\u001b[49m\n\u001b[0;32m     21\u001b[0m features \u001b[38;5;241m=\u001b[39m df_final\u001b[38;5;241m.\u001b[39mdrop(label, axis\u001b[38;5;241m=\u001b[39m\u001b[38;5;241m1\u001b[39m)\n\u001b[0;32m     23\u001b[0m \u001b[38;5;28;01mreturn\u001b[39;00m features, indexed_labels, indexer\n",
      "File \u001b[1;32m~\\anaconda3\\envs\\gpufordl\\lib\\site-packages\\sklearn\\utils\\_set_output.py:140\u001b[0m, in \u001b[0;36m_wrap_method_output.<locals>.wrapped\u001b[1;34m(self, X, *args, **kwargs)\u001b[0m\n\u001b[0;32m    138\u001b[0m \u001b[38;5;129m@wraps\u001b[39m(f)\n\u001b[0;32m    139\u001b[0m \u001b[38;5;28;01mdef\u001b[39;00m \u001b[38;5;21mwrapped\u001b[39m(\u001b[38;5;28mself\u001b[39m, X, \u001b[38;5;241m*\u001b[39margs, \u001b[38;5;241m*\u001b[39m\u001b[38;5;241m*\u001b[39mkwargs):\n\u001b[1;32m--> 140\u001b[0m     data_to_wrap \u001b[38;5;241m=\u001b[39m \u001b[43mf\u001b[49m\u001b[43m(\u001b[49m\u001b[38;5;28;43mself\u001b[39;49m\u001b[43m,\u001b[49m\u001b[43m \u001b[49m\u001b[43mX\u001b[49m\u001b[43m,\u001b[49m\u001b[43m \u001b[49m\u001b[38;5;241;43m*\u001b[39;49m\u001b[43margs\u001b[49m\u001b[43m,\u001b[49m\u001b[43m \u001b[49m\u001b[38;5;241;43m*\u001b[39;49m\u001b[38;5;241;43m*\u001b[39;49m\u001b[43mkwargs\u001b[49m\u001b[43m)\u001b[49m\n\u001b[0;32m    141\u001b[0m     \u001b[38;5;28;01mif\u001b[39;00m \u001b[38;5;28misinstance\u001b[39m(data_to_wrap, \u001b[38;5;28mtuple\u001b[39m):\n\u001b[0;32m    142\u001b[0m         \u001b[38;5;66;03m# only wrap the first output for cross decomposition\u001b[39;00m\n\u001b[0;32m    143\u001b[0m         \u001b[38;5;28;01mreturn\u001b[39;00m (\n\u001b[0;32m    144\u001b[0m             _wrap_data_with_container(method, data_to_wrap[\u001b[38;5;241m0\u001b[39m], X, \u001b[38;5;28mself\u001b[39m),\n\u001b[0;32m    145\u001b[0m             \u001b[38;5;241m*\u001b[39mdata_to_wrap[\u001b[38;5;241m1\u001b[39m:],\n\u001b[0;32m    146\u001b[0m         )\n",
      "File \u001b[1;32m~\\anaconda3\\envs\\gpufordl\\lib\\site-packages\\sklearn\\preprocessing\\_label.py:116\u001b[0m, in \u001b[0;36mLabelEncoder.fit_transform\u001b[1;34m(self, y)\u001b[0m\n\u001b[0;32m    103\u001b[0m \u001b[38;5;28;01mdef\u001b[39;00m \u001b[38;5;21mfit_transform\u001b[39m(\u001b[38;5;28mself\u001b[39m, y):\n\u001b[0;32m    104\u001b[0m     \u001b[38;5;124;03m\"\"\"Fit label encoder and return encoded labels.\u001b[39;00m\n\u001b[0;32m    105\u001b[0m \n\u001b[0;32m    106\u001b[0m \u001b[38;5;124;03m    Parameters\u001b[39;00m\n\u001b[1;32m   (...)\u001b[0m\n\u001b[0;32m    114\u001b[0m \u001b[38;5;124;03m        Encoded labels.\u001b[39;00m\n\u001b[0;32m    115\u001b[0m \u001b[38;5;124;03m    \"\"\"\u001b[39;00m\n\u001b[1;32m--> 116\u001b[0m     y \u001b[38;5;241m=\u001b[39m \u001b[43mcolumn_or_1d\u001b[49m\u001b[43m(\u001b[49m\u001b[43my\u001b[49m\u001b[43m,\u001b[49m\u001b[43m \u001b[49m\u001b[43mwarn\u001b[49m\u001b[38;5;241;43m=\u001b[39;49m\u001b[38;5;28;43;01mTrue\u001b[39;49;00m\u001b[43m)\u001b[49m\n\u001b[0;32m    117\u001b[0m     \u001b[38;5;28mself\u001b[39m\u001b[38;5;241m.\u001b[39mclasses_, y \u001b[38;5;241m=\u001b[39m _unique(y, return_inverse\u001b[38;5;241m=\u001b[39m\u001b[38;5;28;01mTrue\u001b[39;00m)\n\u001b[0;32m    118\u001b[0m     \u001b[38;5;28;01mreturn\u001b[39;00m y\n",
      "File \u001b[1;32m~\\anaconda3\\envs\\gpufordl\\lib\\site-packages\\sklearn\\utils\\validation.py:1179\u001b[0m, in \u001b[0;36mcolumn_or_1d\u001b[1;34m(y, dtype, warn)\u001b[0m\n\u001b[0;32m   1153\u001b[0m \u001b[38;5;124;03m\"\"\"Ravel column or 1d numpy array, else raises an error.\u001b[39;00m\n\u001b[0;32m   1154\u001b[0m \n\u001b[0;32m   1155\u001b[0m \u001b[38;5;124;03mParameters\u001b[39;00m\n\u001b[1;32m   (...)\u001b[0m\n\u001b[0;32m   1176\u001b[0m \u001b[38;5;124;03m    If `y` is not a 1D array or a 2D array with a single row or column.\u001b[39;00m\n\u001b[0;32m   1177\u001b[0m \u001b[38;5;124;03m\"\"\"\u001b[39;00m\n\u001b[0;32m   1178\u001b[0m xp, _ \u001b[38;5;241m=\u001b[39m get_namespace(y)\n\u001b[1;32m-> 1179\u001b[0m y \u001b[38;5;241m=\u001b[39m \u001b[43mcheck_array\u001b[49m\u001b[43m(\u001b[49m\n\u001b[0;32m   1180\u001b[0m \u001b[43m    \u001b[49m\u001b[43my\u001b[49m\u001b[43m,\u001b[49m\n\u001b[0;32m   1181\u001b[0m \u001b[43m    \u001b[49m\u001b[43mensure_2d\u001b[49m\u001b[38;5;241;43m=\u001b[39;49m\u001b[38;5;28;43;01mFalse\u001b[39;49;00m\u001b[43m,\u001b[49m\n\u001b[0;32m   1182\u001b[0m \u001b[43m    \u001b[49m\u001b[43mdtype\u001b[49m\u001b[38;5;241;43m=\u001b[39;49m\u001b[43mdtype\u001b[49m\u001b[43m,\u001b[49m\n\u001b[0;32m   1183\u001b[0m \u001b[43m    \u001b[49m\u001b[43minput_name\u001b[49m\u001b[38;5;241;43m=\u001b[39;49m\u001b[38;5;124;43m\"\u001b[39;49m\u001b[38;5;124;43my\u001b[39;49m\u001b[38;5;124;43m\"\u001b[39;49m\u001b[43m,\u001b[49m\n\u001b[0;32m   1184\u001b[0m \u001b[43m    \u001b[49m\u001b[43mforce_all_finite\u001b[49m\u001b[38;5;241;43m=\u001b[39;49m\u001b[38;5;28;43;01mFalse\u001b[39;49;00m\u001b[43m,\u001b[49m\n\u001b[0;32m   1185\u001b[0m \u001b[43m    \u001b[49m\u001b[43mensure_min_samples\u001b[49m\u001b[38;5;241;43m=\u001b[39;49m\u001b[38;5;241;43m0\u001b[39;49m\u001b[43m,\u001b[49m\n\u001b[0;32m   1186\u001b[0m \u001b[43m\u001b[49m\u001b[43m)\u001b[49m\n\u001b[0;32m   1188\u001b[0m shape \u001b[38;5;241m=\u001b[39m y\u001b[38;5;241m.\u001b[39mshape\n\u001b[0;32m   1189\u001b[0m \u001b[38;5;28;01mif\u001b[39;00m \u001b[38;5;28mlen\u001b[39m(shape) \u001b[38;5;241m==\u001b[39m \u001b[38;5;241m1\u001b[39m:\n",
      "File \u001b[1;32m~\\anaconda3\\envs\\gpufordl\\lib\\site-packages\\sklearn\\utils\\validation.py:782\u001b[0m, in \u001b[0;36mcheck_array\u001b[1;34m(array, accept_sparse, accept_large_sparse, dtype, order, copy, force_all_finite, ensure_2d, allow_nd, ensure_min_samples, ensure_min_features, estimator, input_name)\u001b[0m\n\u001b[0;32m    778\u001b[0m         dtype_orig \u001b[38;5;241m=\u001b[39m np\u001b[38;5;241m.\u001b[39mresult_type(\u001b[38;5;241m*\u001b[39mdtypes_orig)\n\u001b[0;32m    780\u001b[0m \u001b[38;5;28;01melif\u001b[39;00m \u001b[38;5;28mhasattr\u001b[39m(array, \u001b[38;5;124m\"\u001b[39m\u001b[38;5;124miloc\u001b[39m\u001b[38;5;124m\"\u001b[39m) \u001b[38;5;129;01mand\u001b[39;00m \u001b[38;5;28mhasattr\u001b[39m(array, \u001b[38;5;124m\"\u001b[39m\u001b[38;5;124mdtype\u001b[39m\u001b[38;5;124m\"\u001b[39m):\n\u001b[0;32m    781\u001b[0m     \u001b[38;5;66;03m# array is a pandas series\u001b[39;00m\n\u001b[1;32m--> 782\u001b[0m     pandas_requires_conversion \u001b[38;5;241m=\u001b[39m \u001b[43m_pandas_dtype_needs_early_conversion\u001b[49m\u001b[43m(\u001b[49m\u001b[43marray\u001b[49m\u001b[38;5;241;43m.\u001b[39;49m\u001b[43mdtype\u001b[49m\u001b[43m)\u001b[49m\n\u001b[0;32m    783\u001b[0m     \u001b[38;5;28;01mif\u001b[39;00m \u001b[38;5;28misinstance\u001b[39m(array\u001b[38;5;241m.\u001b[39mdtype, np\u001b[38;5;241m.\u001b[39mdtype):\n\u001b[0;32m    784\u001b[0m         dtype_orig \u001b[38;5;241m=\u001b[39m array\u001b[38;5;241m.\u001b[39mdtype\n",
      "File \u001b[1;32m~\\anaconda3\\envs\\gpufordl\\lib\\site-packages\\sklearn\\utils\\validation.py:600\u001b[0m, in \u001b[0;36m_pandas_dtype_needs_early_conversion\u001b[1;34m(pd_dtype)\u001b[0m\n\u001b[0;32m    592\u001b[0m \u001b[38;5;66;03m# Check these early for pandas versions without extension dtypes\u001b[39;00m\n\u001b[0;32m    593\u001b[0m \u001b[38;5;28;01mfrom\u001b[39;00m \u001b[38;5;21;01mpandas\u001b[39;00m\u001b[38;5;21;01m.\u001b[39;00m\u001b[38;5;21;01mapi\u001b[39;00m\u001b[38;5;21;01m.\u001b[39;00m\u001b[38;5;21;01mtypes\u001b[39;00m \u001b[38;5;28;01mimport\u001b[39;00m (\n\u001b[0;32m    594\u001b[0m     is_bool_dtype,\n\u001b[0;32m    595\u001b[0m     is_sparse,\n\u001b[0;32m    596\u001b[0m     is_float_dtype,\n\u001b[0;32m    597\u001b[0m     is_integer_dtype,\n\u001b[0;32m    598\u001b[0m )\n\u001b[1;32m--> 600\u001b[0m \u001b[38;5;28;01mif\u001b[39;00m \u001b[43mis_bool_dtype\u001b[49m\u001b[43m(\u001b[49m\u001b[43mpd_dtype\u001b[49m\u001b[43m)\u001b[49m:\n\u001b[0;32m    601\u001b[0m     \u001b[38;5;66;03m# bool and extension booleans need early converstion because __array__\u001b[39;00m\n\u001b[0;32m    602\u001b[0m     \u001b[38;5;66;03m# converts mixed dtype dataframes into object dtypes\u001b[39;00m\n\u001b[0;32m    603\u001b[0m     \u001b[38;5;28;01mreturn\u001b[39;00m \u001b[38;5;28;01mTrue\u001b[39;00m\n\u001b[0;32m    605\u001b[0m \u001b[38;5;28;01mif\u001b[39;00m is_sparse(pd_dtype):\n\u001b[0;32m    606\u001b[0m     \u001b[38;5;66;03m# Sparse arrays will be converted later in `check_array`\u001b[39;00m\n",
      "File \u001b[1;32m~\\anaconda3\\envs\\gpufordl\\lib\\site-packages\\pandas\\core\\dtypes\\common.py:1321\u001b[0m, in \u001b[0;36mis_bool_dtype\u001b[1;34m(arr_or_dtype)\u001b[0m\n\u001b[0;32m   1319\u001b[0m     \u001b[38;5;28;01mreturn\u001b[39;00m \u001b[38;5;28;01mFalse\u001b[39;00m\n\u001b[0;32m   1320\u001b[0m \u001b[38;5;28;01mtry\u001b[39;00m:\n\u001b[1;32m-> 1321\u001b[0m     dtype \u001b[38;5;241m=\u001b[39m \u001b[43mget_dtype\u001b[49m\u001b[43m(\u001b[49m\u001b[43marr_or_dtype\u001b[49m\u001b[43m)\u001b[49m\n\u001b[0;32m   1322\u001b[0m \u001b[38;5;28;01mexcept\u001b[39;00m (\u001b[38;5;167;01mTypeError\u001b[39;00m, \u001b[38;5;167;01mValueError\u001b[39;00m):\n\u001b[0;32m   1323\u001b[0m     \u001b[38;5;28;01mreturn\u001b[39;00m \u001b[38;5;28;01mFalse\u001b[39;00m\n",
      "File \u001b[1;32m~\\anaconda3\\envs\\gpufordl\\lib\\site-packages\\pandas\\core\\dtypes\\common.py:1588\u001b[0m, in \u001b[0;36mget_dtype\u001b[1;34m(arr_or_dtype)\u001b[0m\n\u001b[0;32m   1585\u001b[0m \u001b[38;5;28;01melif\u001b[39;00m \u001b[38;5;28mhasattr\u001b[39m(arr_or_dtype, \u001b[38;5;124m\"\u001b[39m\u001b[38;5;124mdtype\u001b[39m\u001b[38;5;124m\"\u001b[39m):\n\u001b[0;32m   1586\u001b[0m     arr_or_dtype \u001b[38;5;241m=\u001b[39m arr_or_dtype\u001b[38;5;241m.\u001b[39mdtype\n\u001b[1;32m-> 1588\u001b[0m \u001b[38;5;28;01mreturn\u001b[39;00m \u001b[43mpandas_dtype\u001b[49m\u001b[43m(\u001b[49m\u001b[43marr_or_dtype\u001b[49m\u001b[43m)\u001b[49m\n",
      "File \u001b[1;32m~\\anaconda3\\envs\\gpufordl\\lib\\site-packages\\pandas\\core\\dtypes\\common.py:1781\u001b[0m, in \u001b[0;36mpandas_dtype\u001b[1;34m(dtype)\u001b[0m\n\u001b[0;32m   1778\u001b[0m \u001b[38;5;66;03m# try a numpy dtype\u001b[39;00m\n\u001b[0;32m   1779\u001b[0m \u001b[38;5;66;03m# raise a consistent TypeError if failed\u001b[39;00m\n\u001b[0;32m   1780\u001b[0m \u001b[38;5;28;01mtry\u001b[39;00m:\n\u001b[1;32m-> 1781\u001b[0m     npdtype \u001b[38;5;241m=\u001b[39m \u001b[43mnp\u001b[49m\u001b[38;5;241;43m.\u001b[39;49m\u001b[43mdtype\u001b[49m\u001b[43m(\u001b[49m\u001b[43mdtype\u001b[49m\u001b[43m)\u001b[49m\n\u001b[0;32m   1782\u001b[0m \u001b[38;5;28;01mexcept\u001b[39;00m \u001b[38;5;167;01mSyntaxError\u001b[39;00m \u001b[38;5;28;01mas\u001b[39;00m err:\n\u001b[0;32m   1783\u001b[0m     \u001b[38;5;66;03m# np.dtype uses `eval` which can raise SyntaxError\u001b[39;00m\n\u001b[0;32m   1784\u001b[0m     \u001b[38;5;28;01mraise\u001b[39;00m \u001b[38;5;167;01mTypeError\u001b[39;00m(\u001b[38;5;124mf\u001b[39m\u001b[38;5;124m\"\u001b[39m\u001b[38;5;124mdata type \u001b[39m\u001b[38;5;124m'\u001b[39m\u001b[38;5;132;01m{\u001b[39;00mdtype\u001b[38;5;132;01m}\u001b[39;00m\u001b[38;5;124m'\u001b[39m\u001b[38;5;124m not understood\u001b[39m\u001b[38;5;124m\"\u001b[39m) \u001b[38;5;28;01mfrom\u001b[39;00m \u001b[38;5;21;01merr\u001b[39;00m\n",
      "File \u001b[1;32m~\\anaconda3\\envs\\gpufordl\\lib\\site-packages\\pyspark\\sql\\column.py:449\u001b[0m, in \u001b[0;36mColumn.__getattr__\u001b[1;34m(self, item)\u001b[0m\n\u001b[0;32m    447\u001b[0m \u001b[38;5;28;01mif\u001b[39;00m item\u001b[38;5;241m.\u001b[39mstartswith(\u001b[38;5;124m\"\u001b[39m\u001b[38;5;124m__\u001b[39m\u001b[38;5;124m\"\u001b[39m):\n\u001b[0;32m    448\u001b[0m     \u001b[38;5;28;01mraise\u001b[39;00m \u001b[38;5;167;01mAttributeError\u001b[39;00m(item)\n\u001b[1;32m--> 449\u001b[0m \u001b[38;5;28;01mreturn\u001b[39;00m \u001b[38;5;28;43mself\u001b[39;49m\u001b[43m[\u001b[49m\u001b[43mitem\u001b[49m\u001b[43m]\u001b[49m\n",
      "File \u001b[1;32m~\\anaconda3\\envs\\gpufordl\\lib\\site-packages\\pyspark\\sql\\column.py:457\u001b[0m, in \u001b[0;36mColumn.__getitem__\u001b[1;34m(self, k)\u001b[0m\n\u001b[0;32m    455\u001b[0m     \u001b[38;5;28;01mreturn\u001b[39;00m \u001b[38;5;28mself\u001b[39m\u001b[38;5;241m.\u001b[39msubstr(k\u001b[38;5;241m.\u001b[39mstart, k\u001b[38;5;241m.\u001b[39mstop)\n\u001b[0;32m    456\u001b[0m \u001b[38;5;28;01melse\u001b[39;00m:\n\u001b[1;32m--> 457\u001b[0m     \u001b[38;5;28;01mreturn\u001b[39;00m \u001b[43m_bin_op\u001b[49m\u001b[43m(\u001b[49m\u001b[38;5;124;43m\"\u001b[39;49m\u001b[38;5;124;43mapply\u001b[39;49m\u001b[38;5;124;43m\"\u001b[39;49m\u001b[43m)\u001b[49m\u001b[43m(\u001b[49m\u001b[38;5;28;43mself\u001b[39;49m\u001b[43m,\u001b[49m\u001b[43m \u001b[49m\u001b[43mk\u001b[49m\u001b[43m)\u001b[49m\n",
      "File \u001b[1;32m~\\anaconda3\\envs\\gpufordl\\lib\\site-packages\\pyspark\\sql\\column.py:111\u001b[0m, in \u001b[0;36m_bin_op.<locals>._\u001b[1;34m(self, other)\u001b[0m\n\u001b[0;32m    109\u001b[0m \u001b[38;5;28;01mdef\u001b[39;00m \u001b[38;5;21m_\u001b[39m(\u001b[38;5;28mself\u001b[39m, other):\n\u001b[0;32m    110\u001b[0m     jc \u001b[38;5;241m=\u001b[39m other\u001b[38;5;241m.\u001b[39m_jc \u001b[38;5;28;01mif\u001b[39;00m \u001b[38;5;28misinstance\u001b[39m(other, Column) \u001b[38;5;28;01melse\u001b[39;00m other\n\u001b[1;32m--> 111\u001b[0m     njc \u001b[38;5;241m=\u001b[39m \u001b[38;5;28;43mgetattr\u001b[39;49m\u001b[43m(\u001b[49m\u001b[38;5;28;43mself\u001b[39;49m\u001b[38;5;241;43m.\u001b[39;49m\u001b[43m_jc\u001b[49m\u001b[43m,\u001b[49m\u001b[43m \u001b[49m\u001b[43mname\u001b[49m\u001b[43m)\u001b[49m\u001b[43m(\u001b[49m\u001b[43mjc\u001b[49m\u001b[43m)\u001b[49m\n\u001b[0;32m    112\u001b[0m     \u001b[38;5;28;01mreturn\u001b[39;00m Column(njc)\n",
      "File \u001b[1;32m~\\anaconda3\\envs\\gpufordl\\lib\\site-packages\\py4j\\java_gateway.py:1296\u001b[0m, in \u001b[0;36mJavaMember.__call__\u001b[1;34m(self, *args)\u001b[0m\n\u001b[0;32m   1295\u001b[0m \u001b[38;5;28;01mdef\u001b[39;00m \u001b[38;5;21m__call__\u001b[39m(\u001b[38;5;28mself\u001b[39m, \u001b[38;5;241m*\u001b[39margs):\n\u001b[1;32m-> 1296\u001b[0m     args_command, temp_args \u001b[38;5;241m=\u001b[39m \u001b[38;5;28;43mself\u001b[39;49m\u001b[38;5;241;43m.\u001b[39;49m\u001b[43m_build_args\u001b[49m\u001b[43m(\u001b[49m\u001b[38;5;241;43m*\u001b[39;49m\u001b[43margs\u001b[49m\u001b[43m)\u001b[49m\n\u001b[0;32m   1298\u001b[0m     command \u001b[38;5;241m=\u001b[39m proto\u001b[38;5;241m.\u001b[39mCALL_COMMAND_NAME \u001b[38;5;241m+\u001b[39m\\\n\u001b[0;32m   1299\u001b[0m         \u001b[38;5;28mself\u001b[39m\u001b[38;5;241m.\u001b[39mcommand_header \u001b[38;5;241m+\u001b[39m\\\n\u001b[0;32m   1300\u001b[0m         args_command \u001b[38;5;241m+\u001b[39m\\\n\u001b[0;32m   1301\u001b[0m         proto\u001b[38;5;241m.\u001b[39mEND_COMMAND_PART\n\u001b[0;32m   1303\u001b[0m     answer \u001b[38;5;241m=\u001b[39m \u001b[38;5;28mself\u001b[39m\u001b[38;5;241m.\u001b[39mgateway_client\u001b[38;5;241m.\u001b[39msend_command(command)\n",
      "File \u001b[1;32m~\\anaconda3\\envs\\gpufordl\\lib\\site-packages\\py4j\\java_gateway.py:1260\u001b[0m, in \u001b[0;36mJavaMember._build_args\u001b[1;34m(self, *args)\u001b[0m\n\u001b[0;32m   1258\u001b[0m \u001b[38;5;28;01mdef\u001b[39;00m \u001b[38;5;21m_build_args\u001b[39m(\u001b[38;5;28mself\u001b[39m, \u001b[38;5;241m*\u001b[39margs):\n\u001b[0;32m   1259\u001b[0m     \u001b[38;5;28;01mif\u001b[39;00m \u001b[38;5;28mself\u001b[39m\u001b[38;5;241m.\u001b[39mconverters \u001b[38;5;129;01mis\u001b[39;00m \u001b[38;5;129;01mnot\u001b[39;00m \u001b[38;5;28;01mNone\u001b[39;00m \u001b[38;5;129;01mand\u001b[39;00m \u001b[38;5;28mlen\u001b[39m(\u001b[38;5;28mself\u001b[39m\u001b[38;5;241m.\u001b[39mconverters) \u001b[38;5;241m>\u001b[39m \u001b[38;5;241m0\u001b[39m:\n\u001b[1;32m-> 1260\u001b[0m         (new_args, temp_args) \u001b[38;5;241m=\u001b[39m \u001b[38;5;28;43mself\u001b[39;49m\u001b[38;5;241;43m.\u001b[39;49m\u001b[43m_get_args\u001b[49m\u001b[43m(\u001b[49m\u001b[43margs\u001b[49m\u001b[43m)\u001b[49m\n\u001b[0;32m   1261\u001b[0m     \u001b[38;5;28;01melse\u001b[39;00m:\n\u001b[0;32m   1262\u001b[0m         new_args \u001b[38;5;241m=\u001b[39m args\n",
      "File \u001b[1;32m~\\anaconda3\\envs\\gpufordl\\lib\\site-packages\\py4j\\java_gateway.py:1246\u001b[0m, in \u001b[0;36mJavaMember._get_args\u001b[1;34m(self, args)\u001b[0m\n\u001b[0;32m   1244\u001b[0m \u001b[38;5;28;01mif\u001b[39;00m \u001b[38;5;129;01mnot\u001b[39;00m \u001b[38;5;28misinstance\u001b[39m(arg, JavaObject):\n\u001b[0;32m   1245\u001b[0m     \u001b[38;5;28;01mfor\u001b[39;00m converter \u001b[38;5;129;01min\u001b[39;00m \u001b[38;5;28mself\u001b[39m\u001b[38;5;241m.\u001b[39mgateway_client\u001b[38;5;241m.\u001b[39mconverters:\n\u001b[1;32m-> 1246\u001b[0m         \u001b[38;5;28;01mif\u001b[39;00m \u001b[43mconverter\u001b[49m\u001b[38;5;241;43m.\u001b[39;49m\u001b[43mcan_convert\u001b[49m\u001b[43m(\u001b[49m\u001b[43marg\u001b[49m\u001b[43m)\u001b[49m:\n\u001b[0;32m   1247\u001b[0m             temp_arg \u001b[38;5;241m=\u001b[39m converter\u001b[38;5;241m.\u001b[39mconvert(arg, \u001b[38;5;28mself\u001b[39m\u001b[38;5;241m.\u001b[39mgateway_client)\n\u001b[0;32m   1248\u001b[0m             temp_args\u001b[38;5;241m.\u001b[39mappend(temp_arg)\n",
      "File \u001b[1;32m~\\anaconda3\\envs\\gpufordl\\lib\\site-packages\\py4j\\java_collections.py:490\u001b[0m, in \u001b[0;36mSetConverter.can_convert\u001b[1;34m(self, object)\u001b[0m\n\u001b[0;32m    489\u001b[0m \u001b[38;5;28;01mdef\u001b[39;00m \u001b[38;5;21mcan_convert\u001b[39m(\u001b[38;5;28mself\u001b[39m, \u001b[38;5;28mobject\u001b[39m):\n\u001b[1;32m--> 490\u001b[0m     \u001b[38;5;28;01mreturn\u001b[39;00m \u001b[38;5;28;43misinstance\u001b[39;49m\u001b[43m(\u001b[49m\u001b[38;5;28;43mobject\u001b[39;49m\u001b[43m,\u001b[49m\u001b[43m \u001b[49m\u001b[43mSet\u001b[49m\u001b[43m)\u001b[49m\n",
      "File \u001b[1;32m~\\anaconda3\\envs\\gpufordl\\lib\\abc.py:98\u001b[0m, in \u001b[0;36mABCMeta.__instancecheck__\u001b[1;34m(cls, instance)\u001b[0m\n\u001b[0;32m     96\u001b[0m \u001b[38;5;28;01mdef\u001b[39;00m \u001b[38;5;21m__instancecheck__\u001b[39m(\u001b[38;5;28mcls\u001b[39m, instance):\n\u001b[0;32m     97\u001b[0m     \u001b[38;5;124;03m\"\"\"Override for isinstance(instance, cls).\"\"\"\u001b[39;00m\n\u001b[1;32m---> 98\u001b[0m     \u001b[38;5;28;01mreturn\u001b[39;00m \u001b[43m_abc_instancecheck\u001b[49m\u001b[43m(\u001b[49m\u001b[38;5;28;43mcls\u001b[39;49m\u001b[43m,\u001b[49m\u001b[43m \u001b[49m\u001b[43minstance\u001b[49m\u001b[43m)\u001b[49m\n",
      "\u001b[1;31mRecursionError\u001b[0m: maximum recursion depth exceeded in comparison"
     ]
    }
   ],
   "source": [
    "# this is only for visualizing the procceced data\n",
    "\n",
    "STATE_indexer, assembler, indexed_df, outputCol = classifier_data_prep('FIRE_SIZE_CLASS', my_df)\n",
    "\n",
    "indexed_df_state_index = STATE_indexer.fit(indexed_df).transform(indexed_df)\n",
    "\n",
    "\n",
    "inputCols = [ 'STATE_Index','FIRE_YEAR', 'DISCOVERY_DOY',\n",
    "                                  'STAT_CAUSE_CODE']\n",
    "\n",
    "\n",
    "assembler = VectorAssembler(inputCols=inputCols, outputCol='features')\n",
    "\n",
    "output = assembler.transform(indexed_df_state_index)\n",
    "for item in output.select('features').head(5):\n",
    "    print (item)"
   ]
  },
  {
   "cell_type": "code",
   "execution_count": 37,
   "id": "029d0a82",
   "metadata": {},
   "outputs": [
    {
     "data": {
      "text/plain": [
       "Row(features=DenseVector([0.0, 2004.0, 133.0, 1.0]))"
      ]
     },
     "execution_count": 37,
     "metadata": {},
     "output_type": "execute_result"
    }
   ],
   "source": [
    "output.select('features').head(5)[1]"
   ]
  },
  {
   "cell_type": "code",
   "execution_count": 28,
   "id": "77eedc89",
   "metadata": {},
   "outputs": [
    {
     "ename": "NameError",
     "evalue": "name 'output' is not defined",
     "output_type": "error",
     "traceback": [
      "\u001b[1;31m---------------------------------------------------------------------------\u001b[0m",
      "\u001b[1;31mNameError\u001b[0m                                 Traceback (most recent call last)",
      "Cell \u001b[1;32mIn[28], line 1\u001b[0m\n\u001b[1;32m----> 1\u001b[0m \u001b[43moutput\u001b[49m\u001b[38;5;241m.\u001b[39mshow()\n",
      "\u001b[1;31mNameError\u001b[0m: name 'output' is not defined"
     ]
    }
   ],
   "source": [
    "output.show()  "
   ]
  },
  {
   "cell_type": "code",
   "execution_count": 42,
   "id": "6ae94639",
   "metadata": {},
   "outputs": [
    {
     "data": {
      "text/plain": [
       "pyspark.sql.dataframe.DataFrame"
      ]
     },
     "execution_count": 42,
     "metadata": {},
     "output_type": "execute_result"
    }
   ],
   "source": [
    "type(output)"
   ]
  },
  {
   "cell_type": "code",
   "execution_count": null,
   "id": "120c82b7",
   "metadata": {},
   "outputs": [],
   "source": []
  },
  {
   "cell_type": "code",
   "execution_count": null,
   "id": "0ab6a4c0",
   "metadata": {},
   "outputs": [],
   "source": []
  },
  {
   "cell_type": "code",
   "execution_count": 58,
   "id": "bd06021b",
   "metadata": {},
   "outputs": [
    {
     "ename": "RecursionError",
     "evalue": "maximum recursion depth exceeded in comparison",
     "output_type": "error",
     "traceback": [
      "\u001b[1;31m---------------------------------------------------------------------------\u001b[0m",
      "\u001b[1;31mRecursionError\u001b[0m                            Traceback (most recent call last)",
      "Cell \u001b[1;32mIn[58], line 1\u001b[0m\n\u001b[1;32m----> 1\u001b[0m accuracy, f_1_score, weighted_Precision, weighted_Recall, confusionMatrix \u001b[38;5;241m=\u001b[39m \u001b[43mlogistic_reg_classifier\u001b[49m\u001b[43m(\u001b[49m\u001b[43mmy_df\u001b[49m\u001b[43m,\u001b[49m\u001b[43m \u001b[49m\u001b[38;5;124;43m'\u001b[39;49m\u001b[38;5;124;43mFIRE_SIZE_CLASS\u001b[39;49m\u001b[38;5;124;43m'\u001b[39;49m\u001b[43m)\u001b[49m\n",
      "Cell \u001b[1;32mIn[56], line 3\u001b[0m, in \u001b[0;36mlogistic_reg_classifier\u001b[1;34m(df, label)\u001b[0m\n\u001b[0;32m      1\u001b[0m \u001b[38;5;28;01mdef\u001b[39;00m \u001b[38;5;21mlogistic_reg_classifier\u001b[39m(df, label):\n\u001b[1;32m----> 3\u001b[0m     STATE_indexer, assembler, label_indexed_df, outputCol \u001b[38;5;241m=\u001b[39m \u001b[43mclassifier_data_prep\u001b[49m\u001b[43m \u001b[49m\u001b[43m(\u001b[49m\u001b[43mlabel\u001b[49m\u001b[43m,\u001b[49m\u001b[43m \u001b[49m\u001b[43mdf\u001b[49m\u001b[43m)\u001b[49m\n\u001b[0;32m      6\u001b[0m     log_reg_model \u001b[38;5;241m=\u001b[39m LogisticRegression(featuresCol\u001b[38;5;241m=\u001b[39m\u001b[38;5;124m'\u001b[39m\u001b[38;5;124mfeatures\u001b[39m\u001b[38;5;124m'\u001b[39m, labelCol\u001b[38;5;241m=\u001b[39moutputCol, family\u001b[38;5;241m=\u001b[39m\u001b[38;5;124m\"\u001b[39m\u001b[38;5;124mmultinomial\u001b[39m\u001b[38;5;124m\"\u001b[39m)\n\u001b[0;32m      7\u001b[0m     \u001b[38;5;66;03m#log_reg_model = LogisticRegression(featuresCol='features', labelCol='FIRE_SIZE_CLASS_Index')\u001b[39;00m\n",
      "Cell \u001b[1;32mIn[55], line 19\u001b[0m, in \u001b[0;36mclassifier_data_prep\u001b[1;34m(label, df)\u001b[0m\n\u001b[0;32m     16\u001b[0m outputCol \u001b[38;5;241m=\u001b[39m label \u001b[38;5;241m+\u001b[39m \u001b[38;5;124m'\u001b[39m\u001b[38;5;124m_index\u001b[39m\u001b[38;5;124m'\u001b[39m\n\u001b[0;32m     17\u001b[0m indexer \u001b[38;5;241m=\u001b[39m LabelEncoder()\n\u001b[1;32m---> 19\u001b[0m df_final[\u001b[38;5;124m'\u001b[39m\u001b[38;5;124mSTATE_ENCODED\u001b[39m\u001b[38;5;124m'\u001b[39m] \u001b[38;5;241m=\u001b[39m \u001b[43mindexer\u001b[49m\u001b[38;5;241;43m.\u001b[39;49m\u001b[43mfit_transform\u001b[49m\u001b[43m(\u001b[49m\u001b[43mdf_final\u001b[49m\u001b[43m[\u001b[49m\u001b[38;5;124;43m'\u001b[39;49m\u001b[38;5;124;43mSTATE\u001b[39;49m\u001b[38;5;124;43m'\u001b[39;49m\u001b[43m]\u001b[49m\u001b[43m)\u001b[49m\n\u001b[0;32m     21\u001b[0m indexed_labels \u001b[38;5;241m=\u001b[39m indexer\u001b[38;5;241m.\u001b[39mfit_transform(df_final[label])\n\u001b[0;32m     23\u001b[0m numerical_features \u001b[38;5;241m=\u001b[39m [\u001b[38;5;124m'\u001b[39m\u001b[38;5;124mFIRE_YEAR\u001b[39m\u001b[38;5;124m'\u001b[39m, \u001b[38;5;124m'\u001b[39m\u001b[38;5;124mDISCOVERY_DOY\u001b[39m\u001b[38;5;124m'\u001b[39m, \u001b[38;5;124m'\u001b[39m\u001b[38;5;124mSTAT_CAUSE_CODE\u001b[39m\u001b[38;5;124m'\u001b[39m, \u001b[38;5;124m'\u001b[39m\u001b[38;5;124mSTATE_ENCODED\u001b[39m\u001b[38;5;124m'\u001b[39m]\n",
      "File \u001b[1;32m~\\anaconda3\\envs\\gpufordl\\lib\\site-packages\\sklearn\\utils\\_set_output.py:140\u001b[0m, in \u001b[0;36m_wrap_method_output.<locals>.wrapped\u001b[1;34m(self, X, *args, **kwargs)\u001b[0m\n\u001b[0;32m    138\u001b[0m \u001b[38;5;129m@wraps\u001b[39m(f)\n\u001b[0;32m    139\u001b[0m \u001b[38;5;28;01mdef\u001b[39;00m \u001b[38;5;21mwrapped\u001b[39m(\u001b[38;5;28mself\u001b[39m, X, \u001b[38;5;241m*\u001b[39margs, \u001b[38;5;241m*\u001b[39m\u001b[38;5;241m*\u001b[39mkwargs):\n\u001b[1;32m--> 140\u001b[0m     data_to_wrap \u001b[38;5;241m=\u001b[39m \u001b[43mf\u001b[49m\u001b[43m(\u001b[49m\u001b[38;5;28;43mself\u001b[39;49m\u001b[43m,\u001b[49m\u001b[43m \u001b[49m\u001b[43mX\u001b[49m\u001b[43m,\u001b[49m\u001b[43m \u001b[49m\u001b[38;5;241;43m*\u001b[39;49m\u001b[43margs\u001b[49m\u001b[43m,\u001b[49m\u001b[43m \u001b[49m\u001b[38;5;241;43m*\u001b[39;49m\u001b[38;5;241;43m*\u001b[39;49m\u001b[43mkwargs\u001b[49m\u001b[43m)\u001b[49m\n\u001b[0;32m    141\u001b[0m     \u001b[38;5;28;01mif\u001b[39;00m \u001b[38;5;28misinstance\u001b[39m(data_to_wrap, \u001b[38;5;28mtuple\u001b[39m):\n\u001b[0;32m    142\u001b[0m         \u001b[38;5;66;03m# only wrap the first output for cross decomposition\u001b[39;00m\n\u001b[0;32m    143\u001b[0m         \u001b[38;5;28;01mreturn\u001b[39;00m (\n\u001b[0;32m    144\u001b[0m             _wrap_data_with_container(method, data_to_wrap[\u001b[38;5;241m0\u001b[39m], X, \u001b[38;5;28mself\u001b[39m),\n\u001b[0;32m    145\u001b[0m             \u001b[38;5;241m*\u001b[39mdata_to_wrap[\u001b[38;5;241m1\u001b[39m:],\n\u001b[0;32m    146\u001b[0m         )\n",
      "File \u001b[1;32m~\\anaconda3\\envs\\gpufordl\\lib\\site-packages\\sklearn\\preprocessing\\_label.py:116\u001b[0m, in \u001b[0;36mLabelEncoder.fit_transform\u001b[1;34m(self, y)\u001b[0m\n\u001b[0;32m    103\u001b[0m \u001b[38;5;28;01mdef\u001b[39;00m \u001b[38;5;21mfit_transform\u001b[39m(\u001b[38;5;28mself\u001b[39m, y):\n\u001b[0;32m    104\u001b[0m     \u001b[38;5;124;03m\"\"\"Fit label encoder and return encoded labels.\u001b[39;00m\n\u001b[0;32m    105\u001b[0m \n\u001b[0;32m    106\u001b[0m \u001b[38;5;124;03m    Parameters\u001b[39;00m\n\u001b[1;32m   (...)\u001b[0m\n\u001b[0;32m    114\u001b[0m \u001b[38;5;124;03m        Encoded labels.\u001b[39;00m\n\u001b[0;32m    115\u001b[0m \u001b[38;5;124;03m    \"\"\"\u001b[39;00m\n\u001b[1;32m--> 116\u001b[0m     y \u001b[38;5;241m=\u001b[39m \u001b[43mcolumn_or_1d\u001b[49m\u001b[43m(\u001b[49m\u001b[43my\u001b[49m\u001b[43m,\u001b[49m\u001b[43m \u001b[49m\u001b[43mwarn\u001b[49m\u001b[38;5;241;43m=\u001b[39;49m\u001b[38;5;28;43;01mTrue\u001b[39;49;00m\u001b[43m)\u001b[49m\n\u001b[0;32m    117\u001b[0m     \u001b[38;5;28mself\u001b[39m\u001b[38;5;241m.\u001b[39mclasses_, y \u001b[38;5;241m=\u001b[39m _unique(y, return_inverse\u001b[38;5;241m=\u001b[39m\u001b[38;5;28;01mTrue\u001b[39;00m)\n\u001b[0;32m    118\u001b[0m     \u001b[38;5;28;01mreturn\u001b[39;00m y\n",
      "File \u001b[1;32m~\\anaconda3\\envs\\gpufordl\\lib\\site-packages\\sklearn\\utils\\validation.py:1179\u001b[0m, in \u001b[0;36mcolumn_or_1d\u001b[1;34m(y, dtype, warn)\u001b[0m\n\u001b[0;32m   1153\u001b[0m \u001b[38;5;124;03m\"\"\"Ravel column or 1d numpy array, else raises an error.\u001b[39;00m\n\u001b[0;32m   1154\u001b[0m \n\u001b[0;32m   1155\u001b[0m \u001b[38;5;124;03mParameters\u001b[39;00m\n\u001b[1;32m   (...)\u001b[0m\n\u001b[0;32m   1176\u001b[0m \u001b[38;5;124;03m    If `y` is not a 1D array or a 2D array with a single row or column.\u001b[39;00m\n\u001b[0;32m   1177\u001b[0m \u001b[38;5;124;03m\"\"\"\u001b[39;00m\n\u001b[0;32m   1178\u001b[0m xp, _ \u001b[38;5;241m=\u001b[39m get_namespace(y)\n\u001b[1;32m-> 1179\u001b[0m y \u001b[38;5;241m=\u001b[39m \u001b[43mcheck_array\u001b[49m\u001b[43m(\u001b[49m\n\u001b[0;32m   1180\u001b[0m \u001b[43m    \u001b[49m\u001b[43my\u001b[49m\u001b[43m,\u001b[49m\n\u001b[0;32m   1181\u001b[0m \u001b[43m    \u001b[49m\u001b[43mensure_2d\u001b[49m\u001b[38;5;241;43m=\u001b[39;49m\u001b[38;5;28;43;01mFalse\u001b[39;49;00m\u001b[43m,\u001b[49m\n\u001b[0;32m   1182\u001b[0m \u001b[43m    \u001b[49m\u001b[43mdtype\u001b[49m\u001b[38;5;241;43m=\u001b[39;49m\u001b[43mdtype\u001b[49m\u001b[43m,\u001b[49m\n\u001b[0;32m   1183\u001b[0m \u001b[43m    \u001b[49m\u001b[43minput_name\u001b[49m\u001b[38;5;241;43m=\u001b[39;49m\u001b[38;5;124;43m\"\u001b[39;49m\u001b[38;5;124;43my\u001b[39;49m\u001b[38;5;124;43m\"\u001b[39;49m\u001b[43m,\u001b[49m\n\u001b[0;32m   1184\u001b[0m \u001b[43m    \u001b[49m\u001b[43mforce_all_finite\u001b[49m\u001b[38;5;241;43m=\u001b[39;49m\u001b[38;5;28;43;01mFalse\u001b[39;49;00m\u001b[43m,\u001b[49m\n\u001b[0;32m   1185\u001b[0m \u001b[43m    \u001b[49m\u001b[43mensure_min_samples\u001b[49m\u001b[38;5;241;43m=\u001b[39;49m\u001b[38;5;241;43m0\u001b[39;49m\u001b[43m,\u001b[49m\n\u001b[0;32m   1186\u001b[0m \u001b[43m\u001b[49m\u001b[43m)\u001b[49m\n\u001b[0;32m   1188\u001b[0m shape \u001b[38;5;241m=\u001b[39m y\u001b[38;5;241m.\u001b[39mshape\n\u001b[0;32m   1189\u001b[0m \u001b[38;5;28;01mif\u001b[39;00m \u001b[38;5;28mlen\u001b[39m(shape) \u001b[38;5;241m==\u001b[39m \u001b[38;5;241m1\u001b[39m:\n",
      "File \u001b[1;32m~\\anaconda3\\envs\\gpufordl\\lib\\site-packages\\sklearn\\utils\\validation.py:782\u001b[0m, in \u001b[0;36mcheck_array\u001b[1;34m(array, accept_sparse, accept_large_sparse, dtype, order, copy, force_all_finite, ensure_2d, allow_nd, ensure_min_samples, ensure_min_features, estimator, input_name)\u001b[0m\n\u001b[0;32m    778\u001b[0m         dtype_orig \u001b[38;5;241m=\u001b[39m np\u001b[38;5;241m.\u001b[39mresult_type(\u001b[38;5;241m*\u001b[39mdtypes_orig)\n\u001b[0;32m    780\u001b[0m \u001b[38;5;28;01melif\u001b[39;00m \u001b[38;5;28mhasattr\u001b[39m(array, \u001b[38;5;124m\"\u001b[39m\u001b[38;5;124miloc\u001b[39m\u001b[38;5;124m\"\u001b[39m) \u001b[38;5;129;01mand\u001b[39;00m \u001b[38;5;28mhasattr\u001b[39m(array, \u001b[38;5;124m\"\u001b[39m\u001b[38;5;124mdtype\u001b[39m\u001b[38;5;124m\"\u001b[39m):\n\u001b[0;32m    781\u001b[0m     \u001b[38;5;66;03m# array is a pandas series\u001b[39;00m\n\u001b[1;32m--> 782\u001b[0m     pandas_requires_conversion \u001b[38;5;241m=\u001b[39m \u001b[43m_pandas_dtype_needs_early_conversion\u001b[49m\u001b[43m(\u001b[49m\u001b[43marray\u001b[49m\u001b[38;5;241;43m.\u001b[39;49m\u001b[43mdtype\u001b[49m\u001b[43m)\u001b[49m\n\u001b[0;32m    783\u001b[0m     \u001b[38;5;28;01mif\u001b[39;00m \u001b[38;5;28misinstance\u001b[39m(array\u001b[38;5;241m.\u001b[39mdtype, np\u001b[38;5;241m.\u001b[39mdtype):\n\u001b[0;32m    784\u001b[0m         dtype_orig \u001b[38;5;241m=\u001b[39m array\u001b[38;5;241m.\u001b[39mdtype\n",
      "File \u001b[1;32m~\\anaconda3\\envs\\gpufordl\\lib\\site-packages\\sklearn\\utils\\validation.py:600\u001b[0m, in \u001b[0;36m_pandas_dtype_needs_early_conversion\u001b[1;34m(pd_dtype)\u001b[0m\n\u001b[0;32m    592\u001b[0m \u001b[38;5;66;03m# Check these early for pandas versions without extension dtypes\u001b[39;00m\n\u001b[0;32m    593\u001b[0m \u001b[38;5;28;01mfrom\u001b[39;00m \u001b[38;5;21;01mpandas\u001b[39;00m\u001b[38;5;21;01m.\u001b[39;00m\u001b[38;5;21;01mapi\u001b[39;00m\u001b[38;5;21;01m.\u001b[39;00m\u001b[38;5;21;01mtypes\u001b[39;00m \u001b[38;5;28;01mimport\u001b[39;00m (\n\u001b[0;32m    594\u001b[0m     is_bool_dtype,\n\u001b[0;32m    595\u001b[0m     is_sparse,\n\u001b[0;32m    596\u001b[0m     is_float_dtype,\n\u001b[0;32m    597\u001b[0m     is_integer_dtype,\n\u001b[0;32m    598\u001b[0m )\n\u001b[1;32m--> 600\u001b[0m \u001b[38;5;28;01mif\u001b[39;00m \u001b[43mis_bool_dtype\u001b[49m\u001b[43m(\u001b[49m\u001b[43mpd_dtype\u001b[49m\u001b[43m)\u001b[49m:\n\u001b[0;32m    601\u001b[0m     \u001b[38;5;66;03m# bool and extension booleans need early converstion because __array__\u001b[39;00m\n\u001b[0;32m    602\u001b[0m     \u001b[38;5;66;03m# converts mixed dtype dataframes into object dtypes\u001b[39;00m\n\u001b[0;32m    603\u001b[0m     \u001b[38;5;28;01mreturn\u001b[39;00m \u001b[38;5;28;01mTrue\u001b[39;00m\n\u001b[0;32m    605\u001b[0m \u001b[38;5;28;01mif\u001b[39;00m is_sparse(pd_dtype):\n\u001b[0;32m    606\u001b[0m     \u001b[38;5;66;03m# Sparse arrays will be converted later in `check_array`\u001b[39;00m\n",
      "File \u001b[1;32m~\\anaconda3\\envs\\gpufordl\\lib\\site-packages\\pandas\\core\\dtypes\\common.py:1321\u001b[0m, in \u001b[0;36mis_bool_dtype\u001b[1;34m(arr_or_dtype)\u001b[0m\n\u001b[0;32m   1319\u001b[0m     \u001b[38;5;28;01mreturn\u001b[39;00m \u001b[38;5;28;01mFalse\u001b[39;00m\n\u001b[0;32m   1320\u001b[0m \u001b[38;5;28;01mtry\u001b[39;00m:\n\u001b[1;32m-> 1321\u001b[0m     dtype \u001b[38;5;241m=\u001b[39m \u001b[43mget_dtype\u001b[49m\u001b[43m(\u001b[49m\u001b[43marr_or_dtype\u001b[49m\u001b[43m)\u001b[49m\n\u001b[0;32m   1322\u001b[0m \u001b[38;5;28;01mexcept\u001b[39;00m (\u001b[38;5;167;01mTypeError\u001b[39;00m, \u001b[38;5;167;01mValueError\u001b[39;00m):\n\u001b[0;32m   1323\u001b[0m     \u001b[38;5;28;01mreturn\u001b[39;00m \u001b[38;5;28;01mFalse\u001b[39;00m\n",
      "File \u001b[1;32m~\\anaconda3\\envs\\gpufordl\\lib\\site-packages\\pandas\\core\\dtypes\\common.py:1588\u001b[0m, in \u001b[0;36mget_dtype\u001b[1;34m(arr_or_dtype)\u001b[0m\n\u001b[0;32m   1585\u001b[0m \u001b[38;5;28;01melif\u001b[39;00m \u001b[38;5;28mhasattr\u001b[39m(arr_or_dtype, \u001b[38;5;124m\"\u001b[39m\u001b[38;5;124mdtype\u001b[39m\u001b[38;5;124m\"\u001b[39m):\n\u001b[0;32m   1586\u001b[0m     arr_or_dtype \u001b[38;5;241m=\u001b[39m arr_or_dtype\u001b[38;5;241m.\u001b[39mdtype\n\u001b[1;32m-> 1588\u001b[0m \u001b[38;5;28;01mreturn\u001b[39;00m \u001b[43mpandas_dtype\u001b[49m\u001b[43m(\u001b[49m\u001b[43marr_or_dtype\u001b[49m\u001b[43m)\u001b[49m\n",
      "File \u001b[1;32m~\\anaconda3\\envs\\gpufordl\\lib\\site-packages\\pandas\\core\\dtypes\\common.py:1781\u001b[0m, in \u001b[0;36mpandas_dtype\u001b[1;34m(dtype)\u001b[0m\n\u001b[0;32m   1778\u001b[0m \u001b[38;5;66;03m# try a numpy dtype\u001b[39;00m\n\u001b[0;32m   1779\u001b[0m \u001b[38;5;66;03m# raise a consistent TypeError if failed\u001b[39;00m\n\u001b[0;32m   1780\u001b[0m \u001b[38;5;28;01mtry\u001b[39;00m:\n\u001b[1;32m-> 1781\u001b[0m     npdtype \u001b[38;5;241m=\u001b[39m \u001b[43mnp\u001b[49m\u001b[38;5;241;43m.\u001b[39;49m\u001b[43mdtype\u001b[49m\u001b[43m(\u001b[49m\u001b[43mdtype\u001b[49m\u001b[43m)\u001b[49m\n\u001b[0;32m   1782\u001b[0m \u001b[38;5;28;01mexcept\u001b[39;00m \u001b[38;5;167;01mSyntaxError\u001b[39;00m \u001b[38;5;28;01mas\u001b[39;00m err:\n\u001b[0;32m   1783\u001b[0m     \u001b[38;5;66;03m# np.dtype uses `eval` which can raise SyntaxError\u001b[39;00m\n\u001b[0;32m   1784\u001b[0m     \u001b[38;5;28;01mraise\u001b[39;00m \u001b[38;5;167;01mTypeError\u001b[39;00m(\u001b[38;5;124mf\u001b[39m\u001b[38;5;124m\"\u001b[39m\u001b[38;5;124mdata type \u001b[39m\u001b[38;5;124m'\u001b[39m\u001b[38;5;132;01m{\u001b[39;00mdtype\u001b[38;5;132;01m}\u001b[39;00m\u001b[38;5;124m'\u001b[39m\u001b[38;5;124m not understood\u001b[39m\u001b[38;5;124m\"\u001b[39m) \u001b[38;5;28;01mfrom\u001b[39;00m \u001b[38;5;21;01merr\u001b[39;00m\n",
      "File \u001b[1;32m~\\anaconda3\\envs\\gpufordl\\lib\\site-packages\\pyspark\\sql\\column.py:449\u001b[0m, in \u001b[0;36mColumn.__getattr__\u001b[1;34m(self, item)\u001b[0m\n\u001b[0;32m    447\u001b[0m \u001b[38;5;28;01mif\u001b[39;00m item\u001b[38;5;241m.\u001b[39mstartswith(\u001b[38;5;124m\"\u001b[39m\u001b[38;5;124m__\u001b[39m\u001b[38;5;124m\"\u001b[39m):\n\u001b[0;32m    448\u001b[0m     \u001b[38;5;28;01mraise\u001b[39;00m \u001b[38;5;167;01mAttributeError\u001b[39;00m(item)\n\u001b[1;32m--> 449\u001b[0m \u001b[38;5;28;01mreturn\u001b[39;00m \u001b[38;5;28;43mself\u001b[39;49m\u001b[43m[\u001b[49m\u001b[43mitem\u001b[49m\u001b[43m]\u001b[49m\n",
      "File \u001b[1;32m~\\anaconda3\\envs\\gpufordl\\lib\\site-packages\\pyspark\\sql\\column.py:457\u001b[0m, in \u001b[0;36mColumn.__getitem__\u001b[1;34m(self, k)\u001b[0m\n\u001b[0;32m    455\u001b[0m     \u001b[38;5;28;01mreturn\u001b[39;00m \u001b[38;5;28mself\u001b[39m\u001b[38;5;241m.\u001b[39msubstr(k\u001b[38;5;241m.\u001b[39mstart, k\u001b[38;5;241m.\u001b[39mstop)\n\u001b[0;32m    456\u001b[0m \u001b[38;5;28;01melse\u001b[39;00m:\n\u001b[1;32m--> 457\u001b[0m     \u001b[38;5;28;01mreturn\u001b[39;00m \u001b[43m_bin_op\u001b[49m\u001b[43m(\u001b[49m\u001b[38;5;124;43m\"\u001b[39;49m\u001b[38;5;124;43mapply\u001b[39;49m\u001b[38;5;124;43m\"\u001b[39;49m\u001b[43m)\u001b[49m\u001b[43m(\u001b[49m\u001b[38;5;28;43mself\u001b[39;49m\u001b[43m,\u001b[49m\u001b[43m \u001b[49m\u001b[43mk\u001b[49m\u001b[43m)\u001b[49m\n",
      "File \u001b[1;32m~\\anaconda3\\envs\\gpufordl\\lib\\site-packages\\pyspark\\sql\\column.py:111\u001b[0m, in \u001b[0;36m_bin_op.<locals>._\u001b[1;34m(self, other)\u001b[0m\n\u001b[0;32m    109\u001b[0m \u001b[38;5;28;01mdef\u001b[39;00m \u001b[38;5;21m_\u001b[39m(\u001b[38;5;28mself\u001b[39m, other):\n\u001b[0;32m    110\u001b[0m     jc \u001b[38;5;241m=\u001b[39m other\u001b[38;5;241m.\u001b[39m_jc \u001b[38;5;28;01mif\u001b[39;00m \u001b[38;5;28misinstance\u001b[39m(other, Column) \u001b[38;5;28;01melse\u001b[39;00m other\n\u001b[1;32m--> 111\u001b[0m     njc \u001b[38;5;241m=\u001b[39m \u001b[38;5;28;43mgetattr\u001b[39;49m\u001b[43m(\u001b[49m\u001b[38;5;28;43mself\u001b[39;49m\u001b[38;5;241;43m.\u001b[39;49m\u001b[43m_jc\u001b[49m\u001b[43m,\u001b[49m\u001b[43m \u001b[49m\u001b[43mname\u001b[49m\u001b[43m)\u001b[49m\u001b[43m(\u001b[49m\u001b[43mjc\u001b[49m\u001b[43m)\u001b[49m\n\u001b[0;32m    112\u001b[0m     \u001b[38;5;28;01mreturn\u001b[39;00m Column(njc)\n",
      "File \u001b[1;32m~\\anaconda3\\envs\\gpufordl\\lib\\site-packages\\py4j\\java_gateway.py:1296\u001b[0m, in \u001b[0;36mJavaMember.__call__\u001b[1;34m(self, *args)\u001b[0m\n\u001b[0;32m   1295\u001b[0m \u001b[38;5;28;01mdef\u001b[39;00m \u001b[38;5;21m__call__\u001b[39m(\u001b[38;5;28mself\u001b[39m, \u001b[38;5;241m*\u001b[39margs):\n\u001b[1;32m-> 1296\u001b[0m     args_command, temp_args \u001b[38;5;241m=\u001b[39m \u001b[38;5;28;43mself\u001b[39;49m\u001b[38;5;241;43m.\u001b[39;49m\u001b[43m_build_args\u001b[49m\u001b[43m(\u001b[49m\u001b[38;5;241;43m*\u001b[39;49m\u001b[43margs\u001b[49m\u001b[43m)\u001b[49m\n\u001b[0;32m   1298\u001b[0m     command \u001b[38;5;241m=\u001b[39m proto\u001b[38;5;241m.\u001b[39mCALL_COMMAND_NAME \u001b[38;5;241m+\u001b[39m\\\n\u001b[0;32m   1299\u001b[0m         \u001b[38;5;28mself\u001b[39m\u001b[38;5;241m.\u001b[39mcommand_header \u001b[38;5;241m+\u001b[39m\\\n\u001b[0;32m   1300\u001b[0m         args_command \u001b[38;5;241m+\u001b[39m\\\n\u001b[0;32m   1301\u001b[0m         proto\u001b[38;5;241m.\u001b[39mEND_COMMAND_PART\n\u001b[0;32m   1303\u001b[0m     answer \u001b[38;5;241m=\u001b[39m \u001b[38;5;28mself\u001b[39m\u001b[38;5;241m.\u001b[39mgateway_client\u001b[38;5;241m.\u001b[39msend_command(command)\n",
      "File \u001b[1;32m~\\anaconda3\\envs\\gpufordl\\lib\\site-packages\\py4j\\java_gateway.py:1260\u001b[0m, in \u001b[0;36mJavaMember._build_args\u001b[1;34m(self, *args)\u001b[0m\n\u001b[0;32m   1258\u001b[0m \u001b[38;5;28;01mdef\u001b[39;00m \u001b[38;5;21m_build_args\u001b[39m(\u001b[38;5;28mself\u001b[39m, \u001b[38;5;241m*\u001b[39margs):\n\u001b[0;32m   1259\u001b[0m     \u001b[38;5;28;01mif\u001b[39;00m \u001b[38;5;28mself\u001b[39m\u001b[38;5;241m.\u001b[39mconverters \u001b[38;5;129;01mis\u001b[39;00m \u001b[38;5;129;01mnot\u001b[39;00m \u001b[38;5;28;01mNone\u001b[39;00m \u001b[38;5;129;01mand\u001b[39;00m \u001b[38;5;28mlen\u001b[39m(\u001b[38;5;28mself\u001b[39m\u001b[38;5;241m.\u001b[39mconverters) \u001b[38;5;241m>\u001b[39m \u001b[38;5;241m0\u001b[39m:\n\u001b[1;32m-> 1260\u001b[0m         (new_args, temp_args) \u001b[38;5;241m=\u001b[39m \u001b[38;5;28;43mself\u001b[39;49m\u001b[38;5;241;43m.\u001b[39;49m\u001b[43m_get_args\u001b[49m\u001b[43m(\u001b[49m\u001b[43margs\u001b[49m\u001b[43m)\u001b[49m\n\u001b[0;32m   1261\u001b[0m     \u001b[38;5;28;01melse\u001b[39;00m:\n\u001b[0;32m   1262\u001b[0m         new_args \u001b[38;5;241m=\u001b[39m args\n",
      "File \u001b[1;32m~\\anaconda3\\envs\\gpufordl\\lib\\site-packages\\py4j\\java_gateway.py:1246\u001b[0m, in \u001b[0;36mJavaMember._get_args\u001b[1;34m(self, args)\u001b[0m\n\u001b[0;32m   1244\u001b[0m \u001b[38;5;28;01mif\u001b[39;00m \u001b[38;5;129;01mnot\u001b[39;00m \u001b[38;5;28misinstance\u001b[39m(arg, JavaObject):\n\u001b[0;32m   1245\u001b[0m     \u001b[38;5;28;01mfor\u001b[39;00m converter \u001b[38;5;129;01min\u001b[39;00m \u001b[38;5;28mself\u001b[39m\u001b[38;5;241m.\u001b[39mgateway_client\u001b[38;5;241m.\u001b[39mconverters:\n\u001b[1;32m-> 1246\u001b[0m         \u001b[38;5;28;01mif\u001b[39;00m \u001b[43mconverter\u001b[49m\u001b[38;5;241;43m.\u001b[39;49m\u001b[43mcan_convert\u001b[49m\u001b[43m(\u001b[49m\u001b[43marg\u001b[49m\u001b[43m)\u001b[49m:\n\u001b[0;32m   1247\u001b[0m             temp_arg \u001b[38;5;241m=\u001b[39m converter\u001b[38;5;241m.\u001b[39mconvert(arg, \u001b[38;5;28mself\u001b[39m\u001b[38;5;241m.\u001b[39mgateway_client)\n\u001b[0;32m   1248\u001b[0m             temp_args\u001b[38;5;241m.\u001b[39mappend(temp_arg)\n",
      "File \u001b[1;32m~\\anaconda3\\envs\\gpufordl\\lib\\site-packages\\py4j\\java_collections.py:490\u001b[0m, in \u001b[0;36mSetConverter.can_convert\u001b[1;34m(self, object)\u001b[0m\n\u001b[0;32m    489\u001b[0m \u001b[38;5;28;01mdef\u001b[39;00m \u001b[38;5;21mcan_convert\u001b[39m(\u001b[38;5;28mself\u001b[39m, \u001b[38;5;28mobject\u001b[39m):\n\u001b[1;32m--> 490\u001b[0m     \u001b[38;5;28;01mreturn\u001b[39;00m \u001b[38;5;28;43misinstance\u001b[39;49m\u001b[43m(\u001b[49m\u001b[38;5;28;43mobject\u001b[39;49m\u001b[43m,\u001b[49m\u001b[43m \u001b[49m\u001b[43mSet\u001b[49m\u001b[43m)\u001b[49m\n",
      "File \u001b[1;32m~\\anaconda3\\envs\\gpufordl\\lib\\abc.py:98\u001b[0m, in \u001b[0;36mABCMeta.__instancecheck__\u001b[1;34m(cls, instance)\u001b[0m\n\u001b[0;32m     96\u001b[0m \u001b[38;5;28;01mdef\u001b[39;00m \u001b[38;5;21m__instancecheck__\u001b[39m(\u001b[38;5;28mcls\u001b[39m, instance):\n\u001b[0;32m     97\u001b[0m     \u001b[38;5;124;03m\"\"\"Override for isinstance(instance, cls).\"\"\"\u001b[39;00m\n\u001b[1;32m---> 98\u001b[0m     \u001b[38;5;28;01mreturn\u001b[39;00m \u001b[43m_abc_instancecheck\u001b[49m\u001b[43m(\u001b[49m\u001b[38;5;28;43mcls\u001b[39;49m\u001b[43m,\u001b[49m\u001b[43m \u001b[49m\u001b[43minstance\u001b[49m\u001b[43m)\u001b[49m\n",
      "\u001b[1;31mRecursionError\u001b[0m: maximum recursion depth exceeded in comparison"
     ]
    }
   ],
   "source": [
    "accuracy, f_1_score, weighted_Precision, weighted_Recall, confusionMatrix = logistic_reg_classifier(my_df, 'FIRE_SIZE_CLASS')"
   ]
  },
  {
   "cell_type": "code",
   "execution_count": 60,
   "id": "068e5400",
   "metadata": {},
   "outputs": [
    {
     "name": "stdout",
     "output_type": "stream",
     "text": [
      "Acuuracy = 0.5049948977328187\n",
      "f1_score = 0.4308402611456908, \n",
      "weighted_Precision = 0.4161678754254019, \n",
      "weighted_Recall = 0.5049948977328187, \n",
      "confusionMatrix: \n",
      "prediction                0.0    1.0\n",
      "FIRE_SIZE_CLASS_index               \n",
      "0.0                    237272  44669\n",
      "1.0                    152293  47280\n",
      "2.0                     54987  10896\n",
      "3.0                      6513   1921\n",
      "4.0                      2964   1214\n",
      "5.0                      1418    900\n",
      "6.0                       556    592\n"
     ]
    }
   ],
   "source": [
    "print (f\"Acuuracy = {accuracy}\\n\"\n",
    "       f\"f1_score = {f_1_score}, \\n\"\n",
    "       f\"weighted_Precision = {weighted_Precision}, \\n\"\n",
    "       f\"weighted_Recall = {weighted_Recall}, \\n\"\n",
    "       f\"confusionMatrix: \\n\"\n",
    "       f\"{confusionMatrix}\")"
   ]
  },
  {
   "cell_type": "code",
   "execution_count": 68,
   "id": "a0302fb8",
   "metadata": {},
   "outputs": [],
   "source": [
    "accuracy, f_1_score, weighted_Precision, weighted_Recall, confusionMatrix = logistic_reg_classifier(data, 'STAT_CAUSE_CODE')"
   ]
  },
  {
   "cell_type": "code",
   "execution_count": 69,
   "id": "88d7abae",
   "metadata": {},
   "outputs": [
    {
     "name": "stdout",
     "output_type": "stream",
     "text": [
      "Acuuracy = 0.23831392604527854\n",
      "f1_score = 0.16868510955013774, \n",
      "weighted_Precision = 0.1729489684147902, \n",
      "weighted_Recall = 0.23831392604527854, \n",
      "confusionMatrix: \n",
      "prediction               0.0    1.0   2.0    3.0   4.0\n",
      "STAT_CAUSE_CODE_index                                 \n",
      "0.0                    87203  11724  2962  22663  4293\n",
      "1.0                    58729  15429  1232  18339  3163\n",
      "2.0                    54520   5891  2538  19959  1521\n",
      "3.0                    37750  17033  1568  26925   250\n",
      "4.0                    29337   5153  1183  11662  2203\n",
      "5.0                    27047   6041   578   9717   796\n",
      "6.0                    11534   3345   484   6754   795\n",
      "7.0                    12199   1263   708   3692   426\n",
      "8.0                     9515   1448   391   4114   480\n",
      "9.0                     7257    377   178   1962   252\n",
      "10.0                    2313   1155    57    694   136\n",
      "11.0                    1776    726   140    757    41\n",
      "12.0                     552    162    50    339    53\n"
     ]
    }
   ],
   "source": [
    "print (f\"Acuuracy = {accuracy}\\n\"\n",
    "       f\"f1_score = {f_1_score}, \\n\"\n",
    "       f\"weighted_Precision = {weighted_Precision}, \\n\"\n",
    "       f\"weighted_Recall = {weighted_Recall}, \\n\"\n",
    "       f\"confusionMatrix: \\n\"\n",
    "       f\"{confusionMatrix}\")a"
   ]
  },
  {
   "cell_type": "code",
   "execution_count": 8,
   "id": "1fca28be",
   "metadata": {},
   "outputs": [],
   "source": [
    "def rf_classifier(df, label, maxDepth):\n",
    "    \n",
    "    STATE_indexer, assembler, label_indexed_df, outputCol = classifier_data_prep (label, df)\n",
    "    \n",
    "    rfc = RandomForestClassifier(labelCol=outputCol,maxDepth = maxDepth, maxBins=52)\n",
    "    \n",
    "    pipeline_rfc = Pipeline(stages=[STATE_indexer, assembler, rfc])\n",
    "    \n",
    "    train_data, test_data = label_indexed_df.randomSplit([0.7, 0.3])\n",
    "\n",
    "    rfc_model = pipeline_rfc.fit(train_data)\n",
    "    \n",
    "    predictions_rfc = rfc_model.transform(test_data)\n",
    "    \n",
    "    evaluator = MulticlassClassificationEvaluator(labelCol=outputCol, metricName=\"accuracy\")\n",
    "    accuracy = evaluator.evaluate(predictions_rfc)\n",
    "    \n",
    "    evaluator = MulticlassClassificationEvaluator(labelCol=outputCol, metricName=\"f1\")\n",
    "    f_1_score = evaluator.evaluate(predictions_rfc)\n",
    "\n",
    "    evaluator = MulticlassClassificationEvaluator(labelCol=outputCol, metricName=\"weightedPrecision\")\n",
    "    weighted_Precision = evaluator.evaluate(predictions_rfc)\n",
    "    \n",
    "    evaluator = MulticlassClassificationEvaluator(labelCol=outputCol, metricName=\"weightedRecall\")\n",
    "    weighted_Recall = evaluator.evaluate(predictions_rfc)\n",
    "    \n",
    "    # Compute confusion matrix\n",
    "    predictionAndLabels = predictions_rfc.select(\"prediction\", outputCol)\n",
    "    confusionMatrix = predictionAndLabels.groupBy(outputCol, \"prediction\").count()\n",
    "\n",
    "    # Collect the confusion matrix into a Pandas DataFrame\n",
    "    confusionMatrix = confusionMatrix.toPandas()\n",
    "\n",
    "    # Pivot the confusion matrix\n",
    "    confusionMatrix = confusionMatrix.pivot(index=outputCol, columns=\"prediction\", values=\"count\").fillna(0)\n",
    "\n",
    "    #return accuracy \n",
    "    return accuracy, f_1_score, weighted_Precision, weighted_Recall, confusionMatrix\n"
   ]
  },
  {
   "cell_type": "code",
   "execution_count": 78,
   "id": "a6970bb3",
   "metadata": {},
   "outputs": [],
   "source": [
    "accuracy, f_1_score, weighted_Precision, weighted_Recall, confusionMatrix = rf_classifier(data, 'STAT_CAUSE_CODE', 15)"
   ]
  },
  {
   "cell_type": "code",
   "execution_count": 80,
   "id": "958a2268",
   "metadata": {
    "code_folding": []
   },
   "outputs": [
    {
     "name": "stdout",
     "output_type": "stream",
     "text": [
      "Acuuracy = 0.5089422947522011\n",
      "f1_score = 0.4685392689974129, \n",
      "weighted_Precision = 0.4862418049378175, \n",
      "weighted_Recall = 0.5089422947522011, \n",
      "confusionMatrix: \n",
      "prediction                0.0      1.0      2.0      3.0      4.0     5.0   \\\n",
      "STAT_CAUSE_CODE_index                                                        \n",
      "0.0                    96433.0   9338.0  14162.0   4919.0   1286.0  1386.0   \n",
      "1.0                    28213.0  44088.0   6068.0  10902.0   1719.0  4362.0   \n",
      "2.0                    35184.0  10440.0  30203.0   4022.0   1731.0  2212.0   \n",
      "3.0                     5560.0   6629.0   1295.0  66711.0    771.0  1652.0   \n",
      "4.0                     2405.0   2813.0    484.0   6162.0  37633.0    61.0   \n",
      "5.0                    16969.0   8780.0   2858.0   6506.0    785.0  5895.0   \n",
      "6.0                     7186.0   4365.0    958.0   7166.0    478.0   581.0   \n",
      "7.0                     9511.0   2940.0   1747.0   2345.0    255.0   641.0   \n",
      "8.0                     7031.0   3926.0   1410.0   2199.0    294.0   552.0   \n",
      "9.0                     3285.0    633.0    574.0   1379.0     61.0   364.0   \n",
      "10.0                    2046.0   1181.0    202.0    588.0     90.0   170.0   \n",
      "11.0                     459.0    420.0    323.0   1307.0     48.0    56.0   \n",
      "12.0                     575.0    197.0     73.0    159.0     14.0    39.0   \n",
      "\n",
      "prediction               6.0    7.0   8.0     9.0   10.0   11.0  \n",
      "STAT_CAUSE_CODE_index                                            \n",
      "0.0                     612.0  100.0  12.0   605.0   6.0  105.0  \n",
      "1.0                     873.0   38.0  10.0   963.0   7.0  184.0  \n",
      "2.0                     279.0   25.0   8.0   346.0   4.0   54.0  \n",
      "3.0                     455.0   16.0   4.0   333.0   1.0  154.0  \n",
      "4.0                     180.0   19.0   1.0     1.0   0.0   22.0  \n",
      "5.0                     274.0  103.0   7.0  2064.0   5.0   60.0  \n",
      "6.0                    1947.0   29.0   9.0   138.0   2.0   61.0  \n",
      "7.0                     155.0  169.0   2.0   638.0   3.0   79.0  \n",
      "8.0                     279.0   18.0  16.0   203.0   3.0    8.0  \n",
      "9.0                      31.0    3.0   0.0  3530.0   5.0    3.0  \n",
      "10.0                     62.0    5.0   1.0     5.0  17.0   12.0  \n",
      "11.0                     37.0    3.0   0.0     2.0   2.0  774.0  \n",
      "12.0                     41.0   27.0   0.0     1.0   2.0   15.0  \n"
     ]
    }
   ],
   "source": [
    "# maxDepth = 15\n",
    "print (f\"Acuuracy = {accuracy}\\n\"\n",
    "       f\"f1_score = {f_1_score}, \\n\"\n",
    "       f\"weighted_Precision = {weighted_Precision}, \\n\"\n",
    "       f\"weighted_Recall = {weighted_Recall}, \\n\"\n",
    "       f\"confusionMatrix: \\n\"\n",
    "       f\"{confusionMatrix}\")"
   ]
  },
  {
   "cell_type": "code",
   "execution_count": 84,
   "id": "9541852a",
   "metadata": {},
   "outputs": [],
   "source": [
    "accuracy, f_1_score, weighted_Precision, weighted_Recall, confusionMatrix = rf_classifier(data, 'STAT_CAUSE_CODE', 5)"
   ]
  },
  {
   "cell_type": "code",
   "execution_count": 85,
   "id": "88cad474",
   "metadata": {},
   "outputs": [
    {
     "name": "stdout",
     "output_type": "stream",
     "text": [
      "Acuuracy = 0.3930558579802046\n",
      "f1_score = 0.297535175321475, \n",
      "weighted_Precision = 0.4164518784943356, \n",
      "weighted_Recall = 0.3930558579802047, \n",
      "confusionMatrix: \n",
      "prediction                  0.0      1.0  2.0      3.0      4.0  6.0\n",
      "STAT_CAUSE_CODE_index                                               \n",
      "0.0                    109908.0  12090.0  0.0   7033.0    110.0  0.0\n",
      "1.0                     44557.0  32858.0  3.0  19571.0     77.0  0.0\n",
      "2.0                     64539.0  13277.0  4.0   6229.0    376.0  0.0\n",
      "3.0                      8326.0  10749.0  0.0  64782.0      6.0  0.0\n",
      "4.0                     18538.0   7203.0  0.0   9753.0  14473.0  0.0\n",
      "5.0                     22677.0  13710.0  0.0   7815.0     21.0  0.0\n",
      "6.0                      8805.0   4810.0  0.0   9281.0     27.0  4.0\n",
      "7.0                     11353.0   3825.0  0.0   3069.0     10.0  0.0\n",
      "8.0                      8675.0   3695.0  0.0   3443.0      7.0  0.0\n",
      "9.0                      6877.0   1437.0  0.0   1802.0      3.0  0.0\n",
      "10.0                     2689.0   1008.0  0.0    722.0      0.0  0.0\n",
      "11.0                      616.0    851.0  0.0   1991.0      2.0  0.0\n",
      "12.0                      659.0    322.0  0.0    211.0      0.0  0.0\n"
     ]
    }
   ],
   "source": [
    "# maxDepth = 5\n",
    "print (f\"Acuuracy = {accuracy}\\n\"\n",
    "       f\"f1_score = {f_1_score}, \\n\"\n",
    "       f\"weighted_Precision = {weighted_Precision}, \\n\"\n",
    "       f\"weighted_Recall = {weighted_Recall}, \\n\"\n",
    "       f\"confusionMatrix: \\n\"\n",
    "       f\"{confusionMatrix}\")"
   ]
  },
  {
   "cell_type": "code",
   "execution_count": 11,
   "id": "7fc6a0fa",
   "metadata": {},
   "outputs": [],
   "source": [
    "accuracy, f_1_score, weighted_Precision, weighted_Recall, confusionMatrix = rf_classifier(data, 'STAT_CAUSE_CODE', 10)"
   ]
  },
  {
   "cell_type": "code",
   "execution_count": 13,
   "id": "064e43c0",
   "metadata": {},
   "outputs": [
    {
     "name": "stdout",
     "output_type": "stream",
     "text": [
      "Acuuracy = 0.4702473034345728\n",
      "f1_score = 0.41606156925464427, \n",
      "weighted_Precision = 0.4467752094846642, \n",
      "weighted_Recall = 0.4702473034345728, \n",
      "confusionMatrix: \n",
      "prediction                 0.0      1.0      2.0      3.0      4.0    5.0   \\\n",
      "STAT_CAUSE_CODE_index                                                        \n",
      "0.0                    101233.0   9846.0  10313.0   5337.0    655.0  237.0   \n",
      "1.0                     35304.0  42593.0   4827.0  11956.0    653.0  545.0   \n",
      "2.0                     43142.0  12556.0  22376.0   4259.0    967.0  300.0   \n",
      "3.0                      7150.0   9563.0    990.0  64641.0    355.0  143.0   \n",
      "4.0                      7653.0   4258.0   1364.0   7587.0  28998.0   12.0   \n",
      "5.0                     19372.0  12977.0   1758.0   6639.0    347.0  797.0   \n",
      "6.0                      7845.0   4630.0    797.0   8277.0    312.0   87.0   \n",
      "7.0                     10091.0   3503.0   1357.0   2706.0    126.0   71.0   \n",
      "8.0                      7871.0   4001.0   1144.0   2485.0    139.0   81.0   \n",
      "9.0                      3629.0    650.0    513.0   1682.0     48.0  191.0   \n",
      "10.0                     2391.0   1195.0     90.0    588.0     30.0   28.0   \n",
      "11.0                      533.0    830.0    199.0   1635.0     41.0    2.0   \n",
      "12.0                      589.0    331.0     31.0    195.0      5.0    0.0   \n",
      "\n",
      "prediction              6.0     9.0    11.0  \n",
      "STAT_CAUSE_CODE_index                        \n",
      "0.0                    222.0   547.0   34.0  \n",
      "1.0                    282.0   942.0   54.0  \n",
      "2.0                    106.0   358.0    7.0  \n",
      "3.0                    152.0   319.0   30.0  \n",
      "4.0                    110.0     0.0    1.0  \n",
      "5.0                    133.0  2119.0    9.0  \n",
      "6.0                    795.0   121.0    8.0  \n",
      "7.0                     63.0   609.0   24.0  \n",
      "8.0                    114.0   190.0    2.0  \n",
      "9.0                     16.0  3331.0    0.0  \n",
      "10.0                     7.0     1.0    2.0  \n",
      "11.0                     3.0     0.0  305.0  \n",
      "12.0                     7.0     1.0    4.0  \n"
     ]
    }
   ],
   "source": [
    "# maxDepth = 10\n",
    "print (f\"Acuuracy = {accuracy}\\n\"\n",
    "       f\"f1_score = {f_1_score}, \\n\"\n",
    "       f\"weighted_Precision = {weighted_Precision}, \\n\"\n",
    "       f\"weighted_Recall = {weighted_Recall}, \\n\"\n",
    "       f\"confusionMatrix: \\n\"\n",
    "       f\"{confusionMatrix}\")"
   ]
  },
  {
   "cell_type": "code",
   "execution_count": 32,
   "id": "e94a740e",
   "metadata": {},
   "outputs": [],
   "source": [
    "# let's only consider the first 6 classes for STAT_CAUSE_CODE when STAT_CAUSE_CODE is the target/label "
   ]
  },
  {
   "cell_type": "code",
   "execution_count": 29,
   "id": "37b1d38c",
   "metadata": {},
   "outputs": [
    {
     "data": {
      "text/plain": [
       "STAT_CAUSE_CODE\n",
       "5                  429028\n",
       "9                  323805\n",
       "7                  281455\n",
       "1                  278468\n",
       "13                 166723\n",
       "2                  147612\n",
       "4                   76139\n",
       "8                   61167\n",
       "3                   52869\n",
       "6                   33455\n",
       "11                  14448\n",
       "10                  11500\n",
       "12                   3796\n",
       "dtype: int64"
      ]
     },
     "execution_count": 29,
     "metadata": {},
     "output_type": "execute_result"
    }
   ],
   "source": [
    "data.select('STAT_CAUSE_CODE').toPandas().value_counts(normalize=False)"
   ]
  },
  {
   "cell_type": "code",
   "execution_count": 33,
   "id": "a2327993",
   "metadata": {},
   "outputs": [],
   "source": [
    "my_data = data.filter((data['STAT_CAUSE_CODE'] == 5) | \\\n",
    "           (data['STAT_CAUSE_CODE'] == 9) |\\\n",
    "           (data['STAT_CAUSE_CODE'] == 7) |\\\n",
    "           (data['STAT_CAUSE_CODE'] == 1) |\\\n",
    "           (data['STAT_CAUSE_CODE'] == 13) |\\\n",
    "           (data['STAT_CAUSE_CODE'] == 2))"
   ]
  },
  {
   "cell_type": "code",
   "execution_count": 34,
   "id": "9398050d",
   "metadata": {},
   "outputs": [],
   "source": [
    "accuracy, f_1_score, weighted_Precision, weighted_Recall, confusionMatrix = rf_classifier(my_data, 'STAT_CAUSE_CODE', 15)"
   ]
  },
  {
   "cell_type": "code",
   "execution_count": 35,
   "id": "dc2ceb81",
   "metadata": {},
   "outputs": [
    {
     "name": "stdout",
     "output_type": "stream",
     "text": [
      "Acuuracy = 0.5822371050145401\n",
      "f1_score = 0.5636917264844861, \n",
      "weighted_Precision = 0.5764207975192471, \n",
      "weighted_Recall = 0.5822371050145401, \n",
      "confusionMatrix: \n",
      "prediction               0.0    1.0    2.0    3.0    4.0   5.0\n",
      "STAT_CAUSE_CODE_index                                         \n",
      "0.0                    96914   8905  13899   5026   1406  2086\n",
      "1.0                    29512  43060   5991  11275   2402  5254\n",
      "2.0                    35691  10086  29913   4195   1958  2672\n",
      "3.0                     5677   6181   1266  67322   1047  1923\n",
      "4.0                     2236   2109    567   6079  38809    87\n",
      "5.0                    17492   8342   2811   6617   1060  8091\n"
     ]
    }
   ],
   "source": [
    "# maxDepth = 15 my_data\n",
    "print (f\"Acuuracy = {accuracy}\\n\"\n",
    "       f\"f1_score = {f_1_score}, \\n\"\n",
    "       f\"weighted_Precision = {weighted_Precision}, \\n\"\n",
    "       f\"weighted_Recall = {weighted_Recall}, \\n\"\n",
    "       f\"confusionMatrix: \\n\"\n",
    "       f\"{confusionMatrix}\")"
   ]
  },
  {
   "cell_type": "code",
   "execution_count": 36,
   "id": "3e2587af",
   "metadata": {},
   "outputs": [],
   "source": [
    "my_data_2 = data.filter((data['STAT_CAUSE_CODE'] == 5) | \\\n",
    "           (data['STAT_CAUSE_CODE'] == 9) |\\\n",
    "           (data['STAT_CAUSE_CODE'] == 7))"
   ]
  },
  {
   "cell_type": "code",
   "execution_count": 37,
   "id": "e2a20fb4",
   "metadata": {},
   "outputs": [],
   "source": [
    "accuracy, f_1_score, weighted_Precision, weighted_Recall, confusionMatrix = rf_classifier(my_data_2, 'STAT_CAUSE_CODE', 15)"
   ]
  },
  {
   "cell_type": "code",
   "execution_count": 38,
   "id": "733358e4",
   "metadata": {},
   "outputs": [
    {
     "name": "stdout",
     "output_type": "stream",
     "text": [
      "Acuuracy = 0.6149792938977424\n",
      "f1_score = 0.6047628944877397, \n",
      "weighted_Precision = 0.6158839849264293, \n",
      "weighted_Recall = 0.6149792938977424, \n",
      "confusionMatrix: \n",
      "prediction               0.0    1.0    2.0\n",
      "STAT_CAUSE_CODE_index                     \n",
      "0.0                    98395  14710  15433\n",
      "1.0                    30501  59907   6701\n",
      "2.0                    35692  16433  32523\n"
     ]
    }
   ],
   "source": [
    "# maxDepth = 15 my_data_2\n",
    "print (f\"Acuuracy = {accuracy}\\n\"\n",
    "       f\"f1_score = {f_1_score}, \\n\"\n",
    "       f\"weighted_Precision = {weighted_Precision}, \\n\"\n",
    "       f\"weighted_Recall = {weighted_Recall}, \\n\"\n",
    "       f\"confusionMatrix: \\n\"\n",
    "       f\"{confusionMatrix}\")"
   ]
  },
  {
   "cell_type": "code",
   "execution_count": null,
   "id": "e208952c",
   "metadata": {},
   "outputs": [],
   "source": []
  },
  {
   "cell_type": "code",
   "execution_count": 10,
   "id": "487d7fce",
   "metadata": {},
   "outputs": [],
   "source": [
    "data = data_reader(df_spark)"
   ]
  },
  {
   "cell_type": "code",
   "execution_count": 22,
   "id": "beb21e94",
   "metadata": {},
   "outputs": [
    {
     "data": {
      "text/plain": [
       "0.5039715919375619"
      ]
     },
     "execution_count": 22,
     "metadata": {},
     "output_type": "execute_result"
    }
   ],
   "source": [
    "classifier(data)"
   ]
  },
  {
   "cell_type": "code",
   "execution_count": 26,
   "id": "f917ad0d",
   "metadata": {},
   "outputs": [
    {
     "data": {
      "text/plain": [
       "0.6215927160174662"
      ]
     },
     "execution_count": 26,
     "metadata": {},
     "output_type": "execute_result"
    }
   ],
   "source": [
    "rf_classifier(data)"
   ]
  },
  {
   "cell_type": "code",
   "execution_count": null,
   "id": "381f4dff",
   "metadata": {},
   "outputs": [],
   "source": []
  },
  {
   "cell_type": "code",
   "execution_count": null,
   "id": "6cab0690",
   "metadata": {},
   "outputs": [],
   "source": []
  },
  {
   "cell_type": "code",
   "execution_count": null,
   "id": "5a8592b9",
   "metadata": {},
   "outputs": [],
   "source": []
  },
  {
   "cell_type": "code",
   "execution_count": 16,
   "id": "1a3b511d",
   "metadata": {},
   "outputs": [
    {
     "data": {
      "text/plain": [
       "[Row(FIRE_SIZE_CLASS='A', STATE='CA', FIRE_YEAR=2005, DISCOVERY_DOY=33, STAT_CAUSE_CODE=9, FIRE_SIZE_CLASS_Index=1.0),\n",
       " Row(FIRE_SIZE_CLASS='A', STATE='CA', FIRE_YEAR=2004, DISCOVERY_DOY=133, STAT_CAUSE_CODE=1, FIRE_SIZE_CLASS_Index=1.0),\n",
       " Row(FIRE_SIZE_CLASS='A', STATE='CA', FIRE_YEAR=2004, DISCOVERY_DOY=152, STAT_CAUSE_CODE=5, FIRE_SIZE_CLASS_Index=1.0)]"
      ]
     },
     "execution_count": 16,
     "metadata": {},
     "output_type": "execute_result"
    }
   ],
   "source": [
    "FIRE_SIZE_CLASS_indexer = StringIndexer(inputCol='FIRE_SIZE_CLASS', outputCol='FIRE_SIZE_CLASS_Index')\n",
    "FIRE_SIZE_CLASS_indexed = FIRE_SIZE_CLASS_indexer.fit(df_final).transform(df_final)\n",
    "FIRE_SIZE_CLASS_indexed.head(3)\n"
   ]
  },
  {
   "cell_type": "code",
   "execution_count": 10,
   "id": "ec1acc69",
   "metadata": {},
   "outputs": [
    {
     "data": {
      "text/plain": [
       "['FIRE_SIZE_CLASS',\n",
       " 'STATE',\n",
       " 'FIRE_YEAR',\n",
       " 'DISCOVERY_DOY',\n",
       " 'STAT_CAUSE_CODE',\n",
       " 'FIRE_SIZE_CLASS_Index']"
      ]
     },
     "execution_count": 10,
     "metadata": {},
     "output_type": "execute_result"
    }
   ],
   "source": [
    "FIRE_SIZE_CLASS_indexed.columns"
   ]
  },
  {
   "cell_type": "code",
   "execution_count": 122,
   "id": "e171b515",
   "metadata": {},
   "outputs": [],
   "source": [
    "STATE_indexer = StringIndexer(inputCol='STATE', outputCol='STATE_Index')\n",
    "# STATE_indexed = STATE_indexer.fit(df_final).transform(df_final)\n",
    "# STATE_indexed.head(3)"
   ]
  },
  {
   "cell_type": "code",
   "execution_count": 123,
   "id": "9368b4ba",
   "metadata": {},
   "outputs": [],
   "source": [
    "assembler = VectorAssembler(inputCols=[ 'STATE_Index','FIRE_YEAR', 'DISCOVERY_DOY',\n",
    "                                        'STAT_CAUSE_CODE'], outputCol='features')\n"
   ]
  },
  {
   "cell_type": "code",
   "execution_count": 124,
   "id": "85565598",
   "metadata": {},
   "outputs": [],
   "source": [
    "lin_reg_model = LinearRegression(featuresCol='features', labelCol='FIRE_SIZE')"
   ]
  },
  {
   "cell_type": "code",
   "execution_count": 125,
   "id": "83c6bbba",
   "metadata": {},
   "outputs": [],
   "source": [
    "pipeline_reg = Pipeline(stages=[STATE_indexer, assembler, lin_reg_model])\n"
   ]
  },
  {
   "cell_type": "code",
   "execution_count": 127,
   "id": "49c72be4",
   "metadata": {},
   "outputs": [],
   "source": [
    "#for regression\n",
    "train_data, test_data = df_final.randomSplit([0.7, 0.3])"
   ]
  },
  {
   "cell_type": "code",
   "execution_count": 13,
   "id": "8bbe16f3",
   "metadata": {},
   "outputs": [],
   "source": [
    "log_reg_model = LogisticRegression(featuresCol='features', labelCol='FIRE_SIZE_CLASS_Index')"
   ]
  },
  {
   "cell_type": "code",
   "execution_count": 14,
   "id": "1d557661",
   "metadata": {},
   "outputs": [],
   "source": [
    "pipeline = Pipeline(stages=[STATE_indexer, assembler, log_reg_model])\n"
   ]
  },
  {
   "cell_type": "code",
   "execution_count": 17,
   "id": "d2364a55",
   "metadata": {},
   "outputs": [],
   "source": [
    "train_data, test_data = FIRE_SIZE_CLASS_indexed.randomSplit([0.7, 0.3])"
   ]
  },
  {
   "cell_type": "code",
   "execution_count": 35,
   "id": "a626e5c0",
   "metadata": {
    "code_folding": []
   },
   "outputs": [],
   "source": [
    "FIRE_SIZE_CLASS_indexed_small = FIRE_SIZE_CLASS_indexed.filter((FIRE_SIZE_CLASS_indexed['FIRE_SIZE_CLASS_Index'] == 0.0) | \\\n",
    "                              (FIRE_SIZE_CLASS_indexed['FIRE_SIZE_CLASS_Index'] == 1.0)|\\\n",
    "                               (FIRE_SIZE_CLASS_indexed['FIRE_SIZE_CLASS_Index'] == 2.0))"
   ]
  },
  {
   "cell_type": "code",
   "execution_count": 36,
   "id": "0d7126cd",
   "metadata": {},
   "outputs": [],
   "source": [
    "small_train_data, small_test_data = FIRE_SIZE_CLASS_indexed_small.randomSplit([0.7, 0.3])"
   ]
  },
  {
   "cell_type": "code",
   "execution_count": 16,
   "id": "e47f0c27",
   "metadata": {},
   "outputs": [
    {
     "data": {
      "text/plain": [
       "Row(FIRE_SIZE_CLASS='A', STATE='AK', FIRE_YEAR=1992, DISCOVERY_DOY=95, STAT_CAUSE_CODE=3, FIRE_SIZE_CLASS_Index=1.0)"
      ]
     },
     "execution_count": 16,
     "metadata": {},
     "output_type": "execute_result"
    }
   ],
   "source": [
    "train_data.head()"
   ]
  },
  {
   "cell_type": "code",
   "execution_count": 128,
   "id": "7f992f2a",
   "metadata": {},
   "outputs": [],
   "source": [
    "fit_model_reg = pipeline_reg.fit(train_data)"
   ]
  },
  {
   "cell_type": "code",
   "execution_count": 17,
   "id": "517be302",
   "metadata": {},
   "outputs": [],
   "source": [
    "fit_model = pipeline.fit(train_data)"
   ]
  },
  {
   "cell_type": "code",
   "execution_count": 129,
   "id": "8ef2d6e6",
   "metadata": {},
   "outputs": [],
   "source": [
    "predictions = fit_model_reg.transform(test_data)"
   ]
  },
  {
   "cell_type": "code",
   "execution_count": 130,
   "id": "bffdd1c0",
   "metadata": {},
   "outputs": [
    {
     "name": "stdout",
     "output_type": "stream",
     "text": [
      "+------------------+---------+\n",
      "|        prediction|FIRE_SIZE|\n",
      "+------------------+---------+\n",
      "| 160.7257437982953|   9.0E-5|\n",
      "|197.63551705141163|   1.0E-4|\n",
      "|234.97552058782185|   1.0E-4|\n",
      "|179.70152480295292|   3.4E-4|\n",
      "|179.70152480295292|   3.4E-4|\n",
      "|201.61400576911365|   4.0E-4|\n",
      "|  279.291113557897|  4.59E-4|\n",
      "|108.62682482219589|    0.001|\n",
      "|112.53254491221833|    0.001|\n",
      "|120.26428937140008|    0.001|\n",
      "|152.53297632354224|    0.001|\n",
      "|130.04127326264916|    0.001|\n",
      "|157.39459900180918|    0.001|\n",
      "|144.34644647148798|    0.001|\n",
      "|164.36701723847546|    0.001|\n",
      "| 233.7968065533032|    0.001|\n",
      "|192.60971718302517|    0.001|\n",
      "|184.31258888353295|    0.001|\n",
      "| 276.9536094190744|    0.001|\n",
      "|210.26078812485684|    0.001|\n",
      "+------------------+---------+\n",
      "only showing top 20 rows\n",
      "\n"
     ]
    }
   ],
   "source": [
    "predicted_actual = predictions.select(\"prediction\", \"FIRE_SIZE\")\n",
    "predicted_actual.show()"
   ]
  },
  {
   "cell_type": "code",
   "execution_count": 131,
   "id": "a6ec4032",
   "metadata": {},
   "outputs": [
    {
     "name": "stdout",
     "output_type": "stream",
     "text": [
      "Root Mean Squared Error (RMSE): 2423.210691331175\n"
     ]
    }
   ],
   "source": [
    "from pyspark.ml.evaluation import RegressionEvaluator\n",
    "evaluator = RegressionEvaluator(labelCol=\"FIRE_SIZE\", predictionCol=\"prediction\", metricName=\"rmse\")\n",
    "rmse = evaluator.evaluate(predicted_actual)\n",
    "print(\"Root Mean Squared Error (RMSE):\", rmse)\n"
   ]
  },
  {
   "cell_type": "code",
   "execution_count": 132,
   "id": "5775202a",
   "metadata": {},
   "outputs": [
    {
     "data": {
      "image/png": "[encoded data removed]",
      "text/plain": [
       "<Figure size 640x480 with 1 Axes>"
      ]
     },
     "metadata": {},
     "output_type": "display_data"
    }
   ],
   "source": [
    "import matplotlib.pyplot as plt\n",
    "\n",
    "# Get the predicted and actual values\n",
    "predictions = fit_model_reg.transform(test_data).select('prediction').toPandas().values.flatten()#.rdd.flatMap(lambda x: x).collect()\n",
    "actual = test_data.select('FIRE_SIZE').toPandas().values.flatten()#.rdd.flatMap(lambda x: x).collect()\n",
    "\n",
    "# Create a scatter plot\n",
    "plt.scatter(predictions, actual)\n",
    "plt.xlabel('Predicted Values')\n",
    "plt.ylabel('Actual Values')\n",
    "plt.title('Predicted vs Actual')\n",
    "plt.show()\n"
   ]
  },
  {
   "cell_type": "code",
   "execution_count": 133,
   "id": "6dc47f91",
   "metadata": {},
   "outputs": [
    {
     "ename": "AttributeError",
     "evalue": "'numpy.ndarray' object has no attribute 'show'",
     "output_type": "error",
     "traceback": [
      "\u001b[1;31m---------------------------------------------------------------------------\u001b[0m",
      "\u001b[1;31mAttributeError\u001b[0m                            Traceback (most recent call last)",
      "Cell \u001b[1;32mIn[133], line 1\u001b[0m\n\u001b[1;32m----> 1\u001b[0m \u001b[43mpredictions\u001b[49m\u001b[38;5;241;43m.\u001b[39;49m\u001b[43mshow\u001b[49m()\n",
      "\u001b[1;31mAttributeError\u001b[0m: 'numpy.ndarray' object has no attribute 'show'"
     ]
    }
   ],
   "source": [
    "predictions.show()"
   ]
  },
  {
   "cell_type": "code",
   "execution_count": 83,
   "id": "b2fb1e76",
   "metadata": {},
   "outputs": [
    {
     "name": "stdout",
     "output_type": "stream",
     "text": [
      "+---------+\n",
      "|FIRE_SIZE|\n",
      "+---------+\n",
      "|      1.0|\n",
      "|      1.0|\n",
      "|      1.0|\n",
      "|      1.0|\n",
      "|      1.0|\n",
      "|      1.0|\n",
      "|      1.0|\n",
      "|      1.0|\n",
      "|      1.0|\n",
      "|      1.0|\n",
      "|      1.0|\n",
      "|      1.0|\n",
      "|      1.0|\n",
      "|      1.0|\n",
      "|      1.0|\n",
      "|      1.0|\n",
      "|      1.0|\n",
      "|      1.0|\n",
      "|      1.0|\n",
      "|      1.0|\n",
      "+---------+\n",
      "only showing top 20 rows\n",
      "\n"
     ]
    }
   ],
   "source": [
    "actual.show()"
   ]
  },
  {
   "cell_type": "code",
   "execution_count": 24,
   "id": "73e5bd06",
   "metadata": {},
   "outputs": [],
   "source": [
    "predictions = fit_model.transform(test_data)"
   ]
  },
  {
   "cell_type": "code",
   "execution_count": 63,
   "id": "6ad50f44",
   "metadata": {},
   "outputs": [
    {
     "data": {
      "text/plain": [
       "['FIRE_SIZE',\n",
       " 'STATE',\n",
       " 'FIRE_YEAR',\n",
       " 'DISCOVERY_DOY',\n",
       " 'STAT_CAUSE_CODE',\n",
       " 'STATE_Index',\n",
       " 'features',\n",
       " 'prediction']"
      ]
     },
     "execution_count": 63,
     "metadata": {},
     "output_type": "execute_result"
    }
   ],
   "source": [
    "predictions.columns"
   ]
  },
  {
   "cell_type": "code",
   "execution_count": 64,
   "id": "66dd4011",
   "metadata": {
    "scrolled": false
   },
   "outputs": [
    {
     "name": "stdout",
     "output_type": "stream",
     "text": [
      "+------------------+---------+\n",
      "|        prediction|FIRE_SIZE|\n",
      "+------------------+---------+\n",
      "|1.0000000000004279|      1.0|\n",
      "|1.0000000000004279|      1.0|\n",
      "|1.0000000000004279|      1.0|\n",
      "|1.0000000000004277|      1.0|\n",
      "|1.0000000000004274|      1.0|\n",
      "|1.0000000000004274|      1.0|\n",
      "|1.0000000000004274|      1.0|\n",
      "|1.0000000000004274|      1.0|\n",
      "|1.0000000000004274|      1.0|\n",
      "|1.0000000000004274|      1.0|\n",
      "|1.0000000000004272|      1.0|\n",
      "|1.0000000000004272|      1.0|\n",
      "|1.0000000000004272|      1.0|\n",
      "|1.0000000000004272|      1.0|\n",
      "|1.0000000000004272|      1.0|\n",
      "| 1.000000000000427|      1.0|\n",
      "|1.0000000000004268|      1.0|\n",
      "|1.0000000000004268|      1.0|\n",
      "|1.0000000000004268|      1.0|\n",
      "|1.0000000000004268|      1.0|\n",
      "+------------------+---------+\n",
      "only showing top 20 rows\n",
      "\n"
     ]
    }
   ],
   "source": [
    "predictions.select('prediction', 'FIRE_SIZE').show()"
   ]
  },
  {
   "cell_type": "code",
   "execution_count": 26,
   "id": "ce94977d",
   "metadata": {
    "scrolled": false
   },
   "outputs": [
    {
     "name": "stdout",
     "output_type": "stream",
     "text": [
      "+----------+---------------------+\n",
      "|prediction|FIRE_SIZE_CLASS_Index|\n",
      "+----------+---------------------+\n",
      "|       0.0|                  1.0|\n",
      "|       0.0|                  1.0|\n",
      "|       0.0|                  1.0|\n",
      "|       0.0|                  1.0|\n",
      "|       0.0|                  1.0|\n",
      "|       0.0|                  1.0|\n",
      "|       0.0|                  1.0|\n",
      "|       0.0|                  1.0|\n",
      "|       0.0|                  1.0|\n",
      "|       0.0|                  1.0|\n",
      "|       0.0|                  1.0|\n",
      "|       0.0|                  1.0|\n",
      "|       0.0|                  1.0|\n",
      "|       0.0|                  1.0|\n",
      "|       0.0|                  1.0|\n",
      "|       0.0|                  1.0|\n",
      "|       0.0|                  1.0|\n",
      "|       0.0|                  1.0|\n",
      "|       0.0|                  1.0|\n",
      "|       0.0|                  1.0|\n",
      "+----------+---------------------+\n",
      "only showing top 20 rows\n",
      "\n"
     ]
    }
   ],
   "source": [
    "predictions.select('prediction', 'FIRE_SIZE_CLASS_Index').show()"
   ]
  },
  {
   "cell_type": "code",
   "execution_count": 30,
   "id": "9422b2cd",
   "metadata": {},
   "outputs": [
    {
     "name": "stdout",
     "output_type": "stream",
     "text": [
      "Accuracy is 0.5043\n"
     ]
    }
   ],
   "source": [
    "evaluator = MulticlassClassificationEvaluator(labelCol=\"FIRE_SIZE_CLASS_Index\", metricName=\"accuracy\")\n",
    "accuracy = evaluator.evaluate(predictions)\n",
    "\n",
    "\n",
    "print (f\"Accuracy is {accuracy:.4f}\")\n"
   ]
  },
  {
   "cell_type": "code",
   "execution_count": 41,
   "id": "789b801a",
   "metadata": {},
   "outputs": [
    {
     "name": "stdout",
     "output_type": "stream",
     "text": [
      "The f1 score is 0.4306\n"
     ]
    }
   ],
   "source": [
    "evaluator = MulticlassClassificationEvaluator(labelCol=\"FIRE_SIZE_CLASS_Index\", metricName=\"f1\")\n",
    "f_1_score = evaluator.evaluate(predictions)\n",
    "\n",
    "\n",
    "print (f\"The f1 score is {f_1_score:.4f}\")\n"
   ]
  },
  {
   "cell_type": "code",
   "execution_count": 34,
   "id": "4c568b34",
   "metadata": {},
   "outputs": [
    {
     "name": "stdout",
     "output_type": "stream",
     "text": [
      "The weighted Precision is 0.4153\n"
     ]
    }
   ],
   "source": [
    "evaluator = MulticlassClassificationEvaluator(labelCol=\"FIRE_SIZE_CLASS_Index\", metricName=\"weightedPrecision\")\n",
    "weighted_Precision = evaluator.evaluate(predictions)\n",
    "\n",
    "\n",
    "print (f\"The weighted Precision is {weighted_Precision:.4f}\")\n"
   ]
  },
  {
   "cell_type": "code",
   "execution_count": 35,
   "id": "cf4c7176",
   "metadata": {},
   "outputs": [
    {
     "name": "stdout",
     "output_type": "stream",
     "text": [
      "The weighted Recall is 0.5043\n"
     ]
    }
   ],
   "source": [
    "evaluator = MulticlassClassificationEvaluator(labelCol=\"FIRE_SIZE_CLASS_Index\", metricName=\"weightedRecall\")\n",
    "weighted_Recall = evaluator.evaluate(predictions)\n",
    "\n",
    "\n",
    "print (f\"The weighted Recall is {weighted_Recall:.4f}\")\n"
   ]
  },
  {
   "cell_type": "code",
   "execution_count": 44,
   "id": "dc2b143c",
   "metadata": {},
   "outputs": [
    {
     "data": {
      "text/html": [
       "<div>\n",
       "<style scoped>\n",
       "    .dataframe tbody tr th:only-of-type {\n",
       "        vertical-align: middle;\n",
       "    }\n",
       "\n",
       "    .dataframe tbody tr th {\n",
       "        vertical-align: top;\n",
       "    }\n",
       "\n",
       "    .dataframe thead th {\n",
       "        text-align: right;\n",
       "    }\n",
       "</style>\n",
       "<table border=\"1\" class=\"dataframe\">\n",
       "  <thead>\n",
       "    <tr style=\"text-align: right;\">\n",
       "      <th>prediction</th>\n",
       "      <th>0.0</th>\n",
       "      <th>1.0</th>\n",
       "    </tr>\n",
       "    <tr>\n",
       "      <th>FIRE_SIZE_CLASS_Index</th>\n",
       "      <th></th>\n",
       "      <th></th>\n",
       "    </tr>\n",
       "  </thead>\n",
       "  <tbody>\n",
       "    <tr>\n",
       "      <th>0.0</th>\n",
       "      <td>236588</td>\n",
       "      <td>45198</td>\n",
       "    </tr>\n",
       "    <tr>\n",
       "      <th>1.0</th>\n",
       "      <td>151868</td>\n",
       "      <td>47713</td>\n",
       "    </tr>\n",
       "    <tr>\n",
       "      <th>2.0</th>\n",
       "      <td>54994</td>\n",
       "      <td>11197</td>\n",
       "    </tr>\n",
       "    <tr>\n",
       "      <th>3.0</th>\n",
       "      <td>6497</td>\n",
       "      <td>1981</td>\n",
       "    </tr>\n",
       "    <tr>\n",
       "      <th>4.0</th>\n",
       "      <td>3055</td>\n",
       "      <td>1237</td>\n",
       "    </tr>\n",
       "    <tr>\n",
       "      <th>5.0</th>\n",
       "      <td>1442</td>\n",
       "      <td>841</td>\n",
       "    </tr>\n",
       "    <tr>\n",
       "      <th>6.0</th>\n",
       "      <td>543</td>\n",
       "      <td>559</td>\n",
       "    </tr>\n",
       "  </tbody>\n",
       "</table>\n",
       "</div>"
      ],
      "text/plain": [
       "prediction                0.0    1.0\n",
       "FIRE_SIZE_CLASS_Index               \n",
       "0.0                    236588  45198\n",
       "1.0                    151868  47713\n",
       "2.0                     54994  11197\n",
       "3.0                      6497   1981\n",
       "4.0                      3055   1237\n",
       "5.0                      1442    841\n",
       "6.0                       543    559"
      ]
     },
     "execution_count": 44,
     "metadata": {},
     "output_type": "execute_result"
    }
   ],
   "source": [
    "# Compute confusion matrix\n",
    "predictionAndLabels = predictions.select(\"prediction\", \"FIRE_SIZE_CLASS_Index\")\n",
    "confusionMatrix = predictionAndLabels.groupBy(\"FIRE_SIZE_CLASS_Index\", \"prediction\").count()\n",
    "\n",
    "# Collect the confusion matrix into a Pandas DataFrame\n",
    "confusionMatrix = confusionMatrix.toPandas()\n",
    "\n",
    "# Pivot the confusion matrix\n",
    "confusionMatrix = confusionMatrix.pivot(index=\"FIRE_SIZE_CLASS_Index\", columns=\"prediction\", values=\"count\").fillna(0)\n",
    "\n",
    "# Display confusion matrix\n",
    "confusionMatrix"
   ]
  },
  {
   "cell_type": "code",
   "execution_count": 118,
   "id": "637d0cb4",
   "metadata": {
    "scrolled": false
   },
   "outputs": [],
   "source": []
  },
  {
   "cell_type": "code",
   "execution_count": 9,
   "id": "177d90c1",
   "metadata": {
    "scrolled": false
   },
   "outputs": [],
   "source": [
    "dtc = DecisionTreeClassifier(labelCol='FIRE_SIZE_CLASS_Index', maxBins=52)\n",
    "rfc = RandomForestClassifier(labelCol='FIRE_SIZE_CLASS_Index',maxDepth=15, maxBins=52)\n",
    "#gbt = GBTClassifier(labelCol='FIRE_SIZE_CLASS_Index', maxBins=52)"
   ]
  },
  {
   "cell_type": "code",
   "execution_count": 99,
   "id": "7c8b4f65",
   "metadata": {},
   "outputs": [],
   "source": [
    "pipeline_dtc = Pipeline(stages=[STATE_indexer, assembler, dtc])"
   ]
  },
  {
   "cell_type": "code",
   "execution_count": 13,
   "id": "82416cb3",
   "metadata": {},
   "outputs": [],
   "source": [
    "pipeline_rfc = Pipeline(stages=[STATE_indexer, assembler, rfc])"
   ]
  },
  {
   "cell_type": "code",
   "execution_count": 18,
   "id": "bf14944f",
   "metadata": {
    "scrolled": false
   },
   "outputs": [],
   "source": [
    "rfc_model = pipeline_rfc.fit(train_data)"
   ]
  },
  {
   "cell_type": "code",
   "execution_count": 37,
   "id": "7f0bdae5",
   "metadata": {
    "scrolled": false
   },
   "outputs": [],
   "source": [
    "rfc_model = pipeline_rfc.fit(small_train_data)"
   ]
  },
  {
   "cell_type": "code",
   "execution_count": 101,
   "id": "bc8a6d86",
   "metadata": {
    "scrolled": false
   },
   "outputs": [],
   "source": [
    "dtc_model = pipeline_dtc.fit(train_data)"
   ]
  },
  {
   "cell_type": "code",
   "execution_count": 38,
   "id": "ae9ada2a",
   "metadata": {},
   "outputs": [],
   "source": [
    "predictions_rfc = rfc_model.transform(test_data)"
   ]
  },
  {
   "cell_type": "code",
   "execution_count": 39,
   "id": "6ea5a33c",
   "metadata": {},
   "outputs": [],
   "source": [
    "predictions_rfc = rfc_model.transform(small_test_data)"
   ]
  },
  {
   "cell_type": "code",
   "execution_count": 102,
   "id": "958ca445",
   "metadata": {},
   "outputs": [],
   "source": [
    "predictions_dtc = dtc_model.transform(test_data)"
   ]
  },
  {
   "cell_type": "code",
   "execution_count": 103,
   "id": "885b9f4c",
   "metadata": {},
   "outputs": [
    {
     "name": "stdout",
     "output_type": "stream",
     "text": [
      "Accuracy is 0.5766\n"
     ]
    }
   ],
   "source": [
    "evaluator = MulticlassClassificationEvaluator(labelCol=\"FIRE_SIZE_CLASS_Index\", metricName=\"accuracy\")\n",
    "accuracy = evaluator.evaluate(predictions_dtc)\n",
    "\n",
    "\n",
    "print (f\"Accuracy is {accuracy:.4f}\")\n"
   ]
  },
  {
   "cell_type": "code",
   "execution_count": 104,
   "id": "12321f30",
   "metadata": {},
   "outputs": [
    {
     "data": {
      "text/html": [
       "<div>\n",
       "<style scoped>\n",
       "    .dataframe tbody tr th:only-of-type {\n",
       "        vertical-align: middle;\n",
       "    }\n",
       "\n",
       "    .dataframe tbody tr th {\n",
       "        vertical-align: top;\n",
       "    }\n",
       "\n",
       "    .dataframe thead th {\n",
       "        text-align: right;\n",
       "    }\n",
       "</style>\n",
       "<table border=\"1\" class=\"dataframe\">\n",
       "  <thead>\n",
       "    <tr style=\"text-align: right;\">\n",
       "      <th>prediction</th>\n",
       "      <th>0.0</th>\n",
       "      <th>1.0</th>\n",
       "    </tr>\n",
       "    <tr>\n",
       "      <th>FIRE_SIZE_CLASS_Index</th>\n",
       "      <th></th>\n",
       "      <th></th>\n",
       "    </tr>\n",
       "  </thead>\n",
       "  <tbody>\n",
       "    <tr>\n",
       "      <th>0.0</th>\n",
       "      <td>245836</td>\n",
       "      <td>35950</td>\n",
       "    </tr>\n",
       "    <tr>\n",
       "      <th>1.0</th>\n",
       "      <td>120363</td>\n",
       "      <td>79218</td>\n",
       "    </tr>\n",
       "    <tr>\n",
       "      <th>2.0</th>\n",
       "      <td>60264</td>\n",
       "      <td>5927</td>\n",
       "    </tr>\n",
       "    <tr>\n",
       "      <th>3.0</th>\n",
       "      <td>7104</td>\n",
       "      <td>1374</td>\n",
       "    </tr>\n",
       "    <tr>\n",
       "      <th>4.0</th>\n",
       "      <td>3284</td>\n",
       "      <td>1008</td>\n",
       "    </tr>\n",
       "    <tr>\n",
       "      <th>5.0</th>\n",
       "      <td>1546</td>\n",
       "      <td>737</td>\n",
       "    </tr>\n",
       "    <tr>\n",
       "      <th>6.0</th>\n",
       "      <td>667</td>\n",
       "      <td>435</td>\n",
       "    </tr>\n",
       "  </tbody>\n",
       "</table>\n",
       "</div>"
      ],
      "text/plain": [
       "prediction                0.0    1.0\n",
       "FIRE_SIZE_CLASS_Index               \n",
       "0.0                    245836  35950\n",
       "1.0                    120363  79218\n",
       "2.0                     60264   5927\n",
       "3.0                      7104   1374\n",
       "4.0                      3284   1008\n",
       "5.0                      1546    737\n",
       "6.0                       667    435"
      ]
     },
     "execution_count": 104,
     "metadata": {},
     "output_type": "execute_result"
    }
   ],
   "source": [
    "# Compute confusion matrix\n",
    "predictionAndLabels = predictions_dtc.select(\"prediction\", \"FIRE_SIZE_CLASS_Index\")\n",
    "confusionMatrix = predictionAndLabels.groupBy(\"FIRE_SIZE_CLASS_Index\", \"prediction\").count()\n",
    "\n",
    "# Collect the confusion matrix into a Pandas DataFrame\n",
    "confusionMatrix = confusionMatrix.toPandas()\n",
    "\n",
    "# Pivot the confusion matrix\n",
    "confusionMatrix = confusionMatrix.pivot(index=\"FIRE_SIZE_CLASS_Index\", columns=\"prediction\", values=\"count\").fillna(0)\n",
    "\n",
    "# Display confusion matrix\n",
    "confusionMatrix \n",
    "\n"
   ]
  },
  {
   "cell_type": "code",
   "execution_count": null,
   "id": "8bbc00f2",
   "metadata": {},
   "outputs": [],
   "source": []
  },
  {
   "cell_type": "code",
   "execution_count": 40,
   "id": "75497d1b",
   "metadata": {},
   "outputs": [
    {
     "name": "stdout",
     "output_type": "stream",
     "text": [
      "Accuracy is 0.6397\n"
     ]
    }
   ],
   "source": [
    "evaluator = MulticlassClassificationEvaluator(labelCol=\"FIRE_SIZE_CLASS_Index\", metricName=\"accuracy\")\n",
    "accuracy = evaluator.evaluate(predictions_rfc)\n",
    "\n",
    "\n",
    "print (f\"Accuracy is {accuracy:.4f}\")\n"
   ]
  },
  {
   "cell_type": "code",
   "execution_count": 41,
   "id": "bd6a01b6",
   "metadata": {},
   "outputs": [
    {
     "data": {
      "text/html": [
       "<div>\n",
       "<style scoped>\n",
       "    .dataframe tbody tr th:only-of-type {\n",
       "        vertical-align: middle;\n",
       "    }\n",
       "\n",
       "    .dataframe tbody tr th {\n",
       "        vertical-align: top;\n",
       "    }\n",
       "\n",
       "    .dataframe thead th {\n",
       "        text-align: right;\n",
       "    }\n",
       "</style>\n",
       "<table border=\"1\" class=\"dataframe\">\n",
       "  <thead>\n",
       "    <tr style=\"text-align: right;\">\n",
       "      <th>prediction</th>\n",
       "      <th>0.0</th>\n",
       "      <th>1.0</th>\n",
       "      <th>2.0</th>\n",
       "    </tr>\n",
       "    <tr>\n",
       "      <th>FIRE_SIZE_CLASS_Index</th>\n",
       "      <th></th>\n",
       "      <th></th>\n",
       "      <th></th>\n",
       "    </tr>\n",
       "  </thead>\n",
       "  <tbody>\n",
       "    <tr>\n",
       "      <th>0.0</th>\n",
       "      <td>229636</td>\n",
       "      <td>51239</td>\n",
       "      <td>983</td>\n",
       "    </tr>\n",
       "    <tr>\n",
       "      <th>1.0</th>\n",
       "      <td>80220</td>\n",
       "      <td>119621</td>\n",
       "      <td>143</td>\n",
       "    </tr>\n",
       "    <tr>\n",
       "      <th>2.0</th>\n",
       "      <td>56788</td>\n",
       "      <td>7979</td>\n",
       "      <td>1196</td>\n",
       "    </tr>\n",
       "  </tbody>\n",
       "</table>\n",
       "</div>"
      ],
      "text/plain": [
       "prediction                0.0     1.0   2.0\n",
       "FIRE_SIZE_CLASS_Index                      \n",
       "0.0                    229636   51239   983\n",
       "1.0                     80220  119621   143\n",
       "2.0                     56788    7979  1196"
      ]
     },
     "execution_count": 41,
     "metadata": {},
     "output_type": "execute_result"
    }
   ],
   "source": [
    "# Compute confusion matrix\n",
    "predictionAndLabels = predictions_rfc.select(\"prediction\", \"FIRE_SIZE_CLASS_Index\")\n",
    "confusionMatrix = predictionAndLabels.groupBy(\"FIRE_SIZE_CLASS_Index\", \"prediction\").count()\n",
    "\n",
    "# Collect the confusion matrix into a Pandas DataFrame\n",
    "confusionMatrix = confusionMatrix.toPandas()\n",
    "\n",
    "# Pivot the confusion matrix\n",
    "confusionMatrix = confusionMatrix.pivot(index=\"FIRE_SIZE_CLASS_Index\", columns=\"prediction\", values=\"count\").fillna(0)\n",
    "\n",
    "# Display confusion matrix\n",
    "confusionMatrix \n",
    "\n"
   ]
  },
  {
   "cell_type": "code",
   "execution_count": 129,
   "id": "bbf556ae",
   "metadata": {},
   "outputs": [
    {
     "name": "stdout",
     "output_type": "stream",
     "text": [
      "root\n",
      " |-- FIRE_SIZE_CLASS: string (nullable = true)\n",
      " |-- STATE: string (nullable = true)\n",
      " |-- FIRE_YEAR: integer (nullable = true)\n",
      " |-- DISCOVERY_DOY: integer (nullable = true)\n",
      " |-- STAT_CAUSE_CODE: integer (nullable = true)\n",
      " |-- FIRE_SIZE_CLASS_Index: double (nullable = false)\n",
      "\n"
     ]
    }
   ],
   "source": [
    "train_data.printSchema()"
   ]
  },
  {
   "cell_type": "code",
   "execution_count": null,
   "id": "de6537d4",
   "metadata": {},
   "outputs": [],
   "source": []
  },
  {
   "cell_type": "code",
   "execution_count": 136,
   "id": "0e4896af",
   "metadata": {},
   "outputs": [],
   "source": [
    "assembler = VectorAssembler(inputCols=[ 'STATE_Index','FIRE_YEAR', 'DISCOVERY_DOY',\n",
    "                                        'STAT_CAUSE_CODE'], outputCol='features')\n"
   ]
  },
  {
   "cell_type": "code",
   "execution_count": 139,
   "id": "0077f356",
   "metadata": {},
   "outputs": [],
   "source": [
    "STATE_indexer = StringIndexer(inputCol='STATE', outputCol='STATE_Index')\n",
    "STATE_indexed = STATE_indexer.fit(df_final).transform(df_final)\n",
    "\n"
   ]
  },
  {
   "cell_type": "code",
   "execution_count": 140,
   "id": "759f96f2",
   "metadata": {},
   "outputs": [],
   "source": [
    "FIRE_SIZE_CLASS_indexer = StringIndexer(inputCol='FIRE_SIZE_CLASS', outputCol='FIRE_SIZE_CLASS_Index')\n",
    "FIRE_SIZE_CLASS_indexed = FIRE_SIZE_CLASS_indexer.fit(STATE_indexed).transform(STATE_indexed)\n",
    "# FIRE_SIZE_CLASS_indexed.head(3)\n"
   ]
  },
  {
   "cell_type": "code",
   "execution_count": 141,
   "id": "b0a53473",
   "metadata": {},
   "outputs": [],
   "source": [
    "output = assembler.transform(FIRE_SIZE_CLASS_indexed)\n"
   ]
  },
  {
   "cell_type": "code",
   "execution_count": 142,
   "id": "a14ce36b",
   "metadata": {},
   "outputs": [
    {
     "name": "stdout",
     "output_type": "stream",
     "text": [
      "+---------------+-----+---------+-------------+---------------+-----------+---------------------+--------------------+\n",
      "|FIRE_SIZE_CLASS|STATE|FIRE_YEAR|DISCOVERY_DOY|STAT_CAUSE_CODE|STATE_Index|FIRE_SIZE_CLASS_Index|            features|\n",
      "+---------------+-----+---------+-------------+---------------+-----------+---------------------+--------------------+\n",
      "|              A|   CA|     2005|           33|              9|        0.0|                  1.0|[0.0,2005.0,33.0,...|\n",
      "|              A|   CA|     2004|          133|              1|        0.0|                  1.0|[0.0,2004.0,133.0...|\n",
      "|              A|   CA|     2004|          152|              5|        0.0|                  1.0|[0.0,2004.0,152.0...|\n",
      "|              A|   CA|     2004|          180|              1|        0.0|                  1.0|[0.0,2004.0,180.0...|\n",
      "|              A|   CA|     2004|          180|              1|        0.0|                  1.0|[0.0,2004.0,180.0...|\n",
      "|              A|   CA|     2004|          182|              1|        0.0|                  1.0|[0.0,2004.0,182.0...|\n",
      "|              A|   CA|     2004|          183|              1|        0.0|                  1.0|[0.0,2004.0,183.0...|\n",
      "|              B|   CA|     2005|           67|              5|        0.0|                  0.0|[0.0,2005.0,67.0,...|\n",
      "|              B|   CA|     2005|           74|              5|        0.0|                  0.0|[0.0,2005.0,74.0,...|\n",
      "|              A|   CA|     2004|          183|              1|        0.0|                  1.0|[0.0,2004.0,183.0...|\n",
      "|              A|   CA|     2004|          184|              1|        0.0|                  1.0|[0.0,2004.0,184.0...|\n",
      "|              A|   CA|     2004|          184|              1|        0.0|                  1.0|[0.0,2004.0,184.0...|\n",
      "|              A|   CA|     2004|          247|              9|        0.0|                  1.0|[0.0,2004.0,247.0...|\n",
      "|              B|   CA|     2004|          272|              4|        0.0|                  0.0|[0.0,2004.0,272.0...|\n",
      "|              A|   CA|     2004|          277|              1|        0.0|                  1.0|[0.0,2004.0,277.0...|\n",
      "|              A|   CA|     2004|          277|              1|        0.0|                  1.0|[0.0,2004.0,277.0...|\n",
      "|              G|   CA|     2004|          280|              2|        0.0|                  6.0|[0.0,2004.0,280.0...|\n",
      "|              G|   CA|     2004|          287|              2|        0.0|                  6.0|[0.0,2004.0,287.0...|\n",
      "|              A|   CA|     2004|          325|              5|        0.0|                  1.0|[0.0,2004.0,325.0...|\n",
      "|              A|   NM|     2004|          156|              1|       14.0|                  1.0|[14.0,2004.0,156....|\n",
      "+---------------+-----+---------+-------------+---------------+-----------+---------------------+--------------------+\n",
      "only showing top 20 rows\n",
      "\n"
     ]
    }
   ],
   "source": [
    "output.show()"
   ]
  },
  {
   "cell_type": "code",
   "execution_count": 156,
   "id": "e444e380",
   "metadata": {},
   "outputs": [
    {
     "name": "stdout",
     "output_type": "stream",
     "text": [
      "+---------------+-----+---------+-------------+---------------+-----------+---------------------+\n",
      "|FIRE_SIZE_CLASS|STATE|FIRE_YEAR|DISCOVERY_DOY|STAT_CAUSE_CODE|STATE_Index|FIRE_SIZE_CLASS_Index|\n",
      "+---------------+-----+---------+-------------+---------------+-----------+---------------------+\n",
      "|              A|   CA|     2005|           33|              9|        0.0|                  1.0|\n",
      "|              A|   CA|     2004|          133|              1|        0.0|                  1.0|\n",
      "|              A|   CA|     2004|          152|              5|        0.0|                  1.0|\n",
      "|              A|   CA|     2004|          180|              1|        0.0|                  1.0|\n",
      "|              A|   CA|     2004|          180|              1|        0.0|                  1.0|\n",
      "|              A|   CA|     2004|          182|              1|        0.0|                  1.0|\n",
      "|              A|   CA|     2004|          183|              1|        0.0|                  1.0|\n",
      "|              B|   CA|     2005|           67|              5|        0.0|                  0.0|\n",
      "|              B|   CA|     2005|           74|              5|        0.0|                  0.0|\n",
      "|              A|   CA|     2004|          183|              1|        0.0|                  1.0|\n",
      "|              A|   CA|     2004|          184|              1|        0.0|                  1.0|\n",
      "|              A|   CA|     2004|          184|              1|        0.0|                  1.0|\n",
      "|              A|   CA|     2004|          247|              9|        0.0|                  1.0|\n",
      "|              B|   CA|     2004|          272|              4|        0.0|                  0.0|\n",
      "|              A|   CA|     2004|          277|              1|        0.0|                  1.0|\n",
      "|              A|   CA|     2004|          277|              1|        0.0|                  1.0|\n",
      "|              G|   CA|     2004|          280|              2|        0.0|                  6.0|\n",
      "|              G|   CA|     2004|          287|              2|        0.0|                  6.0|\n",
      "|              A|   CA|     2004|          325|              5|        0.0|                  1.0|\n",
      "|              A|   NM|     2004|          156|              1|       14.0|                  1.0|\n",
      "+---------------+-----+---------+-------------+---------------+-----------+---------------------+\n",
      "only showing top 20 rows\n",
      "\n"
     ]
    }
   ],
   "source": [
    "FIRE_SIZE_CLASS_indexed.show()"
   ]
  },
  {
   "cell_type": "code",
   "execution_count": 157,
   "id": "890020fc",
   "metadata": {},
   "outputs": [],
   "source": [
    "data = FIRE_SIZE_CLASS_indexed.select('FIRE_YEAR', 'DISCOVERY_DOY', 'STAT_CAUSE_CODE', 'STATE_Index','FIRE_SIZE_CLASS_Index')"
   ]
  },
  {
   "cell_type": "code",
   "execution_count": 248,
   "id": "e9af5c56",
   "metadata": {
    "collapsed": true
   },
   "outputs": [
    {
     "name": "stdout",
     "output_type": "stream",
     "text": [
      "+---------+-------------+---------------+-----------+---------------------+\n",
      "|FIRE_YEAR|DISCOVERY_DOY|STAT_CAUSE_CODE|STATE_Index|FIRE_SIZE_CLASS_Index|\n",
      "+---------+-------------+---------------+-----------+---------------------+\n",
      "|     2005|           33|              9|        0.0|                  1.0|\n",
      "|     2004|          133|              1|        0.0|                  1.0|\n",
      "|     2004|          152|              5|        0.0|                  1.0|\n",
      "|     2004|          180|              1|        0.0|                  1.0|\n",
      "|     2004|          180|              1|        0.0|                  1.0|\n",
      "|     2004|          182|              1|        0.0|                  1.0|\n",
      "|     2004|          183|              1|        0.0|                  1.0|\n",
      "|     2005|           67|              5|        0.0|                  0.0|\n",
      "|     2005|           74|              5|        0.0|                  0.0|\n",
      "|     2004|          183|              1|        0.0|                  1.0|\n",
      "|     2004|          184|              1|        0.0|                  1.0|\n",
      "|     2004|          184|              1|        0.0|                  1.0|\n",
      "|     2004|          247|              9|        0.0|                  1.0|\n",
      "|     2004|          272|              4|        0.0|                  0.0|\n",
      "|     2004|          277|              1|        0.0|                  1.0|\n",
      "|     2004|          277|              1|        0.0|                  1.0|\n",
      "|     2004|          280|              2|        0.0|                  6.0|\n",
      "|     2004|          287|              2|        0.0|                  6.0|\n",
      "|     2004|          325|              5|        0.0|                  1.0|\n",
      "|     2004|          156|              1|       14.0|                  1.0|\n",
      "+---------+-------------+---------------+-----------+---------------------+\n",
      "only showing top 20 rows\n",
      "\n"
     ]
    }
   ],
   "source": [
    "data.show()"
   ]
  },
  {
   "cell_type": "code",
   "execution_count": 158,
   "id": "93c8c451",
   "metadata": {},
   "outputs": [],
   "source": [
    "train_data, test_data = data.randomSplit([0.7, 0.3])"
   ]
  },
  {
   "cell_type": "code",
   "execution_count": 159,
   "id": "493aa830",
   "metadata": {},
   "outputs": [
    {
     "data": {
      "text/plain": [
       "[('FIRE_YEAR', 'int'),\n",
       " ('DISCOVERY_DOY', 'int'),\n",
       " ('STAT_CAUSE_CODE', 'int'),\n",
       " ('STATE_Index', 'double'),\n",
       " ('FIRE_SIZE_CLASS_Index', 'double')]"
      ]
     },
     "execution_count": 159,
     "metadata": {},
     "output_type": "execute_result"
    }
   ],
   "source": [
    "train_data.dtypes"
   ]
  },
  {
   "cell_type": "code",
   "execution_count": 160,
   "id": "149c5615",
   "metadata": {},
   "outputs": [
    {
     "name": "stdout",
     "output_type": "stream",
     "text": [
      "+---------+-------------+---------------+-----------+---------------------+\n",
      "|FIRE_YEAR|DISCOVERY_DOY|STAT_CAUSE_CODE|STATE_Index|FIRE_SIZE_CLASS_Index|\n",
      "+---------+-------------+---------------+-----------+---------------------+\n",
      "|     1992|            1|              1|        0.0|                  1.0|\n",
      "|     1992|            1|              1|       32.0|                  4.0|\n",
      "|     1992|            1|              2|        4.0|                  0.0|\n",
      "|     1992|            1|              2|        4.0|                  0.0|\n",
      "|     1992|            1|              2|        7.0|                  0.0|\n",
      "|     1992|            1|              3|        1.0|                  0.0|\n",
      "|     1992|            1|              3|        1.0|                  0.0|\n",
      "|     1992|            1|              5|        0.0|                  0.0|\n",
      "|     1992|            1|              5|        2.0|                  0.0|\n",
      "|     1992|            1|              5|        2.0|                  0.0|\n",
      "|     1992|            1|              5|        3.0|                  0.0|\n",
      "|     1992|            1|              5|        3.0|                  0.0|\n",
      "|     1992|            1|              5|        4.0|                  0.0|\n",
      "|     1992|            1|              5|        7.0|                  0.0|\n",
      "|     1992|            1|              5|        7.0|                  0.0|\n",
      "|     1992|            1|              5|       17.0|                  1.0|\n",
      "|     1992|            1|              6|        4.0|                  0.0|\n",
      "|     1992|            1|              6|        4.0|                  0.0|\n",
      "|     1992|            1|              6|        4.0|                  0.0|\n",
      "|     1992|            1|              6|        4.0|                  0.0|\n",
      "+---------+-------------+---------------+-----------+---------------------+\n",
      "only showing top 20 rows\n",
      "\n"
     ]
    }
   ],
   "source": [
    "train_data.show()"
   ]
  },
  {
   "cell_type": "code",
   "execution_count": 164,
   "id": "cb0548b5",
   "metadata": {},
   "outputs": [
    {
     "data": {
      "text/html": [
       "<div>\n",
       "<style scoped>\n",
       "    .dataframe tbody tr th:only-of-type {\n",
       "        vertical-align: middle;\n",
       "    }\n",
       "\n",
       "    .dataframe tbody tr th {\n",
       "        vertical-align: top;\n",
       "    }\n",
       "\n",
       "    .dataframe thead th {\n",
       "        text-align: right;\n",
       "    }\n",
       "</style>\n",
       "<table border=\"1\" class=\"dataframe\">\n",
       "  <thead>\n",
       "    <tr style=\"text-align: right;\">\n",
       "      <th></th>\n",
       "      <th>FIRE_YEAR</th>\n",
       "      <th>DISCOVERY_DOY</th>\n",
       "      <th>STAT_CAUSE_CODE</th>\n",
       "      <th>STATE_Index</th>\n",
       "      <th>FIRE_SIZE_CLASS_Index</th>\n",
       "    </tr>\n",
       "  </thead>\n",
       "  <tbody>\n",
       "    <tr>\n",
       "      <th>0</th>\n",
       "      <td>1992</td>\n",
       "      <td>1</td>\n",
       "      <td>1</td>\n",
       "      <td>0.0</td>\n",
       "      <td>1.0</td>\n",
       "    </tr>\n",
       "    <tr>\n",
       "      <th>1</th>\n",
       "      <td>1992</td>\n",
       "      <td>1</td>\n",
       "      <td>1</td>\n",
       "      <td>32.0</td>\n",
       "      <td>4.0</td>\n",
       "    </tr>\n",
       "    <tr>\n",
       "      <th>2</th>\n",
       "      <td>1992</td>\n",
       "      <td>1</td>\n",
       "      <td>2</td>\n",
       "      <td>4.0</td>\n",
       "      <td>0.0</td>\n",
       "    </tr>\n",
       "    <tr>\n",
       "      <th>3</th>\n",
       "      <td>1992</td>\n",
       "      <td>1</td>\n",
       "      <td>2</td>\n",
       "      <td>4.0</td>\n",
       "      <td>0.0</td>\n",
       "    </tr>\n",
       "    <tr>\n",
       "      <th>4</th>\n",
       "      <td>1992</td>\n",
       "      <td>1</td>\n",
       "      <td>2</td>\n",
       "      <td>7.0</td>\n",
       "      <td>0.0</td>\n",
       "    </tr>\n",
       "    <tr>\n",
       "      <th>...</th>\n",
       "      <td>...</td>\n",
       "      <td>...</td>\n",
       "      <td>...</td>\n",
       "      <td>...</td>\n",
       "      <td>...</td>\n",
       "    </tr>\n",
       "    <tr>\n",
       "      <th>1317175</th>\n",
       "      <td>2015</td>\n",
       "      <td>365</td>\n",
       "      <td>13</td>\n",
       "      <td>0.0</td>\n",
       "      <td>1.0</td>\n",
       "    </tr>\n",
       "    <tr>\n",
       "      <th>1317176</th>\n",
       "      <td>2015</td>\n",
       "      <td>365</td>\n",
       "      <td>13</td>\n",
       "      <td>0.0</td>\n",
       "      <td>1.0</td>\n",
       "    </tr>\n",
       "    <tr>\n",
       "      <th>1317177</th>\n",
       "      <td>2015</td>\n",
       "      <td>365</td>\n",
       "      <td>13</td>\n",
       "      <td>8.0</td>\n",
       "      <td>1.0</td>\n",
       "    </tr>\n",
       "    <tr>\n",
       "      <th>1317178</th>\n",
       "      <td>2015</td>\n",
       "      <td>365</td>\n",
       "      <td>13</td>\n",
       "      <td>8.0</td>\n",
       "      <td>1.0</td>\n",
       "    </tr>\n",
       "    <tr>\n",
       "      <th>1317179</th>\n",
       "      <td>2015</td>\n",
       "      <td>365</td>\n",
       "      <td>13</td>\n",
       "      <td>8.0</td>\n",
       "      <td>1.0</td>\n",
       "    </tr>\n",
       "  </tbody>\n",
       "</table>\n",
       "<p>1317180 rows × 5 columns</p>\n",
       "</div>"
      ],
      "text/plain": [
       "         FIRE_YEAR  DISCOVERY_DOY  STAT_CAUSE_CODE  STATE_Index  \\\n",
       "0             1992              1                1          0.0   \n",
       "1             1992              1                1         32.0   \n",
       "2             1992              1                2          4.0   \n",
       "3             1992              1                2          4.0   \n",
       "4             1992              1                2          7.0   \n",
       "...            ...            ...              ...          ...   \n",
       "1317175       2015            365               13          0.0   \n",
       "1317176       2015            365               13          0.0   \n",
       "1317177       2015            365               13          8.0   \n",
       "1317178       2015            365               13          8.0   \n",
       "1317179       2015            365               13          8.0   \n",
       "\n",
       "         FIRE_SIZE_CLASS_Index  \n",
       "0                          1.0  \n",
       "1                          4.0  \n",
       "2                          0.0  \n",
       "3                          0.0  \n",
       "4                          0.0  \n",
       "...                        ...  \n",
       "1317175                    1.0  \n",
       "1317176                    1.0  \n",
       "1317177                    1.0  \n",
       "1317178                    1.0  \n",
       "1317179                    1.0  \n",
       "\n",
       "[1317180 rows x 5 columns]"
      ]
     },
     "execution_count": 164,
     "metadata": {},
     "output_type": "execute_result"
    }
   ],
   "source": [
    "train_data_pd"
   ]
  },
  {
   "cell_type": "code",
   "execution_count": 165,
   "id": "dc669559",
   "metadata": {
    "collapsed": true
   },
   "outputs": [
    {
     "data": {
      "text/html": [
       "<div>\n",
       "<style scoped>\n",
       "    .dataframe tbody tr th:only-of-type {\n",
       "        vertical-align: middle;\n",
       "    }\n",
       "\n",
       "    .dataframe tbody tr th {\n",
       "        vertical-align: top;\n",
       "    }\n",
       "\n",
       "    .dataframe thead th {\n",
       "        text-align: right;\n",
       "    }\n",
       "</style>\n",
       "<table border=\"1\" class=\"dataframe\">\n",
       "  <thead>\n",
       "    <tr style=\"text-align: right;\">\n",
       "      <th></th>\n",
       "      <th>FIRE_YEAR</th>\n",
       "      <th>DISCOVERY_DOY</th>\n",
       "      <th>STAT_CAUSE_CODE</th>\n",
       "      <th>STATE_Index</th>\n",
       "    </tr>\n",
       "  </thead>\n",
       "  <tbody>\n",
       "    <tr>\n",
       "      <th>0</th>\n",
       "      <td>1992</td>\n",
       "      <td>1</td>\n",
       "      <td>1</td>\n",
       "      <td>0.0</td>\n",
       "    </tr>\n",
       "    <tr>\n",
       "      <th>1</th>\n",
       "      <td>1992</td>\n",
       "      <td>1</td>\n",
       "      <td>1</td>\n",
       "      <td>32.0</td>\n",
       "    </tr>\n",
       "    <tr>\n",
       "      <th>2</th>\n",
       "      <td>1992</td>\n",
       "      <td>1</td>\n",
       "      <td>2</td>\n",
       "      <td>4.0</td>\n",
       "    </tr>\n",
       "    <tr>\n",
       "      <th>3</th>\n",
       "      <td>1992</td>\n",
       "      <td>1</td>\n",
       "      <td>2</td>\n",
       "      <td>4.0</td>\n",
       "    </tr>\n",
       "    <tr>\n",
       "      <th>4</th>\n",
       "      <td>1992</td>\n",
       "      <td>1</td>\n",
       "      <td>2</td>\n",
       "      <td>7.0</td>\n",
       "    </tr>\n",
       "    <tr>\n",
       "      <th>...</th>\n",
       "      <td>...</td>\n",
       "      <td>...</td>\n",
       "      <td>...</td>\n",
       "      <td>...</td>\n",
       "    </tr>\n",
       "    <tr>\n",
       "      <th>1317175</th>\n",
       "      <td>2015</td>\n",
       "      <td>365</td>\n",
       "      <td>13</td>\n",
       "      <td>0.0</td>\n",
       "    </tr>\n",
       "    <tr>\n",
       "      <th>1317176</th>\n",
       "      <td>2015</td>\n",
       "      <td>365</td>\n",
       "      <td>13</td>\n",
       "      <td>0.0</td>\n",
       "    </tr>\n",
       "    <tr>\n",
       "      <th>1317177</th>\n",
       "      <td>2015</td>\n",
       "      <td>365</td>\n",
       "      <td>13</td>\n",
       "      <td>8.0</td>\n",
       "    </tr>\n",
       "    <tr>\n",
       "      <th>1317178</th>\n",
       "      <td>2015</td>\n",
       "      <td>365</td>\n",
       "      <td>13</td>\n",
       "      <td>8.0</td>\n",
       "    </tr>\n",
       "    <tr>\n",
       "      <th>1317179</th>\n",
       "      <td>2015</td>\n",
       "      <td>365</td>\n",
       "      <td>13</td>\n",
       "      <td>8.0</td>\n",
       "    </tr>\n",
       "  </tbody>\n",
       "</table>\n",
       "<p>1317180 rows × 4 columns</p>\n",
       "</div>"
      ],
      "text/plain": [
       "         FIRE_YEAR  DISCOVERY_DOY  STAT_CAUSE_CODE  STATE_Index\n",
       "0             1992              1                1          0.0\n",
       "1             1992              1                1         32.0\n",
       "2             1992              1                2          4.0\n",
       "3             1992              1                2          4.0\n",
       "4             1992              1                2          7.0\n",
       "...            ...            ...              ...          ...\n",
       "1317175       2015            365               13          0.0\n",
       "1317176       2015            365               13          0.0\n",
       "1317177       2015            365               13          8.0\n",
       "1317178       2015            365               13          8.0\n",
       "1317179       2015            365               13          8.0\n",
       "\n",
       "[1317180 rows x 4 columns]"
      ]
     },
     "execution_count": 165,
     "metadata": {},
     "output_type": "execute_result"
    }
   ],
   "source": [
    "train_data_pd.drop('FIRE_SIZE_CLASS_Index', axis = 1)"
   ]
  },
  {
   "cell_type": "code",
   "execution_count": 166,
   "id": "80a404fd",
   "metadata": {},
   "outputs": [],
   "source": [
    "train_data_pd = train_data.toPandas()\n",
    "\n",
    "\n",
    "\n",
    "# Create the DMatrix from the Pandas DataFrame\n",
    "dtrain = xgb.DMatrix(train_data_pd.drop('FIRE_SIZE_CLASS_Index', axis = 1), label=train_data_pd['FIRE_SIZE_CLASS_Index'])#, enable_categorical=True)\n"
   ]
  },
  {
   "cell_type": "code",
   "execution_count": 173,
   "id": "6ceccda6",
   "metadata": {},
   "outputs": [],
   "source": [
    "test_data_pd = test_data.toPandas()\n",
    "\n",
    "\n",
    "\n",
    "# Create the DMatrix from the Pandas DataFrame\n",
    "dtest = xgb.DMatrix(test_data_pd.drop('FIRE_SIZE_CLASS_Index', axis = 1), label=test_data_pd['FIRE_SIZE_CLASS_Index'])#, enable_categorical=True)\n"
   ]
  },
  {
   "cell_type": "code",
   "execution_count": 300,
   "id": "c47b5ffe",
   "metadata": {},
   "outputs": [],
   "source": [
    "xgb_params = {\n",
    "    \"objective\": \"multi:softprob\",\n",
    "    \"num_class\": 7,\n",
    "    \"max_depth\": 20,\n",
    "    \"eta\": 1.0,\n",
    "#     \"num_round\": 10\n",
    "}\n",
    "\n",
    "xgb_model = xgb.train (dtrain=dtrain, params = xgb_params)"
   ]
  },
  {
   "cell_type": "code",
   "execution_count": 301,
   "id": "6157acc1",
   "metadata": {},
   "outputs": [],
   "source": [
    "preds = xgb_model.predict(dtest)"
   ]
  },
  {
   "cell_type": "code",
   "execution_count": 302,
   "id": "a6e15049",
   "metadata": {},
   "outputs": [
    {
     "data": {
      "text/plain": [
       "array([[9.7079021e-01, 2.5977165e-02, 2.1761740e-03, ..., 1.6835867e-04,\n",
       "        1.5543895e-04, 1.5390667e-04],\n",
       "       [9.7079021e-01, 2.5977165e-02, 2.1761740e-03, ..., 1.6835867e-04,\n",
       "        1.5543895e-04, 1.5390667e-04],\n",
       "       [9.1283751e-01, 4.1302007e-02, 3.3549190e-02, ..., 1.5022806e-03,\n",
       "        6.0506063e-03, 3.1087466e-04],\n",
       "       ...,\n",
       "       [6.0772163e-01, 1.3171239e-01, 2.4166501e-01, ..., 6.9582099e-03,\n",
       "        1.6806581e-03, 2.9534835e-03],\n",
       "       [1.6614597e-03, 9.9315709e-01, 1.0049579e-03, ..., 9.2655078e-05,\n",
       "        3.8863150e-03, 6.9152724e-05],\n",
       "       [1.6614597e-03, 9.9315709e-01, 1.0049579e-03, ..., 9.2655078e-05,\n",
       "        3.8863150e-03, 6.9152724e-05]], dtype=float32)"
      ]
     },
     "execution_count": 302,
     "metadata": {},
     "output_type": "execute_result"
    }
   ],
   "source": [
    "preds"
   ]
  },
  {
   "cell_type": "code",
   "execution_count": 303,
   "id": "04cc18c6",
   "metadata": {},
   "outputs": [
    {
     "data": {
      "text/plain": [
       "array([0, 0, 0, ..., 0, 1, 1], dtype=int64)"
      ]
     },
     "execution_count": 303,
     "metadata": {},
     "output_type": "execute_result"
    }
   ],
   "source": [
    "predicted_labels = np.argmax(preds, axis=1)\n",
    "predicted_labels"
   ]
  },
  {
   "cell_type": "code",
   "execution_count": 304,
   "id": "15db6381",
   "metadata": {},
   "outputs": [
    {
     "data": {
      "text/plain": [
       "array([0, 1, 2, 3, 4, 5, 6], dtype=int64)"
      ]
     },
     "execution_count": 304,
     "metadata": {},
     "output_type": "execute_result"
    }
   ],
   "source": [
    "pd.DataFrame(predicted_labels)[0].unique()"
   ]
  },
  {
   "cell_type": "code",
   "execution_count": 305,
   "id": "31b0af89",
   "metadata": {},
   "outputs": [
    {
     "data": {
      "text/html": [
       "<div>\n",
       "<style scoped>\n",
       "    .dataframe tbody tr th:only-of-type {\n",
       "        vertical-align: middle;\n",
       "    }\n",
       "\n",
       "    .dataframe tbody tr th {\n",
       "        vertical-align: top;\n",
       "    }\n",
       "\n",
       "    .dataframe thead th {\n",
       "        text-align: right;\n",
       "    }\n",
       "</style>\n",
       "<table border=\"1\" class=\"dataframe\">\n",
       "  <thead>\n",
       "    <tr style=\"text-align: right;\">\n",
       "      <th></th>\n",
       "      <th>0</th>\n",
       "    </tr>\n",
       "  </thead>\n",
       "  <tbody>\n",
       "    <tr>\n",
       "      <th>0</th>\n",
       "      <td>0</td>\n",
       "    </tr>\n",
       "    <tr>\n",
       "      <th>1</th>\n",
       "      <td>0</td>\n",
       "    </tr>\n",
       "    <tr>\n",
       "      <th>2</th>\n",
       "      <td>0</td>\n",
       "    </tr>\n",
       "    <tr>\n",
       "      <th>3</th>\n",
       "      <td>1</td>\n",
       "    </tr>\n",
       "    <tr>\n",
       "      <th>4</th>\n",
       "      <td>0</td>\n",
       "    </tr>\n",
       "    <tr>\n",
       "      <th>...</th>\n",
       "      <td>...</td>\n",
       "    </tr>\n",
       "    <tr>\n",
       "      <th>563280</th>\n",
       "      <td>1</td>\n",
       "    </tr>\n",
       "    <tr>\n",
       "      <th>563281</th>\n",
       "      <td>1</td>\n",
       "    </tr>\n",
       "    <tr>\n",
       "      <th>563282</th>\n",
       "      <td>0</td>\n",
       "    </tr>\n",
       "    <tr>\n",
       "      <th>563283</th>\n",
       "      <td>1</td>\n",
       "    </tr>\n",
       "    <tr>\n",
       "      <th>563284</th>\n",
       "      <td>1</td>\n",
       "    </tr>\n",
       "  </tbody>\n",
       "</table>\n",
       "<p>563285 rows × 1 columns</p>\n",
       "</div>"
      ],
      "text/plain": [
       "        0\n",
       "0       0\n",
       "1       0\n",
       "2       0\n",
       "3       1\n",
       "4       0\n",
       "...    ..\n",
       "563280  1\n",
       "563281  1\n",
       "563282  0\n",
       "563283  1\n",
       "563284  1\n",
       "\n",
       "[563285 rows x 1 columns]"
      ]
     },
     "execution_count": 305,
     "metadata": {},
     "output_type": "execute_result"
    }
   ],
   "source": [
    "pd.DataFrame(predicted_labels)"
   ]
  },
  {
   "cell_type": "code",
   "execution_count": 306,
   "id": "724bdb8d",
   "metadata": {},
   "outputs": [
    {
     "data": {
      "text/html": [
       "<div>\n",
       "<style scoped>\n",
       "    .dataframe tbody tr th:only-of-type {\n",
       "        vertical-align: middle;\n",
       "    }\n",
       "\n",
       "    .dataframe tbody tr th {\n",
       "        vertical-align: top;\n",
       "    }\n",
       "\n",
       "    .dataframe thead th {\n",
       "        text-align: right;\n",
       "    }\n",
       "</style>\n",
       "<table border=\"1\" class=\"dataframe\">\n",
       "  <thead>\n",
       "    <tr style=\"text-align: right;\">\n",
       "      <th></th>\n",
       "      <th>FIRE_YEAR</th>\n",
       "      <th>DISCOVERY_DOY</th>\n",
       "      <th>STAT_CAUSE_CODE</th>\n",
       "      <th>STATE_Index</th>\n",
       "      <th>FIRE_SIZE_CLASS_Index</th>\n",
       "    </tr>\n",
       "  </thead>\n",
       "  <tbody>\n",
       "    <tr>\n",
       "      <th>0</th>\n",
       "      <td>1992</td>\n",
       "      <td>1</td>\n",
       "      <td>2</td>\n",
       "      <td>1.0</td>\n",
       "      <td>1.0</td>\n",
       "    </tr>\n",
       "    <tr>\n",
       "      <th>1</th>\n",
       "      <td>1992</td>\n",
       "      <td>1</td>\n",
       "      <td>2</td>\n",
       "      <td>1.0</td>\n",
       "      <td>1.0</td>\n",
       "    </tr>\n",
       "    <tr>\n",
       "      <th>2</th>\n",
       "      <td>1992</td>\n",
       "      <td>1</td>\n",
       "      <td>2</td>\n",
       "      <td>2.0</td>\n",
       "      <td>2.0</td>\n",
       "    </tr>\n",
       "    <tr>\n",
       "      <th>3</th>\n",
       "      <td>1992</td>\n",
       "      <td>1</td>\n",
       "      <td>2</td>\n",
       "      <td>21.0</td>\n",
       "      <td>1.0</td>\n",
       "    </tr>\n",
       "    <tr>\n",
       "      <th>4</th>\n",
       "      <td>1992</td>\n",
       "      <td>1</td>\n",
       "      <td>3</td>\n",
       "      <td>1.0</td>\n",
       "      <td>1.0</td>\n",
       "    </tr>\n",
       "    <tr>\n",
       "      <th>...</th>\n",
       "      <td>...</td>\n",
       "      <td>...</td>\n",
       "      <td>...</td>\n",
       "      <td>...</td>\n",
       "      <td>...</td>\n",
       "    </tr>\n",
       "    <tr>\n",
       "      <th>563280</th>\n",
       "      <td>2015</td>\n",
       "      <td>365</td>\n",
       "      <td>7</td>\n",
       "      <td>1.0</td>\n",
       "      <td>1.0</td>\n",
       "    </tr>\n",
       "    <tr>\n",
       "      <th>563281</th>\n",
       "      <td>2015</td>\n",
       "      <td>365</td>\n",
       "      <td>7</td>\n",
       "      <td>14.0</td>\n",
       "      <td>0.0</td>\n",
       "    </tr>\n",
       "    <tr>\n",
       "      <th>563282</th>\n",
       "      <td>2015</td>\n",
       "      <td>365</td>\n",
       "      <td>9</td>\n",
       "      <td>32.0</td>\n",
       "      <td>1.0</td>\n",
       "    </tr>\n",
       "    <tr>\n",
       "      <th>563283</th>\n",
       "      <td>2015</td>\n",
       "      <td>365</td>\n",
       "      <td>13</td>\n",
       "      <td>8.0</td>\n",
       "      <td>1.0</td>\n",
       "    </tr>\n",
       "    <tr>\n",
       "      <th>563284</th>\n",
       "      <td>2015</td>\n",
       "      <td>365</td>\n",
       "      <td>13</td>\n",
       "      <td>8.0</td>\n",
       "      <td>1.0</td>\n",
       "    </tr>\n",
       "  </tbody>\n",
       "</table>\n",
       "<p>563285 rows × 5 columns</p>\n",
       "</div>"
      ],
      "text/plain": [
       "        FIRE_YEAR  DISCOVERY_DOY  STAT_CAUSE_CODE  STATE_Index  \\\n",
       "0            1992              1                2          1.0   \n",
       "1            1992              1                2          1.0   \n",
       "2            1992              1                2          2.0   \n",
       "3            1992              1                2         21.0   \n",
       "4            1992              1                3          1.0   \n",
       "...           ...            ...              ...          ...   \n",
       "563280       2015            365                7          1.0   \n",
       "563281       2015            365                7         14.0   \n",
       "563282       2015            365                9         32.0   \n",
       "563283       2015            365               13          8.0   \n",
       "563284       2015            365               13          8.0   \n",
       "\n",
       "        FIRE_SIZE_CLASS_Index  \n",
       "0                         1.0  \n",
       "1                         1.0  \n",
       "2                         2.0  \n",
       "3                         1.0  \n",
       "4                         1.0  \n",
       "...                       ...  \n",
       "563280                    1.0  \n",
       "563281                    0.0  \n",
       "563282                    1.0  \n",
       "563283                    1.0  \n",
       "563284                    1.0  \n",
       "\n",
       "[563285 rows x 5 columns]"
      ]
     },
     "execution_count": 306,
     "metadata": {},
     "output_type": "execute_result"
    }
   ],
   "source": [
    "test_data_pd"
   ]
  },
  {
   "cell_type": "code",
   "execution_count": null,
   "id": "3fde418c",
   "metadata": {},
   "outputs": [],
   "source": []
  },
  {
   "cell_type": "code",
   "execution_count": 307,
   "id": "7b5576ee",
   "metadata": {
    "scrolled": true
   },
   "outputs": [
    {
     "name": "stdout",
     "output_type": "stream",
     "text": [
      "Accuracy: 0.5978252571966234\n"
     ]
    }
   ],
   "source": [
    "actual_labels = test_data_pd['FIRE_SIZE_CLASS_Index'].values\n",
    "accuracy = np.mean(predicted_labels == actual_labels)\n",
    "print(\"Accuracy:\", accuracy)\n"
   ]
  },
  {
   "cell_type": "code",
   "execution_count": 308,
   "id": "6cc93f2a",
   "metadata": {},
   "outputs": [
    {
     "name": "stdout",
     "output_type": "stream",
     "text": [
      "              precision    recall  f1-score   support\n",
      "\n",
      "         0.0       0.61      0.73      0.67    281503\n",
      "         1.0       0.62      0.61      0.61    199552\n",
      "         2.0       0.31      0.12      0.18     65993\n",
      "         3.0       0.15      0.02      0.03      8603\n",
      "         4.0       0.13      0.02      0.03      4245\n",
      "         5.0       0.10      0.02      0.03      2261\n",
      "         6.0       0.24      0.08      0.12      1128\n",
      "\n",
      "    accuracy                           0.60    563285\n",
      "   macro avg       0.31      0.23      0.24    563285\n",
      "weighted avg       0.57      0.60      0.57    563285\n",
      "\n"
     ]
    }
   ],
   "source": [
    "from sklearn.metrics import classification_report\n",
    "\n",
    "# Assuming 'actual_labels' and 'predicted_labels' are defined as mentioned before\n",
    "\n",
    "# Calculate classification metrics\n",
    "classification_metrics = classification_report(actual_labels, predicted_labels)\n",
    "\n",
    "print(classification_metrics)\n"
   ]
  },
  {
   "cell_type": "markdown",
   "id": "d3d8c5c1",
   "metadata": {},
   "source": [
    "The precision, recall, and F1-score for classes 3, 4, and 5 are all reported as 0, indicating that there were no true positive predictions for these classes. The support for these classes also seems to be low, suggesting that there might be a limited number of instances in the dataset that belong to those classes.\n",
    "\n",
    "In the context of classification metrics, the term \"support\" refers to the number of instances or samples in the dataset that belong to a particular class. It represents the frequency or count of instances in each class.\n",
    "\n"
   ]
  },
  {
   "cell_type": "code",
   "execution_count": 241,
   "id": "109e8a2e",
   "metadata": {},
   "outputs": [
    {
     "name": "stdout",
     "output_type": "stream",
     "text": [
      "+---------------------+------+\n",
      "|FIRE_SIZE_CLASS_Index| count|\n",
      "+---------------------+------+\n",
      "|                  0.0|281503|\n",
      "|                  1.0|199552|\n",
      "|                  4.0|  4245|\n",
      "|                  3.0|  8603|\n",
      "|                  2.0| 65993|\n",
      "|                  6.0|  1128|\n",
      "|                  5.0|  2261|\n",
      "+---------------------+------+\n",
      "\n"
     ]
    }
   ],
   "source": [
    "test_data.groupBy('FIRE_SIZE_CLASS_Index').count().show()"
   ]
  },
  {
   "cell_type": "markdown",
   "id": "cba93d65",
   "metadata": {},
   "source": [
    "# Let's deal with the imbalanced data\n",
    "\n",
    "It's important to note that oversampling and undersampling should be applied only on the training data to avoid introducing bias into the testing or validation sets. Additionally, the choice between oversampling and undersampling depends on the specific problem and dataset, so it's recommended to experiment with both approaches and evaluate their impact on your model's performance."
   ]
  },
  {
   "cell_type": "code",
   "execution_count": 252,
   "id": "9bd71642",
   "metadata": {},
   "outputs": [],
   "source": [
    "# oversampling \n",
    "# Assuming X_train and y_train are your training data and labels\n",
    "smote = SMOTE(random_state=42)\n",
    "X_train_resampled, y_train_resampled = smote.fit_resample(train_data_pd.drop('FIRE_SIZE_CLASS_Index', axis=1), train_data_pd['FIRE_SIZE_CLASS_Index'])\n"
   ]
  },
  {
   "cell_type": "code",
   "execution_count": 257,
   "id": "57c3b9e3",
   "metadata": {},
   "outputs": [],
   "source": [
    "xgb_model = xgb.train(dtrain=xgb.DMatrix(X_train_resampled, label=y_train_resampled), params=xgb_params)\n"
   ]
  },
  {
   "cell_type": "code",
   "execution_count": 258,
   "id": "895c418f",
   "metadata": {},
   "outputs": [],
   "source": [
    "preds = xgb_model.predict(dtest)"
   ]
  },
  {
   "cell_type": "code",
   "execution_count": 259,
   "id": "7e818cb9",
   "metadata": {},
   "outputs": [
    {
     "data": {
      "text/plain": [
       "array([[0.26523563, 0.34860674, 0.19841544, ..., 0.03720682, 0.0765496 ,\n",
       "        0.03202945],\n",
       "       [0.26523563, 0.34860674, 0.19841544, ..., 0.03720682, 0.0765496 ,\n",
       "        0.03202945],\n",
       "       [0.17484711, 0.03882878, 0.24690397, ..., 0.17546467, 0.12870386,\n",
       "        0.04300007],\n",
       "       ...,\n",
       "       [0.17382243, 0.20030782, 0.19199577, ..., 0.12515885, 0.10876734,\n",
       "        0.07826729],\n",
       "       [0.13739115, 0.49594077, 0.12569834, ..., 0.06451758, 0.06060459,\n",
       "        0.04296693],\n",
       "       [0.13739115, 0.49594077, 0.12569834, ..., 0.06451758, 0.06060459,\n",
       "        0.04296693]], dtype=float32)"
      ]
     },
     "execution_count": 259,
     "metadata": {},
     "output_type": "execute_result"
    }
   ],
   "source": [
    "preds"
   ]
  },
  {
   "cell_type": "code",
   "execution_count": 260,
   "id": "7cabbbd2",
   "metadata": {},
   "outputs": [],
   "source": [
    "predicted_labels = np.argmax(preds, axis=1)\n"
   ]
  },
  {
   "cell_type": "code",
   "execution_count": 261,
   "id": "ba53c27d",
   "metadata": {},
   "outputs": [
    {
     "data": {
      "text/plain": [
       "array([1, 2, 0, 6, 5, 3, 4], dtype=int64)"
      ]
     },
     "execution_count": 261,
     "metadata": {},
     "output_type": "execute_result"
    }
   ],
   "source": [
    "pd.DataFrame(predicted_labels)[0].unique()"
   ]
  },
  {
   "cell_type": "code",
   "execution_count": 262,
   "id": "86f63daa",
   "metadata": {},
   "outputs": [
    {
     "name": "stdout",
     "output_type": "stream",
     "text": [
      "Accuracy: 0.4076284651641709\n"
     ]
    }
   ],
   "source": [
    "actual_labels = test_data_pd['FIRE_SIZE_CLASS_Index'].values\n",
    "accuracy = np.mean(predicted_labels == actual_labels)\n",
    "print(\"Accuracy:\", accuracy)\n"
   ]
  },
  {
   "cell_type": "code",
   "execution_count": 263,
   "id": "8a06bebb",
   "metadata": {},
   "outputs": [
    {
     "name": "stdout",
     "output_type": "stream",
     "text": [
      "              precision    recall  f1-score   support\n",
      "\n",
      "         0.0       0.65      0.39      0.48    281503\n",
      "         1.0       0.57      0.48      0.52    199552\n",
      "         2.0       0.24      0.34      0.28     65993\n",
      "         3.0       0.04      0.13      0.06      8603\n",
      "         4.0       0.02      0.17      0.04      4245\n",
      "         5.0       0.01      0.18      0.03      2261\n",
      "         6.0       0.01      0.56      0.03      1128\n",
      "\n",
      "    accuracy                           0.41    563285\n",
      "   macro avg       0.22      0.32      0.21    563285\n",
      "weighted avg       0.55      0.41      0.46    563285\n",
      "\n"
     ]
    }
   ],
   "source": [
    "from sklearn.metrics import classification_report\n",
    "\n",
    "# Assuming 'actual_labels' and 'predicted_labels' are defined as mentioned before\n",
    "\n",
    "# Calculate classification metrics\n",
    "classification_metrics = classification_report(actual_labels, predicted_labels)\n",
    "\n",
    "print(classification_metrics)\n"
   ]
  },
  {
   "cell_type": "code",
   "execution_count": 264,
   "id": "a3effedd",
   "metadata": {},
   "outputs": [],
   "source": [
    "# undersampling"
   ]
  },
  {
   "cell_type": "code",
   "execution_count": 265,
   "id": "50db781e",
   "metadata": {},
   "outputs": [],
   "source": [
    "from imblearn.under_sampling import RandomUnderSampler\n",
    "\n",
    "# Assuming X_train and y_train are your training data and labels\n",
    "undersampler = RandomUnderSampler(random_state=42)\n",
    "X_train_resampled, y_train_resampled = undersampler.fit_resample(train_data_pd.drop('FIRE_SIZE_CLASS_Index', axis=1), train_data_pd['FIRE_SIZE_CLASS_Index'])\n",
    "\n"
   ]
  },
  {
   "cell_type": "code",
   "execution_count": 266,
   "id": "7c2c39e7",
   "metadata": {},
   "outputs": [],
   "source": [
    "xgb_model = xgb.train(dtrain=xgb.DMatrix(X_train_resampled, label=y_train_resampled), params=xgb_params)\n"
   ]
  },
  {
   "cell_type": "code",
   "execution_count": 267,
   "id": "f193dc1e",
   "metadata": {},
   "outputs": [],
   "source": [
    "preds = xgb_model.predict(dtest)"
   ]
  },
  {
   "cell_type": "code",
   "execution_count": 268,
   "id": "94b83fd9",
   "metadata": {},
   "outputs": [
    {
     "data": {
      "text/plain": [
       "array([[0.15684113, 0.587511  , 0.10131647, ..., 0.03031198, 0.03583759,\n",
       "        0.05784845],\n",
       "       [0.15684113, 0.587511  , 0.10131647, ..., 0.03031198, 0.03583759,\n",
       "        0.05784845],\n",
       "       [0.12767947, 0.0422201 , 0.20776473, ..., 0.26379922, 0.08635253,\n",
       "        0.118627  ],\n",
       "       ...,\n",
       "       [0.13499145, 0.10543333, 0.1201452 , ..., 0.23287192, 0.22661686,\n",
       "        0.11704498],\n",
       "       [0.12364959, 0.27666864, 0.11207493, ..., 0.10776737, 0.12099467,\n",
       "        0.11387509],\n",
       "       [0.12364959, 0.27666864, 0.11207493, ..., 0.10776737, 0.12099467,\n",
       "        0.11387509]], dtype=float32)"
      ]
     },
     "execution_count": 268,
     "metadata": {},
     "output_type": "execute_result"
    }
   ],
   "source": [
    "preds"
   ]
  },
  {
   "cell_type": "code",
   "execution_count": 270,
   "id": "9bf9a98a",
   "metadata": {},
   "outputs": [
    {
     "name": "stdout",
     "output_type": "stream",
     "text": [
      "Accuracy: 0.36222693663065764\n"
     ]
    }
   ],
   "source": [
    "predicted_labels = np.argmax(preds, axis=1)\n",
    "\n",
    "actual_labels = test_data_pd['FIRE_SIZE_CLASS_Index'].values\n",
    "accuracy = np.mean(predicted_labels == actual_labels)\n",
    "print(\"Accuracy:\", accuracy)\n"
   ]
  },
  {
   "cell_type": "code",
   "execution_count": 271,
   "id": "367c6ac9",
   "metadata": {},
   "outputs": [
    {
     "name": "stdout",
     "output_type": "stream",
     "text": [
      "              precision    recall  f1-score   support\n",
      "\n",
      "         0.0       0.64      0.33      0.44    281503\n",
      "         1.0       0.58      0.43      0.49    199552\n",
      "         2.0       0.23      0.34      0.27     65993\n",
      "         3.0       0.03      0.15      0.05      8603\n",
      "         4.0       0.02      0.18      0.03      4245\n",
      "         5.0       0.01      0.18      0.02      2261\n",
      "         6.0       0.01      0.59      0.03      1128\n",
      "\n",
      "    accuracy                           0.36    563285\n",
      "   macro avg       0.22      0.31      0.19    563285\n",
      "weighted avg       0.55      0.36      0.43    563285\n",
      "\n"
     ]
    }
   ],
   "source": [
    "from sklearn.metrics import classification_report\n",
    "\n",
    "# Assuming 'actual_labels' and 'predicted_labels' are defined as mentioned before\n",
    "\n",
    "# Calculate classification metrics\n",
    "classification_metrics = classification_report(actual_labels, predicted_labels)\n",
    "\n",
    "print(classification_metrics)\n"
   ]
  },
  {
   "cell_type": "code",
   "execution_count": null,
   "id": "d9f367ce",
   "metadata": {},
   "outputs": [],
   "source": []
  }
 ],
 "metadata": {
  "kernelspec": {
   "display_name": "Python 3 (ipykernel)",
   "language": "python",
   "name": "python3"
  },
  "language_info": {
   "codemirror_mode": {
    "name": "ipython",
    "version": 3
   },
   "file_extension": ".py",
   "mimetype": "text/x-python",
   "name": "python",
   "nbconvert_exporter": "python",
   "pygments_lexer": "ipython3",
   "version": "3.11.3"
  },
  "varInspector": {
   "cols": {
    "lenName": 16,
    "lenType": 16,
    "lenVar": 40
   },
   "kernels_config": {
    "python": {
     "delete_cmd_postfix": "",
     "delete_cmd_prefix": "del ",
     "library": "var_list.py",
     "varRefreshCmd": "print(var_dic_list())"
    },
    "r": {
     "delete_cmd_postfix": ") ",
     "delete_cmd_prefix": "rm(",
     "library": "var_list.r",
     "varRefreshCmd": "cat(var_dic_list()) "
    }
   },
   "types_to_exclude": [
    "module",
    "function",
    "builtin_function_or_method",
    "instance",
    "_Feature"
   ],
   "window_display": false
  }
 },
 "nbformat": 4,
 "nbformat_minor": 5
}
