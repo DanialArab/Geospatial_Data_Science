{
 "cells": [
  {
   "cell_type": "code",
   "execution_count": 2,
   "id": "b02de7aa",
   "metadata": {},
   "outputs": [],
   "source": [
    "import findspark"
   ]
  },
  {
   "cell_type": "code",
   "execution_count": 3,
   "id": "b92eac20",
   "metadata": {},
   "outputs": [],
   "source": [
    "spark = findspark.init('/home/danial/spark-3.4.0-bin-hadoop3')"
   ]
  },
  {
   "cell_type": "code",
   "execution_count": 4,
   "id": "cb37c020",
   "metadata": {},
   "outputs": [],
   "source": [
    "from pyspark.ml.classification import LogisticRegression\n",
    "from pyspark.ml.evaluation import (BinaryClassificationEvaluator,\n",
    "                                    MulticlassClassificationEvaluator)\n",
    "from pyspark.ml.feature import (StringIndexer, VectorAssembler,\n",
    "                               OneHotEncoder)\n",
    "from pyspark.sql.session import SparkSession\n",
    "from pyspark.ml import Pipeline\n",
    "from pyspark.sql.functions import col, sum"
   ]
  },
  {
   "cell_type": "code",
   "execution_count": 5,
   "id": "cce231fb",
   "metadata": {},
   "outputs": [
    {
     "name": "stderr",
     "output_type": "stream",
     "text": [
      "23/06/13 09:56:40 WARN Utils: Your hostname, danial-VirtualBox resolves to a loopback address: 127.0.1.1; using 10.0.2.15 instead (on interface enp0s3)\n",
      "23/06/13 09:56:40 WARN Utils: Set SPARK_LOCAL_IP if you need to bind to another address\n"
     ]
    },
    {
     "name": "stdout",
     "output_type": "stream",
     "text": [
      ":: loading settings :: url = jar:file:/home/danial/spark-3.4.0-bin-hadoop3/jars/ivy-2.5.1.jar!/org/apache/ivy/core/settings/ivysettings.xml\n"
     ]
    },
    {
     "name": "stderr",
     "output_type": "stream",
     "text": [
      "Ivy Default Cache set to: /home/danial/.ivy2/cache\n",
      "The jars for the packages stored in: /home/danial/.ivy2/jars\n",
      "org.xerial#sqlite-jdbc added as a dependency\n",
      ":: resolving dependencies :: org.apache.spark#spark-submit-parent-45cabfb1-cbed-4302-b8c3-4c37f06ae5e5;1.0\n",
      "\tconfs: [default]\n",
      "\tfound org.xerial#sqlite-jdbc;3.42.0.0 in central\n",
      ":: resolution report :: resolve 192ms :: artifacts dl 5ms\n",
      "\t:: modules in use:\n",
      "\torg.xerial#sqlite-jdbc;3.42.0.0 from central in [default]\n",
      "\t---------------------------------------------------------------------\n",
      "\t|                  |            modules            ||   artifacts   |\n",
      "\t|       conf       | number| search|dwnlded|evicted|| number|dwnlded|\n",
      "\t---------------------------------------------------------------------\n",
      "\t|      default     |   1   |   0   |   0   |   0   ||   1   |   0   |\n",
      "\t---------------------------------------------------------------------\n",
      ":: retrieving :: org.apache.spark#spark-submit-parent-45cabfb1-cbed-4302-b8c3-4c37f06ae5e5\n",
      "\tconfs: [default]\n",
      "\t0 artifacts copied, 1 already retrieved (0kB/5ms)\n",
      "23/06/13 09:56:41 WARN NativeCodeLoader: Unable to load native-hadoop library for your platform... using builtin-java classes where applicable\n",
      "Setting default log level to \"WARN\".\n",
      "To adjust logging level use sc.setLogLevel(newLevel). For SparkR, use setLogLevel(newLevel).\n"
     ]
    }
   ],
   "source": [
    "spark = SparkSession.builder.config('spark.jars.packages', 'org.xerial:sqlite-jdbc:3.42.0.0').getOrCreate()"
   ]
  },
  {
   "cell_type": "code",
   "execution_count": 6,
   "id": "cf4ee08c",
   "metadata": {},
   "outputs": [],
   "source": [
    "df_spark = spark.read.format('jdbc').options(driver='org.sqlite.JDBC', \\\n",
    "                                             inferSchema = True,\\\n",
    "                                             header = True,\\\n",
    "                                             dbtable = 'fires',\\\n",
    "                                             url= 'jdbc:sqlite:/home/danial/Desktop/mygis/Geospatial_Data_Science/My GIS Projects/data/3.1.88_M_US_Wildfires/FPA_FOD_20170508.sqlite').load()\n"
   ]
  },
  {
   "cell_type": "code",
   "execution_count": 56,
   "id": "92f61ea2",
   "metadata": {},
   "outputs": [
    {
     "name": "stdout",
     "output_type": "stream",
     "text": [
      "root\n",
      " |-- OBJECTID: integer (nullable = true)\n",
      " |-- FOD_ID: decimal(38,18) (nullable = true)\n",
      " |-- FPA_ID: string (nullable = true)\n",
      " |-- SOURCE_SYSTEM_TYPE: string (nullable = true)\n",
      " |-- SOURCE_SYSTEM: string (nullable = true)\n",
      " |-- NWCG_REPORTING_AGENCY: string (nullable = true)\n",
      " |-- NWCG_REPORTING_UNIT_ID: string (nullable = true)\n",
      " |-- NWCG_REPORTING_UNIT_NAME: string (nullable = true)\n",
      " |-- SOURCE_REPORTING_UNIT: string (nullable = true)\n",
      " |-- SOURCE_REPORTING_UNIT_NAME: string (nullable = true)\n",
      " |-- LOCAL_FIRE_REPORT_ID: string (nullable = true)\n",
      " |-- LOCAL_INCIDENT_ID: string (nullable = true)\n",
      " |-- FIRE_CODE: string (nullable = true)\n",
      " |-- FIRE_NAME: string (nullable = true)\n",
      " |-- ICS_209_INCIDENT_NUMBER: string (nullable = true)\n",
      " |-- ICS_209_NAME: string (nullable = true)\n",
      " |-- MTBS_ID: string (nullable = true)\n",
      " |-- MTBS_FIRE_NAME: string (nullable = true)\n",
      " |-- COMPLEX_NAME: string (nullable = true)\n",
      " |-- FIRE_YEAR: decimal(38,18) (nullable = true)\n",
      " |-- DISCOVERY_DATE: decimal(38,18) (nullable = true)\n",
      " |-- DISCOVERY_DOY: decimal(38,18) (nullable = true)\n",
      " |-- DISCOVERY_TIME: string (nullable = true)\n",
      " |-- STAT_CAUSE_CODE: decimal(38,18) (nullable = true)\n",
      " |-- STAT_CAUSE_DESCR: string (nullable = true)\n",
      " |-- CONT_DATE: decimal(38,18) (nullable = true)\n",
      " |-- CONT_DOY: decimal(38,18) (nullable = true)\n",
      " |-- CONT_TIME: string (nullable = true)\n",
      " |-- FIRE_SIZE: decimal(38,18) (nullable = true)\n",
      " |-- FIRE_SIZE_CLASS: string (nullable = true)\n",
      " |-- LATITUDE: decimal(38,18) (nullable = true)\n",
      " |-- LONGITUDE: decimal(38,18) (nullable = true)\n",
      " |-- OWNER_CODE: decimal(38,18) (nullable = true)\n",
      " |-- OWNER_DESCR: string (nullable = true)\n",
      " |-- STATE: string (nullable = true)\n",
      " |-- COUNTY: string (nullable = true)\n",
      " |-- FIPS_CODE: string (nullable = true)\n",
      " |-- FIPS_NAME: string (nullable = true)\n",
      " |-- Shape: decimal(38,18) (nullable = true)\n",
      "\n"
     ]
    }
   ],
   "source": [
    "df_spark.printSchema()"
   ]
  },
  {
   "cell_type": "code",
   "execution_count": 7,
   "id": "08adeeb7",
   "metadata": {},
   "outputs": [
    {
     "name": "stdout",
     "output_type": "stream",
     "text": [
      "root\n",
      " |-- LONGITUDE: decimal(38,18) (nullable = true)\n",
      " |-- LATITUDE: decimal(38,18) (nullable = true)\n",
      " |-- FIRE_SIZE: decimal(38,18) (nullable = true)\n",
      " |-- FIRE_SIZE_CLASS: string (nullable = true)\n",
      " |-- STATE: string (nullable = true)\n",
      " |-- FIRE_YEAR: decimal(38,18) (nullable = true)\n",
      " |-- DISCOVERY_DOY: decimal(38,18) (nullable = true)\n",
      " |-- CONT_DOY: decimal(38,18) (nullable = true)\n",
      " |-- STAT_CAUSE_DESCR: string (nullable = true)\n",
      " |-- STAT_CAUSE_CODE: decimal(38,18) (nullable = true)\n",
      " |-- DISCOVERY_TIME: string (nullable = true)\n",
      " |-- CONT_TIME: string (nullable = true)\n",
      "\n"
     ]
    }
   ],
   "source": [
    "df = df_spark.select('LONGITUDE', 'LATITUDE','FIRE_SIZE', 'FIRE_SIZE_CLASS',\\\n",
    "               'STATE','FIRE_YEAR', 'DISCOVERY_DOY', 'CONT_DOY',\\\n",
    "                'STAT_CAUSE_DESCR', 'STAT_CAUSE_CODE','DISCOVERY_TIME', 'CONT_TIME'\\\n",
    "               )\n",
    "df.printSchema()"
   ]
  },
  {
   "cell_type": "code",
   "execution_count": 59,
   "id": "86913c93",
   "metadata": {},
   "outputs": [
    {
     "name": "stderr",
     "output_type": "stream",
     "text": [
      "\r",
      "[Stage 28:>                                                         (0 + 1) / 1]\r"
     ]
    },
    {
     "name": "stdout",
     "output_type": "stream",
     "text": [
      "+--------------------+\n",
      "|     STAT_CAUSE_CODE|\n",
      "+--------------------+\n",
      "|1.000000000000000000|\n",
      "|3.000000000000000000|\n",
      "|12.00000000000000...|\n",
      "|4.000000000000000000|\n",
      "|10.00000000000000...|\n",
      "|11.00000000000000...|\n",
      "|2.000000000000000000|\n",
      "|13.00000000000000...|\n",
      "|9.000000000000000000|\n",
      "|8.000000000000000000|\n",
      "|6.000000000000000000|\n",
      "|7.000000000000000000|\n",
      "|5.000000000000000000|\n",
      "+--------------------+\n",
      "\n"
     ]
    },
    {
     "name": "stderr",
     "output_type": "stream",
     "text": [
      "\r",
      "                                                                                \r"
     ]
    }
   ],
   "source": [
    "df_spark.select('STAT_CAUSE_CODE').distinct().show()"
   ]
  },
  {
   "cell_type": "code",
   "execution_count": 8,
   "id": "cea34fed",
   "metadata": {},
   "outputs": [],
   "source": [
    "df = df.withColumn(\"FIRE_YEAR\", df.FIRE_YEAR.cast(\"integer\"))\n",
    "df = df.withColumn(\"DISCOVERY_DOY\", df.DISCOVERY_DOY.cast(\"integer\"))\n",
    "df = df.withColumn(\"CONT_DOY\", df.CONT_DOY.cast(\"integer\"))\n",
    "df = df.withColumn(\"STAT_CAUSE_CODE\", df.STAT_CAUSE_CODE.cast(\"integer\"))\n"
   ]
  },
  {
   "cell_type": "code",
   "execution_count": 70,
   "id": "33bb30d4",
   "metadata": {},
   "outputs": [
    {
     "name": "stdout",
     "output_type": "stream",
     "text": [
      "+-----+---------+-------------+--------+----------------+---------------+--------------+---------+\n",
      "|STATE|FIRE_YEAR|DISCOVERY_DOY|CONT_DOY|STAT_CAUSE_DESCR|STAT_CAUSE_CODE|DISCOVERY_TIME|CONT_TIME|\n",
      "+-----+---------+-------------+--------+----------------+---------------+--------------+---------+\n",
      "|   CA|     2005|           33|      33|   Miscellaneous|              9|          1300|     1730|\n",
      "|   CA|     2004|          133|     133|       Lightning|              1|          0845|     1530|\n",
      "|   CA|     2004|          152|     152|  Debris Burning|              5|          1921|     2024|\n",
      "|   CA|     2004|          180|     185|       Lightning|              1|          1600|     1400|\n",
      "|   CA|     2004|          180|     185|       Lightning|              1|          1600|     1200|\n",
      "|   CA|     2004|          182|     183|       Lightning|              1|          1800|     1600|\n",
      "|   CA|     2004|          183|     184|       Lightning|              1|          1800|     1400|\n",
      "|   CA|     2005|           67|      67|  Debris Burning|              5|          1300|     1600|\n",
      "|   CA|     2005|           74|      74|  Debris Burning|              5|          1200|     1700|\n",
      "|   CA|     2004|          183|     184|       Lightning|              1|          1800|     1800|\n",
      "|   CA|     2004|          184|     185|       Lightning|              1|          1830|     1900|\n",
      "|   CA|     2004|          184|     185|       Lightning|              1|          1730|     2000|\n",
      "|   CA|     2004|          247|     247|   Miscellaneous|              9|          1600|     1630|\n",
      "|   CA|     2004|          272|     272|        Campfire|              4|          1200|     1800|\n",
      "|   CA|     2004|          277|     277|       Lightning|              1|          0630|     1500|\n",
      "|   CA|     2004|          277|     277|       Lightning|              1|          0930|     1400|\n",
      "|   CA|     2004|          280|     295|   Equipment Use|              2|          1415|     1000|\n",
      "|   CA|     2004|          287|     291|   Equipment Use|              2|          1618|     1800|\n",
      "|   CA|     2004|          325|     326|  Debris Burning|              5|          2000|     1630|\n",
      "|   NM|     2004|          156|     156|       Lightning|              1|          1030|     1400|\n",
      "+-----+---------+-------------+--------+----------------+---------------+--------------+---------+\n",
      "only showing top 20 rows\n",
      "\n"
     ]
    }
   ],
   "source": [
    "df.select('STATE','FIRE_YEAR', 'DISCOVERY_DOY', 'CONT_DOY',\\\n",
    "                'STAT_CAUSE_DESCR', 'STAT_CAUSE_CODE','DISCOVERY_TIME', 'CONT_TIME').show()\n",
    "\n"
   ]
  },
  {
   "cell_type": "code",
   "execution_count": 71,
   "id": "77a6fb3b",
   "metadata": {},
   "outputs": [
    {
     "name": "stdout",
     "output_type": "stream",
     "text": [
      "+--------------------+--------------------+--------------------+---------------+\n",
      "|           LONGITUDE|            LATITUDE|           FIRE_SIZE|FIRE_SIZE_CLASS|\n",
      "+--------------------+--------------------+--------------------+---------------+\n",
      "|-121.005833330000...|40.03694444000000...|0.100000000000000000|              A|\n",
      "|-120.404444440000...|38.93305556000000...|0.250000000000000000|              A|\n",
      "|-120.735555560000...|38.98416667000000...|0.100000000000000000|              A|\n",
      "|-119.913333330000...|38.55916667000000...|0.100000000000000000|              A|\n",
      "|-119.933055560000...|38.55916667000000...|0.100000000000000000|              A|\n",
      "|-120.103611110000...|38.63527778000000...|0.100000000000000000|              A|\n",
      "|-120.153333330000...|38.68833333000000...|0.100000000000000000|              A|\n",
      "|-122.433888890000...|40.96805556000000...|0.800000000000000000|              B|\n",
      "|-122.283333330000...|41.23361111000000...|1.000000000000000000|              B|\n",
      "|-120.149166670000...|38.54833333000000...|0.100000000000000000|              A|\n",
      "|-120.159722220000...|38.69166667000000...|0.100000000000000000|              A|\n",
      "|-120.106111110000...|38.52750000000000...|0.100000000000000000|              A|\n",
      "|-120.193333330000...|38.78666667000000...|0.100000000000000000|              A|\n",
      "|-120.510000000000...|38.43333333000000...|6.000000000000000000|              B|\n",
      "|-120.279722220000...|38.67583333000000...|0.200000000000000000|              A|\n",
      "|-120.542222220000...|38.56416667000000...|0.100000000000000000|              A|\n",
      "|-120.211666670000...|38.52333333000000...|16823.00000000000...|              G|\n",
      "|-120.260000000000...|38.78000000000000...|7700.000000000000...|              G|\n",
      "|-120.411666670000...|38.94500000000000...|0.100000000000000000|              A|\n",
      "|-105.720555560000...|33.44083333000000...|0.100000000000000000|              A|\n",
      "+--------------------+--------------------+--------------------+---------------+\n",
      "only showing top 20 rows\n",
      "\n"
     ]
    }
   ],
   "source": [
    "df_spark.select('LONGITUDE', 'LATITUDE','FIRE_SIZE', 'FIRE_SIZE_CLASS').show()\n"
   ]
  },
  {
   "cell_type": "code",
   "execution_count": 73,
   "id": "6c5a347b",
   "metadata": {
    "scrolled": true
   },
   "outputs": [
    {
     "name": "stdout",
     "output_type": "stream",
     "text": [
      "root\n",
      " |-- LONGITUDE: decimal(38,18) (nullable = true)\n",
      " |-- LATITUDE: decimal(38,18) (nullable = true)\n",
      " |-- FIRE_SIZE: decimal(38,18) (nullable = true)\n",
      " |-- FIRE_SIZE_CLASS: string (nullable = true)\n",
      " |-- STATE: string (nullable = true)\n",
      " |-- FIRE_YEAR: integer (nullable = true)\n",
      " |-- DISCOVERY_DOY: integer (nullable = true)\n",
      " |-- CONT_DOY: integer (nullable = true)\n",
      " |-- STAT_CAUSE_DESCR: string (nullable = true)\n",
      " |-- STAT_CAUSE_CODE: integer (nullable = true)\n",
      " |-- DISCOVERY_TIME: string (nullable = true)\n",
      " |-- CONT_TIME: string (nullable = true)\n",
      "\n"
     ]
    }
   ],
   "source": [
    "df.printSchema()"
   ]
  },
  {
   "cell_type": "markdown",
   "id": "c8832ecb",
   "metadata": {},
   "source": [
    "# Let's see the task as a classification task\n",
    "\n",
    "+ meaning I will choose the fire size class as the target variable rather the the fire size in acres.\n",
    "+ I chose STAT_CAUSE_CODE rather than STAT_CAUSE_DESCR, so I will not need to perform encoding. at least for this attribute\n",
    "+ For now, I will exclude DISCOVERY_TIME and CONT_TIME\n",
    "+ I will keep DISCOVERY_DOY becasue it may be useful in terms of predicting fire size like the day of the year the fire occured may be related to the size of fire like in terms of weather temperature\n",
    "+ I will keep CONT_DOY becasue it may be useful in terms of predicting fire size like the larger the fire the more time it may take to control the fire\n"
   ]
  },
  {
   "cell_type": "code",
   "execution_count": 9,
   "id": "45a200cf",
   "metadata": {},
   "outputs": [],
   "source": [
    "my_df = df.select('LONGITUDE', 'LATITUDE', 'FIRE_SIZE_CLASS',\\\n",
    "               'STATE','FIRE_YEAR', 'DISCOVERY_DOY', 'CONT_DOY',\\\n",
    "                'STAT_CAUSE_CODE'\\\n",
    "               )"
   ]
  },
  {
   "cell_type": "code",
   "execution_count": 10,
   "id": "f45c08a6",
   "metadata": {
    "scrolled": false
   },
   "outputs": [
    {
     "name": "stdout",
     "output_type": "stream",
     "text": [
      "+--------------------+--------------------+---------------+-----+---------+-------------+--------+---------------+\n",
      "|           LONGITUDE|            LATITUDE|FIRE_SIZE_CLASS|STATE|FIRE_YEAR|DISCOVERY_DOY|CONT_DOY|STAT_CAUSE_CODE|\n",
      "+--------------------+--------------------+---------------+-----+---------+-------------+--------+---------------+\n",
      "|-121.005833330000...|40.03694444000000...|              A|   CA|     2005|           33|      33|              9|\n",
      "|-120.404444440000...|38.93305556000000...|              A|   CA|     2004|          133|     133|              1|\n",
      "|-120.735555560000...|38.98416667000000...|              A|   CA|     2004|          152|     152|              5|\n",
      "|-119.913333330000...|38.55916667000000...|              A|   CA|     2004|          180|     185|              1|\n",
      "|-119.933055560000...|38.55916667000000...|              A|   CA|     2004|          180|     185|              1|\n",
      "|-120.103611110000...|38.63527778000000...|              A|   CA|     2004|          182|     183|              1|\n",
      "|-120.153333330000...|38.68833333000000...|              A|   CA|     2004|          183|     184|              1|\n",
      "|-122.433888890000...|40.96805556000000...|              B|   CA|     2005|           67|      67|              5|\n",
      "|-122.283333330000...|41.23361111000000...|              B|   CA|     2005|           74|      74|              5|\n",
      "|-120.149166670000...|38.54833333000000...|              A|   CA|     2004|          183|     184|              1|\n",
      "|-120.159722220000...|38.69166667000000...|              A|   CA|     2004|          184|     185|              1|\n",
      "|-120.106111110000...|38.52750000000000...|              A|   CA|     2004|          184|     185|              1|\n",
      "|-120.193333330000...|38.78666667000000...|              A|   CA|     2004|          247|     247|              9|\n",
      "|-120.510000000000...|38.43333333000000...|              B|   CA|     2004|          272|     272|              4|\n",
      "|-120.279722220000...|38.67583333000000...|              A|   CA|     2004|          277|     277|              1|\n",
      "|-120.542222220000...|38.56416667000000...|              A|   CA|     2004|          277|     277|              1|\n",
      "|-120.211666670000...|38.52333333000000...|              G|   CA|     2004|          280|     295|              2|\n",
      "|-120.260000000000...|38.78000000000000...|              G|   CA|     2004|          287|     291|              2|\n",
      "|-120.411666670000...|38.94500000000000...|              A|   CA|     2004|          325|     326|              5|\n",
      "|-105.720555560000...|33.44083333000000...|              A|   NM|     2004|          156|     156|              1|\n",
      "+--------------------+--------------------+---------------+-----+---------+-------------+--------+---------------+\n",
      "only showing top 20 rows\n",
      "\n"
     ]
    }
   ],
   "source": [
    "my_df.show()"
   ]
  },
  {
   "cell_type": "code",
   "execution_count": 120,
   "id": "8bae6773",
   "metadata": {},
   "outputs": [
    {
     "name": "stdout",
     "output_type": "stream",
     "text": [
      "root\n",
      " |-- LONGITUDE: decimal(38,18) (nullable = true)\n",
      " |-- LATITUDE: decimal(38,18) (nullable = true)\n",
      " |-- FIRE_SIZE_CLASS: string (nullable = true)\n",
      " |-- STATE: string (nullable = true)\n",
      " |-- FIRE_YEAR: integer (nullable = true)\n",
      " |-- DISCOVERY_DOY: integer (nullable = true)\n",
      " |-- CONT_DOY: integer (nullable = true)\n",
      " |-- STAT_CAUSE_CODE: integer (nullable = true)\n",
      "\n"
     ]
    }
   ],
   "source": [
    "my_df.printSchema()"
   ]
  },
  {
   "cell_type": "code",
   "execution_count": 121,
   "id": "a4384b9b",
   "metadata": {},
   "outputs": [
    {
     "name": "stderr",
     "output_type": "stream",
     "text": [
      "\r",
      "[Stage 81:>                                                         (0 + 1) / 1]\r"
     ]
    },
    {
     "name": "stdout",
     "output_type": "stream",
     "text": [
      "+---------------+\n",
      "|FIRE_SIZE_CLASS|\n",
      "+---------------+\n",
      "|              F|\n",
      "|              E|\n",
      "|              B|\n",
      "|              D|\n",
      "|              C|\n",
      "|              A|\n",
      "|              G|\n",
      "+---------------+\n",
      "\n"
     ]
    },
    {
     "name": "stderr",
     "output_type": "stream",
     "text": [
      "\r",
      "                                                                                \r"
     ]
    }
   ],
   "source": [
    "my_df.select('FIRE_SIZE_CLASS').distinct().show()"
   ]
  },
  {
   "cell_type": "code",
   "execution_count": 122,
   "id": "12bfafd8",
   "metadata": {},
   "outputs": [
    {
     "name": "stderr",
     "output_type": "stream",
     "text": [
      "\r",
      "[Stage 84:>                                                         (0 + 1) / 1]\r"
     ]
    },
    {
     "name": "stdout",
     "output_type": "stream",
     "text": [
      "+---------+--------+---------------+-----+---------+-------------+--------+---------------+\n",
      "|LONGITUDE|LATITUDE|FIRE_SIZE_CLASS|STATE|FIRE_YEAR|DISCOVERY_DOY|CONT_DOY|STAT_CAUSE_CODE|\n",
      "+---------+--------+---------------+-----+---------+-------------+--------+---------------+\n",
      "|        0|       0|              0|    0|        0|            0|  891531|              0|\n",
      "+---------+--------+---------------+-----+---------+-------------+--------+---------------+\n",
      "\n"
     ]
    },
    {
     "name": "stderr",
     "output_type": "stream",
     "text": [
      "\r",
      "                                                                                \r"
     ]
    }
   ],
   "source": [
    "null_counts = my_df.select([sum(col(c).isNull().cast(\"int\")).alias(c) for c in my_df.columns])\n",
    "\n",
    "null_counts.show()\n"
   ]
  },
  {
   "cell_type": "markdown",
   "id": "c6b6d535",
   "metadata": {},
   "source": [
    "# SO for now let's exclude CONT_DOY column which contains null values\n",
    "\n",
    "later I will retrain the model using these column where dropping the null vals"
   ]
  },
  {
   "cell_type": "code",
   "execution_count": 11,
   "id": "b8f585e9",
   "metadata": {},
   "outputs": [],
   "source": [
    "df_final = df.select('LONGITUDE', 'LATITUDE', 'FIRE_SIZE_CLASS',\\\n",
    "               'STATE','FIRE_YEAR', 'DISCOVERY_DOY',\\\n",
    "                'STAT_CAUSE_CODE'\\\n",
    "               )"
   ]
  },
  {
   "cell_type": "code",
   "execution_count": 12,
   "id": "e66caab4",
   "metadata": {
    "scrolled": false
   },
   "outputs": [
    {
     "name": "stdout",
     "output_type": "stream",
     "text": [
      "+--------------------+--------------------+---------------+-----+---------+-------------+---------------+\n",
      "|           LONGITUDE|            LATITUDE|FIRE_SIZE_CLASS|STATE|FIRE_YEAR|DISCOVERY_DOY|STAT_CAUSE_CODE|\n",
      "+--------------------+--------------------+---------------+-----+---------+-------------+---------------+\n",
      "|-121.005833330000...|40.03694444000000...|              A|   CA|     2005|           33|              9|\n",
      "|-120.404444440000...|38.93305556000000...|              A|   CA|     2004|          133|              1|\n",
      "|-120.735555560000...|38.98416667000000...|              A|   CA|     2004|          152|              5|\n",
      "|-119.913333330000...|38.55916667000000...|              A|   CA|     2004|          180|              1|\n",
      "|-119.933055560000...|38.55916667000000...|              A|   CA|     2004|          180|              1|\n",
      "|-120.103611110000...|38.63527778000000...|              A|   CA|     2004|          182|              1|\n",
      "|-120.153333330000...|38.68833333000000...|              A|   CA|     2004|          183|              1|\n",
      "|-122.433888890000...|40.96805556000000...|              B|   CA|     2005|           67|              5|\n",
      "|-122.283333330000...|41.23361111000000...|              B|   CA|     2005|           74|              5|\n",
      "|-120.149166670000...|38.54833333000000...|              A|   CA|     2004|          183|              1|\n",
      "|-120.159722220000...|38.69166667000000...|              A|   CA|     2004|          184|              1|\n",
      "|-120.106111110000...|38.52750000000000...|              A|   CA|     2004|          184|              1|\n",
      "|-120.193333330000...|38.78666667000000...|              A|   CA|     2004|          247|              9|\n",
      "|-120.510000000000...|38.43333333000000...|              B|   CA|     2004|          272|              4|\n",
      "|-120.279722220000...|38.67583333000000...|              A|   CA|     2004|          277|              1|\n",
      "|-120.542222220000...|38.56416667000000...|              A|   CA|     2004|          277|              1|\n",
      "|-120.211666670000...|38.52333333000000...|              G|   CA|     2004|          280|              2|\n",
      "|-120.260000000000...|38.78000000000000...|              G|   CA|     2004|          287|              2|\n",
      "|-120.411666670000...|38.94500000000000...|              A|   CA|     2004|          325|              5|\n",
      "|-105.720555560000...|33.44083333000000...|              A|   NM|     2004|          156|              1|\n",
      "+--------------------+--------------------+---------------+-----+---------+-------------+---------------+\n",
      "only showing top 20 rows\n",
      "\n"
     ]
    }
   ],
   "source": [
    "df_final.show()"
   ]
  },
  {
   "cell_type": "code",
   "execution_count": 14,
   "id": "e171b515",
   "metadata": {},
   "outputs": [
    {
     "name": "stderr",
     "output_type": "stream",
     "text": [
      "                                                                                \r"
     ]
    },
    {
     "data": {
      "text/plain": [
       "[Row(LONGITUDE=Decimal('-121.005833330000000000'), LATITUDE=Decimal('40.036944440000000000'), FIRE_SIZE_CLASS='A', STATE='CA', FIRE_YEAR=2005, DISCOVERY_DOY=33, STAT_CAUSE_CODE=9, STATE_Index=0.0),\n",
       " Row(LONGITUDE=Decimal('-120.404444440000000000'), LATITUDE=Decimal('38.933055560000000000'), FIRE_SIZE_CLASS='A', STATE='CA', FIRE_YEAR=2004, DISCOVERY_DOY=133, STAT_CAUSE_CODE=1, STATE_Index=0.0),\n",
       " Row(LONGITUDE=Decimal('-120.735555560000000000'), LATITUDE=Decimal('38.984166670000000000'), FIRE_SIZE_CLASS='A', STATE='CA', FIRE_YEAR=2004, DISCOVERY_DOY=152, STAT_CAUSE_CODE=5, STATE_Index=0.0)]"
      ]
     },
     "execution_count": 14,
     "metadata": {},
     "output_type": "execute_result"
    }
   ],
   "source": [
    "STATE_indexer = StringIndexer(inputCol='STATE', outputCol='STATE_Index')\n",
    "STATE_indexed = STATE_indexer.fit(df_final).transform(df_final)\n",
    "STATE_indexed.head(3)"
   ]
  },
  {
   "cell_type": "code",
   "execution_count": 15,
   "id": "1a3b511d",
   "metadata": {},
   "outputs": [
    {
     "name": "stderr",
     "output_type": "stream",
     "text": [
      "                                                                                \r"
     ]
    },
    {
     "data": {
      "text/plain": [
       "[Row(LONGITUDE=Decimal('-121.005833330000000000'), LATITUDE=Decimal('40.036944440000000000'), FIRE_SIZE_CLASS='A', STATE='CA', FIRE_YEAR=2005, DISCOVERY_DOY=33, STAT_CAUSE_CODE=9, STATE_Index=0.0, FIRE_SIZE_CLASS_Index=1.0),\n",
       " Row(LONGITUDE=Decimal('-120.404444440000000000'), LATITUDE=Decimal('38.933055560000000000'), FIRE_SIZE_CLASS='A', STATE='CA', FIRE_YEAR=2004, DISCOVERY_DOY=133, STAT_CAUSE_CODE=1, STATE_Index=0.0, FIRE_SIZE_CLASS_Index=1.0),\n",
       " Row(LONGITUDE=Decimal('-120.735555560000000000'), LATITUDE=Decimal('38.984166670000000000'), FIRE_SIZE_CLASS='A', STATE='CA', FIRE_YEAR=2004, DISCOVERY_DOY=152, STAT_CAUSE_CODE=5, STATE_Index=0.0, FIRE_SIZE_CLASS_Index=1.0)]"
      ]
     },
     "execution_count": 15,
     "metadata": {},
     "output_type": "execute_result"
    }
   ],
   "source": [
    "FIRE_SIZE_CLASS_indexer = StringIndexer(inputCol='FIRE_SIZE_CLASS', outputCol='FIRE_SIZE_CLASS_Index')\n",
    "FIRE_SIZE_CLASS_indexed = FIRE_SIZE_CLASS_indexer.fit(STATE_indexed).transform(STATE_indexed)\n",
    "FIRE_SIZE_CLASS_indexed.head(3)\n"
   ]
  },
  {
   "cell_type": "code",
   "execution_count": 16,
   "id": "ec1acc69",
   "metadata": {},
   "outputs": [
    {
     "data": {
      "text/plain": [
       "['LONGITUDE',\n",
       " 'LATITUDE',\n",
       " 'FIRE_SIZE_CLASS',\n",
       " 'STATE',\n",
       " 'FIRE_YEAR',\n",
       " 'DISCOVERY_DOY',\n",
       " 'STAT_CAUSE_CODE',\n",
       " 'STATE_Index',\n",
       " 'FIRE_SIZE_CLASS_Index']"
      ]
     },
     "execution_count": 16,
     "metadata": {},
     "output_type": "execute_result"
    }
   ],
   "source": [
    "FIRE_SIZE_CLASS_indexed.columns"
   ]
  },
  {
   "cell_type": "code",
   "execution_count": 25,
   "id": "76343606",
   "metadata": {},
   "outputs": [
    {
     "name": "stdout",
     "output_type": "stream",
     "text": [
      "+--------------------+--------------------+---------------+-----+---------+-------------+---------------+-----------+---------------------+\n",
      "|           LONGITUDE|            LATITUDE|FIRE_SIZE_CLASS|STATE|FIRE_YEAR|DISCOVERY_DOY|STAT_CAUSE_CODE|STATE_Index|FIRE_SIZE_CLASS_Index|\n",
      "+--------------------+--------------------+---------------+-----+---------+-------------+---------------+-----------+---------------------+\n",
      "|-121.005833330000...|40.03694444000000...|              A|   CA|     2005|           33|              9|        0.0|                  1.0|\n",
      "|-120.404444440000...|38.93305556000000...|              A|   CA|     2004|          133|              1|        0.0|                  1.0|\n",
      "|-120.735555560000...|38.98416667000000...|              A|   CA|     2004|          152|              5|        0.0|                  1.0|\n",
      "|-119.913333330000...|38.55916667000000...|              A|   CA|     2004|          180|              1|        0.0|                  1.0|\n",
      "|-119.933055560000...|38.55916667000000...|              A|   CA|     2004|          180|              1|        0.0|                  1.0|\n",
      "|-120.103611110000...|38.63527778000000...|              A|   CA|     2004|          182|              1|        0.0|                  1.0|\n",
      "|-120.153333330000...|38.68833333000000...|              A|   CA|     2004|          183|              1|        0.0|                  1.0|\n",
      "|-122.433888890000...|40.96805556000000...|              B|   CA|     2005|           67|              5|        0.0|                  0.0|\n",
      "|-122.283333330000...|41.23361111000000...|              B|   CA|     2005|           74|              5|        0.0|                  0.0|\n",
      "|-120.149166670000...|38.54833333000000...|              A|   CA|     2004|          183|              1|        0.0|                  1.0|\n",
      "|-120.159722220000...|38.69166667000000...|              A|   CA|     2004|          184|              1|        0.0|                  1.0|\n",
      "|-120.106111110000...|38.52750000000000...|              A|   CA|     2004|          184|              1|        0.0|                  1.0|\n",
      "|-120.193333330000...|38.78666667000000...|              A|   CA|     2004|          247|              9|        0.0|                  1.0|\n",
      "|-120.510000000000...|38.43333333000000...|              B|   CA|     2004|          272|              4|        0.0|                  0.0|\n",
      "|-120.279722220000...|38.67583333000000...|              A|   CA|     2004|          277|              1|        0.0|                  1.0|\n",
      "|-120.542222220000...|38.56416667000000...|              A|   CA|     2004|          277|              1|        0.0|                  1.0|\n",
      "|-120.211666670000...|38.52333333000000...|              G|   CA|     2004|          280|              2|        0.0|                  6.0|\n",
      "|-120.260000000000...|38.78000000000000...|              G|   CA|     2004|          287|              2|        0.0|                  6.0|\n",
      "|-120.411666670000...|38.94500000000000...|              A|   CA|     2004|          325|              5|        0.0|                  1.0|\n",
      "|-105.720555560000...|33.44083333000000...|              A|   NM|     2004|          156|              1|       14.0|                  1.0|\n",
      "+--------------------+--------------------+---------------+-----+---------+-------------+---------------+-----------+---------------------+\n",
      "only showing top 20 rows\n",
      "\n"
     ]
    }
   ],
   "source": [
    "FIRE_SIZE_CLASS_indexed.show()#select('FIRE_SIZE_CLASS', 'FIRE_SIZE_CLASS_Index').show()"
   ]
  },
  {
   "cell_type": "code",
   "execution_count": 43,
   "id": "48d7d0d5",
   "metadata": {},
   "outputs": [],
   "source": [
    "assembler = VectorAssembler(inputCols=['LONGITUDE', 'LATITUDE',\n",
    "                                       'STATE_Index','FIRE_YEAR', 'DISCOVERY_DOY',\n",
    "                                        'STAT_CAUSE_CODE'], outputCol='features')\n"
   ]
  },
  {
   "cell_type": "code",
   "execution_count": 44,
   "id": "00fa45c3",
   "metadata": {},
   "outputs": [],
   "source": [
    "output = assembler.transform(FIRE_SIZE_CLASS_indexed)"
   ]
  },
  {
   "cell_type": "code",
   "execution_count": 49,
   "id": "22d1ec55",
   "metadata": {},
   "outputs": [
    {
     "data": {
      "text/plain": [
       "['LONGITUDE',\n",
       " 'LATITUDE',\n",
       " 'FIRE_SIZE_CLASS',\n",
       " 'STATE',\n",
       " 'FIRE_YEAR',\n",
       " 'DISCOVERY_DOY',\n",
       " 'STAT_CAUSE_CODE',\n",
       " 'STATE_Index',\n",
       " 'FIRE_SIZE_CLASS_Index',\n",
       " 'features']"
      ]
     },
     "execution_count": 49,
     "metadata": {},
     "output_type": "execute_result"
    }
   ],
   "source": [
    "output.columns"
   ]
  },
  {
   "cell_type": "code",
   "execution_count": 48,
   "id": "53a8f43a",
   "metadata": {
    "scrolled": true
   },
   "outputs": [
    {
     "name": "stdout",
     "output_type": "stream",
     "text": [
      "-121.005833330000000000\n",
      "40.036944440000000000\n",
      "A\n",
      "CA\n",
      "2005\n",
      "33\n",
      "9\n",
      "0.0\n",
      "1.0\n",
      "[-121.00583333,40.03694444,0.0,2005.0,33.0,9.0]\n"
     ]
    }
   ],
   "source": [
    "for row in output.head(1)[0]:\n",
    "    print (row)"
   ]
  },
  {
   "cell_type": "code",
   "execution_count": 50,
   "id": "dc9becfa",
   "metadata": {},
   "outputs": [
    {
     "name": "stdout",
     "output_type": "stream",
     "text": [
      "+--------------------+---------------------+\n",
      "|            features|FIRE_SIZE_CLASS_Index|\n",
      "+--------------------+---------------------+\n",
      "|[-121.00583333,40...|                  1.0|\n",
      "|[-120.40444444,38...|                  1.0|\n",
      "|[-120.73555556,38...|                  1.0|\n",
      "|[-119.91333333,38...|                  1.0|\n",
      "|[-119.93305556,38...|                  1.0|\n",
      "|[-120.10361111,38...|                  1.0|\n",
      "|[-120.15333333,38...|                  1.0|\n",
      "|[-122.43388889,40...|                  0.0|\n",
      "|[-122.28333333,41...|                  0.0|\n",
      "|[-120.14916667,38...|                  1.0|\n",
      "|[-120.15972222,38...|                  1.0|\n",
      "|[-120.10611111,38...|                  1.0|\n",
      "|[-120.19333333,38...|                  1.0|\n",
      "|[-120.51,38.43333...|                  0.0|\n",
      "|[-120.27972222,38...|                  1.0|\n",
      "|[-120.54222222,38...|                  1.0|\n",
      "|[-120.21166667,38...|                  6.0|\n",
      "|[-120.26,38.78,0....|                  6.0|\n",
      "|[-120.41166667,38...|                  1.0|\n",
      "|[-105.72055556,33...|                  1.0|\n",
      "+--------------------+---------------------+\n",
      "only showing top 20 rows\n",
      "\n"
     ]
    }
   ],
   "source": [
    "final_data = output.select('features', 'FIRE_SIZE_CLASS_Index')\n",
    "final_data.show()"
   ]
  },
  {
   "cell_type": "code",
   "execution_count": 60,
   "id": "49c72be4",
   "metadata": {},
   "outputs": [],
   "source": [
    "train_data, test_data = final_data.randomSplit([0.01, 0.99])"
   ]
  },
  {
   "cell_type": "code",
   "execution_count": 61,
   "id": "2daa85d6",
   "metadata": {},
   "outputs": [
    {
     "name": "stderr",
     "output_type": "stream",
     "text": [
      "\r",
      "[Stage 61:>                 (0 + 1) / 1][Stage 71:>                 (0 + 1) / 1]\r"
     ]
    },
    {
     "name": "stdout",
     "output_type": "stream",
     "text": [
      "+-------+---------------------+\n",
      "|summary|FIRE_SIZE_CLASS_Index|\n",
      "+-------+---------------------+\n",
      "|  count|                18631|\n",
      "|   mean|   0.6950780956470399|\n",
      "| stddev|   0.8726394786865067|\n",
      "|    min|                  0.0|\n",
      "|    max|                  6.0|\n",
      "+-------+---------------------+\n",
      "\n"
     ]
    },
    {
     "name": "stderr",
     "output_type": "stream",
     "text": [
      "[Stage 61:>                                                         (0 + 1) / 1]\r"
     ]
    }
   ],
   "source": [
    "train_data.describe().show()"
   ]
  },
  {
   "cell_type": "code",
   "execution_count": 52,
   "id": "8bbe16f3",
   "metadata": {},
   "outputs": [],
   "source": [
    "log_reg_model = LogisticRegression(featuresCol='features', labelCol='FIRE_SIZE_CLASS_Index')"
   ]
  },
  {
   "cell_type": "code",
   "execution_count": 169,
   "id": "b28976ac",
   "metadata": {},
   "outputs": [],
   "source": [
    "pipeline = Pipeline (stages=[STATE_indexer, FIRE_SIZE_CLASS_indexer,\n",
    "                             STATE_indexed, FIRE_SIZE_CLASS_indexed,\n",
    "                            assembler, log_reg_model])"
   ]
  },
  {
   "cell_type": "code",
   "execution_count": 182,
   "id": "4841b31b",
   "metadata": {},
   "outputs": [],
   "source": [
    "assembler = VectorAssembler(inputCols=['LONGITUDE', 'LATITUDE',\n",
    "               'STATE_Index','FIRE_YEAR', 'DISCOVERY_DOY',\n",
    "                'STAT_CAUSE_CODE'], outputCol='features')\n"
   ]
  },
  {
   "cell_type": "code",
   "execution_count": 62,
   "id": "79c00887",
   "metadata": {},
   "outputs": [
    {
     "name": "stderr",
     "output_type": "stream",
     "text": [
      "[Stage 125:>                                                        (0 + 1) / 1]\r"
     ]
    }
   ],
   "source": [
    "fit_model = log_reg_model.fit(train_data)"
   ]
  },
  {
   "cell_type": "code",
   "execution_count": 63,
   "id": "54f7dcc9",
   "metadata": {},
   "outputs": [],
   "source": [
    "results = fit_model.evaluate(test_data)"
   ]
  },
  {
   "cell_type": "code",
   "execution_count": 64,
   "id": "ba129e50",
   "metadata": {},
   "outputs": [],
   "source": [
    "training_summary = fit_model.summary"
   ]
  },
  {
   "cell_type": "code",
   "execution_count": 66,
   "id": "ad38621b",
   "metadata": {},
   "outputs": [
    {
     "name": "stderr",
     "output_type": "stream",
     "text": [
      "\r",
      "[Stage 165:>                (0 + 1) / 1][Stage 166:>                (0 + 1) / 1]\r"
     ]
    },
    {
     "name": "stdout",
     "output_type": "stream",
     "text": [
      "+-------+---------------------+-------------------+\n",
      "|summary|FIRE_SIZE_CLASS_Index|         prediction|\n",
      "+-------+---------------------+-------------------+\n",
      "|  count|                18631|              18631|\n",
      "|   mean|   0.6950780956470399|0.27738715044817774|\n",
      "| stddev|   0.8726394786865067| 0.4478410790947313|\n",
      "|    min|                  0.0|                0.0|\n",
      "|    max|                  6.0|                2.0|\n",
      "+-------+---------------------+-------------------+\n",
      "\n"
     ]
    },
    {
     "name": "stderr",
     "output_type": "stream",
     "text": [
      "[Stage 169:>                                                        (0 + 1) / 1]\r"
     ]
    }
   ],
   "source": [
    "training_summary.predictions.describe().show()"
   ]
  },
  {
   "cell_type": "code",
   "execution_count": 68,
   "id": "77ebcfa9",
   "metadata": {},
   "outputs": [],
   "source": [
    "pred_and_labels = fit_model.evaluate(test_data)"
   ]
  },
  {
   "cell_type": "code",
   "execution_count": 70,
   "id": "07a4cd84",
   "metadata": {},
   "outputs": [
    {
     "name": "stderr",
     "output_type": "stream",
     "text": [
      "[Stage 169:>                (0 + 1) / 1][Stage 171:>                (0 + 1) / 1]\r"
     ]
    },
    {
     "name": "stdout",
     "output_type": "stream",
     "text": [
      "+----------+\n",
      "|prediction|\n",
      "+----------+\n",
      "|       0.0|\n",
      "|       1.0|\n",
      "|       2.0|\n",
      "+----------+\n",
      "\n"
     ]
    },
    {
     "name": "stderr",
     "output_type": "stream",
     "text": [
      "[Stage 169:>                                                        (0 + 1) / 1]\r"
     ]
    }
   ],
   "source": [
    "pred_and_labels.predictions.select('prediction').distinct().show()"
   ]
  },
  {
   "cell_type": "code",
   "execution_count": null,
   "id": "ad13b9e4",
   "metadata": {},
   "outputs": [],
   "source": []
  }
 ],
 "metadata": {
  "kernelspec": {
   "display_name": "Python 3 (ipykernel)",
   "language": "python",
   "name": "python3"
  },
  "language_info": {
   "codemirror_mode": {
    "name": "ipython",
    "version": 3
   },
   "file_extension": ".py",
   "mimetype": "text/x-python",
   "name": "python",
   "nbconvert_exporter": "python",
   "pygments_lexer": "ipython3",
   "version": "3.11.3"
  }
 },
 "nbformat": 4,
 "nbformat_minor": 5
}
