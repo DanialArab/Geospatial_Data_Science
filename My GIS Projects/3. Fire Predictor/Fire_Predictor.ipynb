{
 "cells": [
  {
   "cell_type": "code",
   "execution_count": 131,
   "id": "cb37c020",
   "metadata": {},
   "outputs": [],
   "source": [
    "from pyspark.ml.classification import LogisticRegression\n",
    "from pyspark.ml.evaluation import (BinaryClassificationEvaluator,\n",
    "                                    MulticlassClassificationEvaluator)\n",
    "from pyspark.ml.feature import (StringIndexer, VectorAssembler,\n",
    "                               OneHotEncoder)\n",
    "from pyspark.sql.session import SparkSession\n",
    "from pyspark.ml import Pipeline\n",
    "from pyspark.sql.functions import col, sum"
   ]
  },
  {
   "cell_type": "code",
   "execution_count": 1,
   "id": "b02de7aa",
   "metadata": {},
   "outputs": [],
   "source": [
    "import findspark"
   ]
  },
  {
   "cell_type": "code",
   "execution_count": 2,
   "id": "b92eac20",
   "metadata": {},
   "outputs": [],
   "source": [
    "spark = findspark.init('/home/danial/spark-3.4.0-bin-hadoop3')"
   ]
  },
  {
   "cell_type": "code",
   "execution_count": 7,
   "id": "cce231fb",
   "metadata": {},
   "outputs": [],
   "source": [
    "spark = SparkSession.builder.config('spark.jars.packages', 'org.xerial:sqlite-jdbc:3.42.0.0').getOrCreate()"
   ]
  },
  {
   "cell_type": "code",
   "execution_count": 42,
   "id": "cf4ee08c",
   "metadata": {},
   "outputs": [],
   "source": [
    "df_spark = spark.read.format('jdbc').options(driver='org.sqlite.JDBC', \\\n",
    "                                             inferSchema = True,\\\n",
    "                                             header = True,\\\n",
    "                                             dbtable = 'fires',\\\n",
    "                                             url= 'jdbc:sqlite:/home/danial/Desktop/mygis/Geospatial_Data_Science/My GIS Projects/data/3.1.88_M_US_Wildfires/FPA_FOD_20170508.sqlite').load()\n"
   ]
  },
  {
   "cell_type": "code",
   "execution_count": 56,
   "id": "92f61ea2",
   "metadata": {},
   "outputs": [
    {
     "name": "stdout",
     "output_type": "stream",
     "text": [
      "root\n",
      " |-- OBJECTID: integer (nullable = true)\n",
      " |-- FOD_ID: decimal(38,18) (nullable = true)\n",
      " |-- FPA_ID: string (nullable = true)\n",
      " |-- SOURCE_SYSTEM_TYPE: string (nullable = true)\n",
      " |-- SOURCE_SYSTEM: string (nullable = true)\n",
      " |-- NWCG_REPORTING_AGENCY: string (nullable = true)\n",
      " |-- NWCG_REPORTING_UNIT_ID: string (nullable = true)\n",
      " |-- NWCG_REPORTING_UNIT_NAME: string (nullable = true)\n",
      " |-- SOURCE_REPORTING_UNIT: string (nullable = true)\n",
      " |-- SOURCE_REPORTING_UNIT_NAME: string (nullable = true)\n",
      " |-- LOCAL_FIRE_REPORT_ID: string (nullable = true)\n",
      " |-- LOCAL_INCIDENT_ID: string (nullable = true)\n",
      " |-- FIRE_CODE: string (nullable = true)\n",
      " |-- FIRE_NAME: string (nullable = true)\n",
      " |-- ICS_209_INCIDENT_NUMBER: string (nullable = true)\n",
      " |-- ICS_209_NAME: string (nullable = true)\n",
      " |-- MTBS_ID: string (nullable = true)\n",
      " |-- MTBS_FIRE_NAME: string (nullable = true)\n",
      " |-- COMPLEX_NAME: string (nullable = true)\n",
      " |-- FIRE_YEAR: decimal(38,18) (nullable = true)\n",
      " |-- DISCOVERY_DATE: decimal(38,18) (nullable = true)\n",
      " |-- DISCOVERY_DOY: decimal(38,18) (nullable = true)\n",
      " |-- DISCOVERY_TIME: string (nullable = true)\n",
      " |-- STAT_CAUSE_CODE: decimal(38,18) (nullable = true)\n",
      " |-- STAT_CAUSE_DESCR: string (nullable = true)\n",
      " |-- CONT_DATE: decimal(38,18) (nullable = true)\n",
      " |-- CONT_DOY: decimal(38,18) (nullable = true)\n",
      " |-- CONT_TIME: string (nullable = true)\n",
      " |-- FIRE_SIZE: decimal(38,18) (nullable = true)\n",
      " |-- FIRE_SIZE_CLASS: string (nullable = true)\n",
      " |-- LATITUDE: decimal(38,18) (nullable = true)\n",
      " |-- LONGITUDE: decimal(38,18) (nullable = true)\n",
      " |-- OWNER_CODE: decimal(38,18) (nullable = true)\n",
      " |-- OWNER_DESCR: string (nullable = true)\n",
      " |-- STATE: string (nullable = true)\n",
      " |-- COUNTY: string (nullable = true)\n",
      " |-- FIPS_CODE: string (nullable = true)\n",
      " |-- FIPS_NAME: string (nullable = true)\n",
      " |-- Shape: decimal(38,18) (nullable = true)\n",
      "\n"
     ]
    }
   ],
   "source": [
    "df_spark.printSchema()"
   ]
  },
  {
   "cell_type": "code",
   "execution_count": 67,
   "id": "08adeeb7",
   "metadata": {},
   "outputs": [
    {
     "name": "stdout",
     "output_type": "stream",
     "text": [
      "root\n",
      " |-- LONGITUDE: decimal(38,18) (nullable = true)\n",
      " |-- LATITUDE: decimal(38,18) (nullable = true)\n",
      " |-- FIRE_SIZE: decimal(38,18) (nullable = true)\n",
      " |-- FIRE_SIZE_CLASS: string (nullable = true)\n",
      " |-- STATE: string (nullable = true)\n",
      " |-- FIRE_YEAR: decimal(38,18) (nullable = true)\n",
      " |-- DISCOVERY_DOY: decimal(38,18) (nullable = true)\n",
      " |-- CONT_DOY: decimal(38,18) (nullable = true)\n",
      " |-- STAT_CAUSE_DESCR: string (nullable = true)\n",
      " |-- STAT_CAUSE_CODE: decimal(38,18) (nullable = true)\n",
      " |-- DISCOVERY_TIME: string (nullable = true)\n",
      " |-- CONT_TIME: string (nullable = true)\n",
      "\n"
     ]
    }
   ],
   "source": [
    "df = df_spark.select('LONGITUDE', 'LATITUDE','FIRE_SIZE', 'FIRE_SIZE_CLASS',\\\n",
    "               'STATE','FIRE_YEAR', 'DISCOVERY_DOY', 'CONT_DOY',\\\n",
    "                'STAT_CAUSE_DESCR', 'STAT_CAUSE_CODE','DISCOVERY_TIME', 'CONT_TIME'\\\n",
    "               )\n",
    "df.printSchema()"
   ]
  },
  {
   "cell_type": "code",
   "execution_count": 59,
   "id": "86913c93",
   "metadata": {},
   "outputs": [
    {
     "name": "stderr",
     "output_type": "stream",
     "text": [
      "\r",
      "[Stage 28:>                                                         (0 + 1) / 1]\r"
     ]
    },
    {
     "name": "stdout",
     "output_type": "stream",
     "text": [
      "+--------------------+\n",
      "|     STAT_CAUSE_CODE|\n",
      "+--------------------+\n",
      "|1.000000000000000000|\n",
      "|3.000000000000000000|\n",
      "|12.00000000000000...|\n",
      "|4.000000000000000000|\n",
      "|10.00000000000000...|\n",
      "|11.00000000000000...|\n",
      "|2.000000000000000000|\n",
      "|13.00000000000000...|\n",
      "|9.000000000000000000|\n",
      "|8.000000000000000000|\n",
      "|6.000000000000000000|\n",
      "|7.000000000000000000|\n",
      "|5.000000000000000000|\n",
      "+--------------------+\n",
      "\n"
     ]
    },
    {
     "name": "stderr",
     "output_type": "stream",
     "text": [
      "\r",
      "                                                                                \r"
     ]
    }
   ],
   "source": [
    "df_spark.select('STAT_CAUSE_CODE').distinct().show()"
   ]
  },
  {
   "cell_type": "code",
   "execution_count": 69,
   "id": "cea34fed",
   "metadata": {},
   "outputs": [],
   "source": [
    "df = df.withColumn(\"FIRE_YEAR\", df.FIRE_YEAR.cast(\"integer\"))\n",
    "df = df.withColumn(\"DISCOVERY_DOY\", df.DISCOVERY_DOY.cast(\"integer\"))\n",
    "df = df.withColumn(\"CONT_DOY\", df.CONT_DOY.cast(\"integer\"))\n",
    "df = df.withColumn(\"STAT_CAUSE_CODE\", df.STAT_CAUSE_CODE.cast(\"integer\"))\n"
   ]
  },
  {
   "cell_type": "code",
   "execution_count": 70,
   "id": "33bb30d4",
   "metadata": {},
   "outputs": [
    {
     "name": "stdout",
     "output_type": "stream",
     "text": [
      "+-----+---------+-------------+--------+----------------+---------------+--------------+---------+\n",
      "|STATE|FIRE_YEAR|DISCOVERY_DOY|CONT_DOY|STAT_CAUSE_DESCR|STAT_CAUSE_CODE|DISCOVERY_TIME|CONT_TIME|\n",
      "+-----+---------+-------------+--------+----------------+---------------+--------------+---------+\n",
      "|   CA|     2005|           33|      33|   Miscellaneous|              9|          1300|     1730|\n",
      "|   CA|     2004|          133|     133|       Lightning|              1|          0845|     1530|\n",
      "|   CA|     2004|          152|     152|  Debris Burning|              5|          1921|     2024|\n",
      "|   CA|     2004|          180|     185|       Lightning|              1|          1600|     1400|\n",
      "|   CA|     2004|          180|     185|       Lightning|              1|          1600|     1200|\n",
      "|   CA|     2004|          182|     183|       Lightning|              1|          1800|     1600|\n",
      "|   CA|     2004|          183|     184|       Lightning|              1|          1800|     1400|\n",
      "|   CA|     2005|           67|      67|  Debris Burning|              5|          1300|     1600|\n",
      "|   CA|     2005|           74|      74|  Debris Burning|              5|          1200|     1700|\n",
      "|   CA|     2004|          183|     184|       Lightning|              1|          1800|     1800|\n",
      "|   CA|     2004|          184|     185|       Lightning|              1|          1830|     1900|\n",
      "|   CA|     2004|          184|     185|       Lightning|              1|          1730|     2000|\n",
      "|   CA|     2004|          247|     247|   Miscellaneous|              9|          1600|     1630|\n",
      "|   CA|     2004|          272|     272|        Campfire|              4|          1200|     1800|\n",
      "|   CA|     2004|          277|     277|       Lightning|              1|          0630|     1500|\n",
      "|   CA|     2004|          277|     277|       Lightning|              1|          0930|     1400|\n",
      "|   CA|     2004|          280|     295|   Equipment Use|              2|          1415|     1000|\n",
      "|   CA|     2004|          287|     291|   Equipment Use|              2|          1618|     1800|\n",
      "|   CA|     2004|          325|     326|  Debris Burning|              5|          2000|     1630|\n",
      "|   NM|     2004|          156|     156|       Lightning|              1|          1030|     1400|\n",
      "+-----+---------+-------------+--------+----------------+---------------+--------------+---------+\n",
      "only showing top 20 rows\n",
      "\n"
     ]
    }
   ],
   "source": [
    "df.select('STATE','FIRE_YEAR', 'DISCOVERY_DOY', 'CONT_DOY',\\\n",
    "                'STAT_CAUSE_DESCR', 'STAT_CAUSE_CODE','DISCOVERY_TIME', 'CONT_TIME').show()\n",
    "\n"
   ]
  },
  {
   "cell_type": "code",
   "execution_count": 71,
   "id": "77a6fb3b",
   "metadata": {},
   "outputs": [
    {
     "name": "stdout",
     "output_type": "stream",
     "text": [
      "+--------------------+--------------------+--------------------+---------------+\n",
      "|           LONGITUDE|            LATITUDE|           FIRE_SIZE|FIRE_SIZE_CLASS|\n",
      "+--------------------+--------------------+--------------------+---------------+\n",
      "|-121.005833330000...|40.03694444000000...|0.100000000000000000|              A|\n",
      "|-120.404444440000...|38.93305556000000...|0.250000000000000000|              A|\n",
      "|-120.735555560000...|38.98416667000000...|0.100000000000000000|              A|\n",
      "|-119.913333330000...|38.55916667000000...|0.100000000000000000|              A|\n",
      "|-119.933055560000...|38.55916667000000...|0.100000000000000000|              A|\n",
      "|-120.103611110000...|38.63527778000000...|0.100000000000000000|              A|\n",
      "|-120.153333330000...|38.68833333000000...|0.100000000000000000|              A|\n",
      "|-122.433888890000...|40.96805556000000...|0.800000000000000000|              B|\n",
      "|-122.283333330000...|41.23361111000000...|1.000000000000000000|              B|\n",
      "|-120.149166670000...|38.54833333000000...|0.100000000000000000|              A|\n",
      "|-120.159722220000...|38.69166667000000...|0.100000000000000000|              A|\n",
      "|-120.106111110000...|38.52750000000000...|0.100000000000000000|              A|\n",
      "|-120.193333330000...|38.78666667000000...|0.100000000000000000|              A|\n",
      "|-120.510000000000...|38.43333333000000...|6.000000000000000000|              B|\n",
      "|-120.279722220000...|38.67583333000000...|0.200000000000000000|              A|\n",
      "|-120.542222220000...|38.56416667000000...|0.100000000000000000|              A|\n",
      "|-120.211666670000...|38.52333333000000...|16823.00000000000...|              G|\n",
      "|-120.260000000000...|38.78000000000000...|7700.000000000000...|              G|\n",
      "|-120.411666670000...|38.94500000000000...|0.100000000000000000|              A|\n",
      "|-105.720555560000...|33.44083333000000...|0.100000000000000000|              A|\n",
      "+--------------------+--------------------+--------------------+---------------+\n",
      "only showing top 20 rows\n",
      "\n"
     ]
    }
   ],
   "source": [
    "df_spark.select('LONGITUDE', 'LATITUDE','FIRE_SIZE', 'FIRE_SIZE_CLASS').show()\n"
   ]
  },
  {
   "cell_type": "code",
   "execution_count": 73,
   "id": "6c5a347b",
   "metadata": {
    "scrolled": true
   },
   "outputs": [
    {
     "name": "stdout",
     "output_type": "stream",
     "text": [
      "root\n",
      " |-- LONGITUDE: decimal(38,18) (nullable = true)\n",
      " |-- LATITUDE: decimal(38,18) (nullable = true)\n",
      " |-- FIRE_SIZE: decimal(38,18) (nullable = true)\n",
      " |-- FIRE_SIZE_CLASS: string (nullable = true)\n",
      " |-- STATE: string (nullable = true)\n",
      " |-- FIRE_YEAR: integer (nullable = true)\n",
      " |-- DISCOVERY_DOY: integer (nullable = true)\n",
      " |-- CONT_DOY: integer (nullable = true)\n",
      " |-- STAT_CAUSE_DESCR: string (nullable = true)\n",
      " |-- STAT_CAUSE_CODE: integer (nullable = true)\n",
      " |-- DISCOVERY_TIME: string (nullable = true)\n",
      " |-- CONT_TIME: string (nullable = true)\n",
      "\n"
     ]
    }
   ],
   "source": [
    "df.printSchema()"
   ]
  },
  {
   "cell_type": "markdown",
   "id": "c8832ecb",
   "metadata": {},
   "source": [
    "# Let's see the task as a classification task\n",
    "\n",
    "+ meaning I will choose the fire size class as the target variable rather the the fire size in acres.\n",
    "+ I chose STAT_CAUSE_CODE rather than STAT_CAUSE_DESCR, so I will not need to perform encoding. at least for this attribute\n",
    "+ For now, I will exclude DISCOVERY_TIME and CONT_TIME\n",
    "+ I will keep DISCOVERY_DOY becasue it may be useful in terms of predicting fire size like the day of the year the fire occured may be related to the size of fire like in terms of weather temperature\n",
    "+ I will keep CONT_DOY becasue it may be useful in terms of predicting fire size like the larger the fire the more time it may take to control the fire\n"
   ]
  },
  {
   "cell_type": "code",
   "execution_count": 118,
   "id": "45a200cf",
   "metadata": {},
   "outputs": [],
   "source": [
    "my_df = df.select('LONGITUDE', 'LATITUDE', 'FIRE_SIZE_CLASS',\\\n",
    "               'STATE','FIRE_YEAR', 'DISCOVERY_DOY', 'CONT_DOY',\\\n",
    "                'STAT_CAUSE_CODE'\\\n",
    "               )"
   ]
  },
  {
   "cell_type": "code",
   "execution_count": 119,
   "id": "f45c08a6",
   "metadata": {
    "scrolled": false
   },
   "outputs": [
    {
     "name": "stdout",
     "output_type": "stream",
     "text": [
      "+--------------------+--------------------+---------------+-----+---------+-------------+--------+---------------+\n",
      "|           LONGITUDE|            LATITUDE|FIRE_SIZE_CLASS|STATE|FIRE_YEAR|DISCOVERY_DOY|CONT_DOY|STAT_CAUSE_CODE|\n",
      "+--------------------+--------------------+---------------+-----+---------+-------------+--------+---------------+\n",
      "|-121.005833330000...|40.03694444000000...|              A|   CA|     2005|           33|      33|              9|\n",
      "|-120.404444440000...|38.93305556000000...|              A|   CA|     2004|          133|     133|              1|\n",
      "|-120.735555560000...|38.98416667000000...|              A|   CA|     2004|          152|     152|              5|\n",
      "|-119.913333330000...|38.55916667000000...|              A|   CA|     2004|          180|     185|              1|\n",
      "|-119.933055560000...|38.55916667000000...|              A|   CA|     2004|          180|     185|              1|\n",
      "|-120.103611110000...|38.63527778000000...|              A|   CA|     2004|          182|     183|              1|\n",
      "|-120.153333330000...|38.68833333000000...|              A|   CA|     2004|          183|     184|              1|\n",
      "|-122.433888890000...|40.96805556000000...|              B|   CA|     2005|           67|      67|              5|\n",
      "|-122.283333330000...|41.23361111000000...|              B|   CA|     2005|           74|      74|              5|\n",
      "|-120.149166670000...|38.54833333000000...|              A|   CA|     2004|          183|     184|              1|\n",
      "|-120.159722220000...|38.69166667000000...|              A|   CA|     2004|          184|     185|              1|\n",
      "|-120.106111110000...|38.52750000000000...|              A|   CA|     2004|          184|     185|              1|\n",
      "|-120.193333330000...|38.78666667000000...|              A|   CA|     2004|          247|     247|              9|\n",
      "|-120.510000000000...|38.43333333000000...|              B|   CA|     2004|          272|     272|              4|\n",
      "|-120.279722220000...|38.67583333000000...|              A|   CA|     2004|          277|     277|              1|\n",
      "|-120.542222220000...|38.56416667000000...|              A|   CA|     2004|          277|     277|              1|\n",
      "|-120.211666670000...|38.52333333000000...|              G|   CA|     2004|          280|     295|              2|\n",
      "|-120.260000000000...|38.78000000000000...|              G|   CA|     2004|          287|     291|              2|\n",
      "|-120.411666670000...|38.94500000000000...|              A|   CA|     2004|          325|     326|              5|\n",
      "|-105.720555560000...|33.44083333000000...|              A|   NM|     2004|          156|     156|              1|\n",
      "+--------------------+--------------------+---------------+-----+---------+-------------+--------+---------------+\n",
      "only showing top 20 rows\n",
      "\n"
     ]
    }
   ],
   "source": [
    "my_df.show()"
   ]
  },
  {
   "cell_type": "code",
   "execution_count": 120,
   "id": "8bae6773",
   "metadata": {},
   "outputs": [
    {
     "name": "stdout",
     "output_type": "stream",
     "text": [
      "root\n",
      " |-- LONGITUDE: decimal(38,18) (nullable = true)\n",
      " |-- LATITUDE: decimal(38,18) (nullable = true)\n",
      " |-- FIRE_SIZE_CLASS: string (nullable = true)\n",
      " |-- STATE: string (nullable = true)\n",
      " |-- FIRE_YEAR: integer (nullable = true)\n",
      " |-- DISCOVERY_DOY: integer (nullable = true)\n",
      " |-- CONT_DOY: integer (nullable = true)\n",
      " |-- STAT_CAUSE_CODE: integer (nullable = true)\n",
      "\n"
     ]
    }
   ],
   "source": [
    "my_df.printSchema()"
   ]
  },
  {
   "cell_type": "code",
   "execution_count": 121,
   "id": "a4384b9b",
   "metadata": {},
   "outputs": [
    {
     "name": "stderr",
     "output_type": "stream",
     "text": [
      "\r",
      "[Stage 81:>                                                         (0 + 1) / 1]\r"
     ]
    },
    {
     "name": "stdout",
     "output_type": "stream",
     "text": [
      "+---------------+\n",
      "|FIRE_SIZE_CLASS|\n",
      "+---------------+\n",
      "|              F|\n",
      "|              E|\n",
      "|              B|\n",
      "|              D|\n",
      "|              C|\n",
      "|              A|\n",
      "|              G|\n",
      "+---------------+\n",
      "\n"
     ]
    },
    {
     "name": "stderr",
     "output_type": "stream",
     "text": [
      "\r",
      "                                                                                \r"
     ]
    }
   ],
   "source": [
    "my_df.select('FIRE_SIZE_CLASS').distinct().show()"
   ]
  },
  {
   "cell_type": "code",
   "execution_count": 122,
   "id": "12bfafd8",
   "metadata": {},
   "outputs": [
    {
     "name": "stderr",
     "output_type": "stream",
     "text": [
      "\r",
      "[Stage 84:>                                                         (0 + 1) / 1]\r"
     ]
    },
    {
     "name": "stdout",
     "output_type": "stream",
     "text": [
      "+---------+--------+---------------+-----+---------+-------------+--------+---------------+\n",
      "|LONGITUDE|LATITUDE|FIRE_SIZE_CLASS|STATE|FIRE_YEAR|DISCOVERY_DOY|CONT_DOY|STAT_CAUSE_CODE|\n",
      "+---------+--------+---------------+-----+---------+-------------+--------+---------------+\n",
      "|        0|       0|              0|    0|        0|            0|  891531|              0|\n",
      "+---------+--------+---------------+-----+---------+-------------+--------+---------------+\n",
      "\n"
     ]
    },
    {
     "name": "stderr",
     "output_type": "stream",
     "text": [
      "\r",
      "                                                                                \r"
     ]
    }
   ],
   "source": [
    "null_counts = my_df.select([sum(col(c).isNull().cast(\"int\")).alias(c) for c in my_df.columns])\n",
    "\n",
    "null_counts.show()\n"
   ]
  },
  {
   "cell_type": "markdown",
   "id": "c6b6d535",
   "metadata": {},
   "source": [
    "# SO for now let's exclude CONT_DOY column which contains null values\n",
    "\n",
    "later I will retrain the model using these column where dropping the null vals"
   ]
  },
  {
   "cell_type": "code",
   "execution_count": 123,
   "id": "b8f585e9",
   "metadata": {},
   "outputs": [],
   "source": [
    "df_final = df.select('LONGITUDE', 'LATITUDE', 'FIRE_SIZE_CLASS',\\\n",
    "               'STATE','FIRE_YEAR', 'DISCOVERY_DOY',\\\n",
    "                'STAT_CAUSE_CODE'\\\n",
    "               )"
   ]
  },
  {
   "cell_type": "code",
   "execution_count": 124,
   "id": "e66caab4",
   "metadata": {
    "scrolled": false
   },
   "outputs": [
    {
     "name": "stdout",
     "output_type": "stream",
     "text": [
      "+--------------------+--------------------+---------------+-----+---------+-------------+---------------+\n",
      "|           LONGITUDE|            LATITUDE|FIRE_SIZE_CLASS|STATE|FIRE_YEAR|DISCOVERY_DOY|STAT_CAUSE_CODE|\n",
      "+--------------------+--------------------+---------------+-----+---------+-------------+---------------+\n",
      "|-121.005833330000...|40.03694444000000...|              A|   CA|     2005|           33|              9|\n",
      "|-120.404444440000...|38.93305556000000...|              A|   CA|     2004|          133|              1|\n",
      "|-120.735555560000...|38.98416667000000...|              A|   CA|     2004|          152|              5|\n",
      "|-119.913333330000...|38.55916667000000...|              A|   CA|     2004|          180|              1|\n",
      "|-119.933055560000...|38.55916667000000...|              A|   CA|     2004|          180|              1|\n",
      "|-120.103611110000...|38.63527778000000...|              A|   CA|     2004|          182|              1|\n",
      "|-120.153333330000...|38.68833333000000...|              A|   CA|     2004|          183|              1|\n",
      "|-122.433888890000...|40.96805556000000...|              B|   CA|     2005|           67|              5|\n",
      "|-122.283333330000...|41.23361111000000...|              B|   CA|     2005|           74|              5|\n",
      "|-120.149166670000...|38.54833333000000...|              A|   CA|     2004|          183|              1|\n",
      "|-120.159722220000...|38.69166667000000...|              A|   CA|     2004|          184|              1|\n",
      "|-120.106111110000...|38.52750000000000...|              A|   CA|     2004|          184|              1|\n",
      "|-120.193333330000...|38.78666667000000...|              A|   CA|     2004|          247|              9|\n",
      "|-120.510000000000...|38.43333333000000...|              B|   CA|     2004|          272|              4|\n",
      "|-120.279722220000...|38.67583333000000...|              A|   CA|     2004|          277|              1|\n",
      "|-120.542222220000...|38.56416667000000...|              A|   CA|     2004|          277|              1|\n",
      "|-120.211666670000...|38.52333333000000...|              G|   CA|     2004|          280|              2|\n",
      "|-120.260000000000...|38.78000000000000...|              G|   CA|     2004|          287|              2|\n",
      "|-120.411666670000...|38.94500000000000...|              A|   CA|     2004|          325|              5|\n",
      "|-105.720555560000...|33.44083333000000...|              A|   NM|     2004|          156|              1|\n",
      "+--------------------+--------------------+---------------+-----+---------+-------------+---------------+\n",
      "only showing top 20 rows\n",
      "\n"
     ]
    }
   ],
   "source": [
    "df_final.show()"
   ]
  },
  {
   "cell_type": "code",
   "execution_count": 160,
   "id": "e171b515",
   "metadata": {},
   "outputs": [
    {
     "name": "stderr",
     "output_type": "stream",
     "text": [
      "\r",
      "[Stage 139:>                                                        (0 + 1) / 1]\r"
     ]
    },
    {
     "name": "stdout",
     "output_type": "stream",
     "text": [
      "+--------------------+--------------------+---------------+-----+---------+-------------+---------------+-----------+\n",
      "|           LONGITUDE|            LATITUDE|FIRE_SIZE_CLASS|STATE|FIRE_YEAR|DISCOVERY_DOY|STAT_CAUSE_CODE|STATE_Index|\n",
      "+--------------------+--------------------+---------------+-----+---------+-------------+---------------+-----------+\n",
      "|-121.005833330000...|40.03694444000000...|              A|   CA|     2005|           33|              9|        0.0|\n",
      "|-120.404444440000...|38.93305556000000...|              A|   CA|     2004|          133|              1|        0.0|\n",
      "|-120.735555560000...|38.98416667000000...|              A|   CA|     2004|          152|              5|        0.0|\n",
      "|-119.913333330000...|38.55916667000000...|              A|   CA|     2004|          180|              1|        0.0|\n",
      "|-119.933055560000...|38.55916667000000...|              A|   CA|     2004|          180|              1|        0.0|\n",
      "|-120.103611110000...|38.63527778000000...|              A|   CA|     2004|          182|              1|        0.0|\n",
      "|-120.153333330000...|38.68833333000000...|              A|   CA|     2004|          183|              1|        0.0|\n",
      "|-122.433888890000...|40.96805556000000...|              B|   CA|     2005|           67|              5|        0.0|\n",
      "|-122.283333330000...|41.23361111000000...|              B|   CA|     2005|           74|              5|        0.0|\n",
      "|-120.149166670000...|38.54833333000000...|              A|   CA|     2004|          183|              1|        0.0|\n",
      "|-120.159722220000...|38.69166667000000...|              A|   CA|     2004|          184|              1|        0.0|\n",
      "|-120.106111110000...|38.52750000000000...|              A|   CA|     2004|          184|              1|        0.0|\n",
      "|-120.193333330000...|38.78666667000000...|              A|   CA|     2004|          247|              9|        0.0|\n",
      "|-120.510000000000...|38.43333333000000...|              B|   CA|     2004|          272|              4|        0.0|\n",
      "|-120.279722220000...|38.67583333000000...|              A|   CA|     2004|          277|              1|        0.0|\n",
      "|-120.542222220000...|38.56416667000000...|              A|   CA|     2004|          277|              1|        0.0|\n",
      "|-120.211666670000...|38.52333333000000...|              G|   CA|     2004|          280|              2|        0.0|\n",
      "|-120.260000000000...|38.78000000000000...|              G|   CA|     2004|          287|              2|        0.0|\n",
      "|-120.411666670000...|38.94500000000000...|              A|   CA|     2004|          325|              5|        0.0|\n",
      "|-105.720555560000...|33.44083333000000...|              A|   NM|     2004|          156|              1|       14.0|\n",
      "+--------------------+--------------------+---------------+-----+---------+-------------+---------------+-----------+\n",
      "only showing top 20 rows\n",
      "\n"
     ]
    },
    {
     "name": "stderr",
     "output_type": "stream",
     "text": [
      "\r",
      "                                                                                \r"
     ]
    }
   ],
   "source": [
    "STATE_indexer = StringIndexer(inputCol='STATE', outputCol='STATE_Index')\n",
    "STATE_indexed = STATE_indexer.fit(df_final).transform(df_final)\n",
    "#STATE_encoder = OneHotEncoder(inputCol='STATE_Index', outputCol='STATE_Vec')\n",
    "STATE_indexed.show()"
   ]
  },
  {
   "cell_type": "code",
   "execution_count": 163,
   "id": "1a3b511d",
   "metadata": {},
   "outputs": [
    {
     "name": "stderr",
     "output_type": "stream",
     "text": [
      "\r",
      "[Stage 150:>                                                        (0 + 1) / 1]\r"
     ]
    },
    {
     "name": "stdout",
     "output_type": "stream",
     "text": [
      "+--------------------+--------------------+---------------+-----+---------+-------------+---------------+-----------+---------------------+\n",
      "|           LONGITUDE|            LATITUDE|FIRE_SIZE_CLASS|STATE|FIRE_YEAR|DISCOVERY_DOY|STAT_CAUSE_CODE|STATE_Index|FIRE_SIZE_CLASS_Index|\n",
      "+--------------------+--------------------+---------------+-----+---------+-------------+---------------+-----------+---------------------+\n",
      "|-121.005833330000...|40.03694444000000...|              A|   CA|     2005|           33|              9|        0.0|                  1.0|\n",
      "|-120.404444440000...|38.93305556000000...|              A|   CA|     2004|          133|              1|        0.0|                  1.0|\n",
      "|-120.735555560000...|38.98416667000000...|              A|   CA|     2004|          152|              5|        0.0|                  1.0|\n",
      "|-119.913333330000...|38.55916667000000...|              A|   CA|     2004|          180|              1|        0.0|                  1.0|\n",
      "|-119.933055560000...|38.55916667000000...|              A|   CA|     2004|          180|              1|        0.0|                  1.0|\n",
      "|-120.103611110000...|38.63527778000000...|              A|   CA|     2004|          182|              1|        0.0|                  1.0|\n",
      "|-120.153333330000...|38.68833333000000...|              A|   CA|     2004|          183|              1|        0.0|                  1.0|\n",
      "|-122.433888890000...|40.96805556000000...|              B|   CA|     2005|           67|              5|        0.0|                  0.0|\n",
      "|-122.283333330000...|41.23361111000000...|              B|   CA|     2005|           74|              5|        0.0|                  0.0|\n",
      "|-120.149166670000...|38.54833333000000...|              A|   CA|     2004|          183|              1|        0.0|                  1.0|\n",
      "|-120.159722220000...|38.69166667000000...|              A|   CA|     2004|          184|              1|        0.0|                  1.0|\n",
      "|-120.106111110000...|38.52750000000000...|              A|   CA|     2004|          184|              1|        0.0|                  1.0|\n",
      "|-120.193333330000...|38.78666667000000...|              A|   CA|     2004|          247|              9|        0.0|                  1.0|\n",
      "|-120.510000000000...|38.43333333000000...|              B|   CA|     2004|          272|              4|        0.0|                  0.0|\n",
      "|-120.279722220000...|38.67583333000000...|              A|   CA|     2004|          277|              1|        0.0|                  1.0|\n",
      "|-120.542222220000...|38.56416667000000...|              A|   CA|     2004|          277|              1|        0.0|                  1.0|\n",
      "|-120.211666670000...|38.52333333000000...|              G|   CA|     2004|          280|              2|        0.0|                  6.0|\n",
      "|-120.260000000000...|38.78000000000000...|              G|   CA|     2004|          287|              2|        0.0|                  6.0|\n",
      "|-120.411666670000...|38.94500000000000...|              A|   CA|     2004|          325|              5|        0.0|                  1.0|\n",
      "|-105.720555560000...|33.44083333000000...|              A|   NM|     2004|          156|              1|       14.0|                  1.0|\n",
      "+--------------------+--------------------+---------------+-----+---------+-------------+---------------+-----------+---------------------+\n",
      "only showing top 20 rows\n",
      "\n"
     ]
    },
    {
     "name": "stderr",
     "output_type": "stream",
     "text": [
      "\r",
      "                                                                                \r"
     ]
    }
   ],
   "source": [
    "FIRE_SIZE_CLASS_indexer = StringIndexer(inputCol='FIRE_SIZE_CLASS', outputCol='FIRE_SIZE_CLASS_Index')\n",
    "FIRE_SIZE_CLASS_indexed = FIRE_SIZE_CLASS_indexer.fit(STATE_indexed).transform(STATE_indexed)\n",
    "FIRE_SIZE_CLASS_indexed.show()\n"
   ]
  },
  {
   "cell_type": "code",
   "execution_count": 162,
   "id": "7dc7af43",
   "metadata": {},
   "outputs": [
    {
     "name": "stderr",
     "output_type": "stream",
     "text": [
      "\r",
      "[Stage 147:>                                                        (0 + 1) / 1]\r"
     ]
    },
    {
     "name": "stdout",
     "output_type": "stream",
     "text": [
      "+---------------------+\n",
      "|FIRE_SIZE_CLASS_Index|\n",
      "+---------------------+\n",
      "|                  0.0|\n",
      "|                  1.0|\n",
      "|                  4.0|\n",
      "|                  3.0|\n",
      "|                  2.0|\n",
      "|                  6.0|\n",
      "|                  5.0|\n",
      "+---------------------+\n",
      "\n"
     ]
    },
    {
     "name": "stderr",
     "output_type": "stream",
     "text": [
      "\r",
      "                                                                                \r"
     ]
    }
   ],
   "source": [
    "FIRE_SIZE_CLASS_indexed.select('FIRE_SIZE_CLASS_Index').distinct().show()"
   ]
  },
  {
   "cell_type": "code",
   "execution_count": 164,
   "id": "48d7d0d5",
   "metadata": {},
   "outputs": [],
   "source": [
    "assembler = VectorAssembler(inputCols=['LONGITUDE', 'LATITUDE',\n",
    "               'STATE_Index', 'FIRE_SIZE_CLASS_Vec','FIRE_YEAR', 'DISCOVERY_DOY',\n",
    "                'STAT_CAUSE_CODE'], outputCol='features')\n"
   ]
  },
  {
   "cell_type": "code",
   "execution_count": 184,
   "id": "8bbe16f3",
   "metadata": {},
   "outputs": [],
   "source": [
    "log_reg_model = LogisticRegression(featuresCol='features', labelCol='FIRE_SIZE_CLASS_Index')"
   ]
  },
  {
   "cell_type": "code",
   "execution_count": 169,
   "id": "b28976ac",
   "metadata": {},
   "outputs": [],
   "source": [
    "pipeline = Pipeline (stages=[STATE_indexer, FIRE_SIZE_CLASS_indexer,\n",
    "                             STATE_indexed, FIRE_SIZE_CLASS_indexed,\n",
    "                            assembler, log_reg_model])"
   ]
  },
  {
   "cell_type": "code",
   "execution_count": 174,
   "id": "f356679e",
   "metadata": {},
   "outputs": [
    {
     "name": "stdout",
     "output_type": "stream",
     "text": [
      "+--------------------+--------------------+---------+-------------+---------------+-----------+---------------------+\n",
      "|           LONGITUDE|            LATITUDE|FIRE_YEAR|DISCOVERY_DOY|STAT_CAUSE_CODE|STATE_Index|FIRE_SIZE_CLASS_Index|\n",
      "+--------------------+--------------------+---------+-------------+---------------+-----------+---------------------+\n",
      "|-121.005833330000...|40.03694444000000...|     2005|           33|              9|        0.0|                  1.0|\n",
      "|-120.404444440000...|38.93305556000000...|     2004|          133|              1|        0.0|                  1.0|\n",
      "|-120.735555560000...|38.98416667000000...|     2004|          152|              5|        0.0|                  1.0|\n",
      "|-119.913333330000...|38.55916667000000...|     2004|          180|              1|        0.0|                  1.0|\n",
      "|-119.933055560000...|38.55916667000000...|     2004|          180|              1|        0.0|                  1.0|\n",
      "|-120.103611110000...|38.63527778000000...|     2004|          182|              1|        0.0|                  1.0|\n",
      "|-120.153333330000...|38.68833333000000...|     2004|          183|              1|        0.0|                  1.0|\n",
      "|-122.433888890000...|40.96805556000000...|     2005|           67|              5|        0.0|                  0.0|\n",
      "|-122.283333330000...|41.23361111000000...|     2005|           74|              5|        0.0|                  0.0|\n",
      "|-120.149166670000...|38.54833333000000...|     2004|          183|              1|        0.0|                  1.0|\n",
      "|-120.159722220000...|38.69166667000000...|     2004|          184|              1|        0.0|                  1.0|\n",
      "|-120.106111110000...|38.52750000000000...|     2004|          184|              1|        0.0|                  1.0|\n",
      "|-120.193333330000...|38.78666667000000...|     2004|          247|              9|        0.0|                  1.0|\n",
      "|-120.510000000000...|38.43333333000000...|     2004|          272|              4|        0.0|                  0.0|\n",
      "|-120.279722220000...|38.67583333000000...|     2004|          277|              1|        0.0|                  1.0|\n",
      "|-120.542222220000...|38.56416667000000...|     2004|          277|              1|        0.0|                  1.0|\n",
      "|-120.211666670000...|38.52333333000000...|     2004|          280|              2|        0.0|                  6.0|\n",
      "|-120.260000000000...|38.78000000000000...|     2004|          287|              2|        0.0|                  6.0|\n",
      "|-120.411666670000...|38.94500000000000...|     2004|          325|              5|        0.0|                  1.0|\n",
      "|-105.720555560000...|33.44083333000000...|     2004|          156|              1|       14.0|                  1.0|\n",
      "+--------------------+--------------------+---------+-------------+---------------+-----------+---------------------+\n",
      "only showing top 20 rows\n",
      "\n"
     ]
    }
   ],
   "source": [
    "data = FIRE_SIZE_CLASS_indexed.select('LONGITUDE', 'LATITUDE', 'FIRE_YEAR', 'DISCOVERY_DOY', 'STAT_CAUSE_CODE', 'STATE_Index', 'FIRE_SIZE_CLASS_Index')\n",
    "data.show()"
   ]
  },
  {
   "cell_type": "code",
   "execution_count": 180,
   "id": "49c72be4",
   "metadata": {},
   "outputs": [],
   "source": [
    "train_data, test_data = data.randomSplit([0.7, 0.3])"
   ]
  },
  {
   "cell_type": "code",
   "execution_count": 182,
   "id": "4841b31b",
   "metadata": {},
   "outputs": [],
   "source": [
    "assembler = VectorAssembler(inputCols=['LONGITUDE', 'LATITUDE',\n",
    "               'STATE_Index','FIRE_YEAR', 'DISCOVERY_DOY',\n",
    "                'STAT_CAUSE_CODE'], outputCol='features')\n"
   ]
  },
  {
   "cell_type": "code",
   "execution_count": 185,
   "id": "79c00887",
   "metadata": {},
   "outputs": [
    {
     "ename": "IllegalArgumentException",
     "evalue": "features does not exist. Available: LONGITUDE, LATITUDE, FIRE_YEAR, DISCOVERY_DOY, STAT_CAUSE_CODE, STATE_Index, FIRE_SIZE_CLASS_Index",
     "output_type": "error",
     "traceback": [
      "\u001b[0;31m---------------------------------------------------------------------------\u001b[0m",
      "\u001b[0;31mIllegalArgumentException\u001b[0m                  Traceback (most recent call last)",
      "Cell \u001b[0;32mIn[185], line 1\u001b[0m\n\u001b[0;32m----> 1\u001b[0m fit_model \u001b[38;5;241m=\u001b[39m log_reg_model\u001b[38;5;241m.\u001b[39mfit(train_data)\n",
      "File \u001b[0;32m~/spark-3.4.0-bin-hadoop3/python/pyspark/ml/base.py:205\u001b[0m, in \u001b[0;36mEstimator.fit\u001b[0;34m(self, dataset, params)\u001b[0m\n\u001b[1;32m    203\u001b[0m         \u001b[38;5;28;01mreturn\u001b[39;00m \u001b[38;5;28mself\u001b[39m\u001b[38;5;241m.\u001b[39mcopy(params)\u001b[38;5;241m.\u001b[39m_fit(dataset)\n\u001b[1;32m    204\u001b[0m     \u001b[38;5;28;01melse\u001b[39;00m:\n\u001b[0;32m--> 205\u001b[0m         \u001b[38;5;28;01mreturn\u001b[39;00m \u001b[38;5;28mself\u001b[39m\u001b[38;5;241m.\u001b[39m_fit(dataset)\n\u001b[1;32m    206\u001b[0m \u001b[38;5;28;01melse\u001b[39;00m:\n\u001b[1;32m    207\u001b[0m     \u001b[38;5;28;01mraise\u001b[39;00m \u001b[38;5;167;01mTypeError\u001b[39;00m(\n\u001b[1;32m    208\u001b[0m         \u001b[38;5;124m\"\u001b[39m\u001b[38;5;124mParams must be either a param map or a list/tuple of param maps, \u001b[39m\u001b[38;5;124m\"\u001b[39m\n\u001b[1;32m    209\u001b[0m         \u001b[38;5;124m\"\u001b[39m\u001b[38;5;124mbut got \u001b[39m\u001b[38;5;132;01m%s\u001b[39;00m\u001b[38;5;124m.\u001b[39m\u001b[38;5;124m\"\u001b[39m \u001b[38;5;241m%\u001b[39m \u001b[38;5;28mtype\u001b[39m(params)\n\u001b[1;32m    210\u001b[0m     )\n",
      "File \u001b[0;32m~/spark-3.4.0-bin-hadoop3/python/pyspark/ml/wrapper.py:381\u001b[0m, in \u001b[0;36mJavaEstimator._fit\u001b[0;34m(self, dataset)\u001b[0m\n\u001b[1;32m    380\u001b[0m \u001b[38;5;28;01mdef\u001b[39;00m \u001b[38;5;21m_fit\u001b[39m(\u001b[38;5;28mself\u001b[39m, dataset: DataFrame) \u001b[38;5;241m-\u001b[39m\u001b[38;5;241m>\u001b[39m JM:\n\u001b[0;32m--> 381\u001b[0m     java_model \u001b[38;5;241m=\u001b[39m \u001b[38;5;28mself\u001b[39m\u001b[38;5;241m.\u001b[39m_fit_java(dataset)\n\u001b[1;32m    382\u001b[0m     model \u001b[38;5;241m=\u001b[39m \u001b[38;5;28mself\u001b[39m\u001b[38;5;241m.\u001b[39m_create_model(java_model)\n\u001b[1;32m    383\u001b[0m     \u001b[38;5;28;01mreturn\u001b[39;00m \u001b[38;5;28mself\u001b[39m\u001b[38;5;241m.\u001b[39m_copyValues(model)\n",
      "File \u001b[0;32m~/spark-3.4.0-bin-hadoop3/python/pyspark/ml/wrapper.py:378\u001b[0m, in \u001b[0;36mJavaEstimator._fit_java\u001b[0;34m(self, dataset)\u001b[0m\n\u001b[1;32m    375\u001b[0m \u001b[38;5;28;01massert\u001b[39;00m \u001b[38;5;28mself\u001b[39m\u001b[38;5;241m.\u001b[39m_java_obj \u001b[38;5;129;01mis\u001b[39;00m \u001b[38;5;129;01mnot\u001b[39;00m \u001b[38;5;28;01mNone\u001b[39;00m\n\u001b[1;32m    377\u001b[0m \u001b[38;5;28mself\u001b[39m\u001b[38;5;241m.\u001b[39m_transfer_params_to_java()\n\u001b[0;32m--> 378\u001b[0m \u001b[38;5;28;01mreturn\u001b[39;00m \u001b[38;5;28mself\u001b[39m\u001b[38;5;241m.\u001b[39m_java_obj\u001b[38;5;241m.\u001b[39mfit(dataset\u001b[38;5;241m.\u001b[39m_jdf)\n",
      "File \u001b[0;32m~/spark-3.4.0-bin-hadoop3/python/lib/py4j-0.10.9.7-src.zip/py4j/java_gateway.py:1322\u001b[0m, in \u001b[0;36mJavaMember.__call__\u001b[0;34m(self, *args)\u001b[0m\n\u001b[1;32m   1316\u001b[0m command \u001b[38;5;241m=\u001b[39m proto\u001b[38;5;241m.\u001b[39mCALL_COMMAND_NAME \u001b[38;5;241m+\u001b[39m\\\n\u001b[1;32m   1317\u001b[0m     \u001b[38;5;28mself\u001b[39m\u001b[38;5;241m.\u001b[39mcommand_header \u001b[38;5;241m+\u001b[39m\\\n\u001b[1;32m   1318\u001b[0m     args_command \u001b[38;5;241m+\u001b[39m\\\n\u001b[1;32m   1319\u001b[0m     proto\u001b[38;5;241m.\u001b[39mEND_COMMAND_PART\n\u001b[1;32m   1321\u001b[0m answer \u001b[38;5;241m=\u001b[39m \u001b[38;5;28mself\u001b[39m\u001b[38;5;241m.\u001b[39mgateway_client\u001b[38;5;241m.\u001b[39msend_command(command)\n\u001b[0;32m-> 1322\u001b[0m return_value \u001b[38;5;241m=\u001b[39m get_return_value(\n\u001b[1;32m   1323\u001b[0m     answer, \u001b[38;5;28mself\u001b[39m\u001b[38;5;241m.\u001b[39mgateway_client, \u001b[38;5;28mself\u001b[39m\u001b[38;5;241m.\u001b[39mtarget_id, \u001b[38;5;28mself\u001b[39m\u001b[38;5;241m.\u001b[39mname)\n\u001b[1;32m   1325\u001b[0m \u001b[38;5;28;01mfor\u001b[39;00m temp_arg \u001b[38;5;129;01min\u001b[39;00m temp_args:\n\u001b[1;32m   1326\u001b[0m     \u001b[38;5;28;01mif\u001b[39;00m \u001b[38;5;28mhasattr\u001b[39m(temp_arg, \u001b[38;5;124m\"\u001b[39m\u001b[38;5;124m_detach\u001b[39m\u001b[38;5;124m\"\u001b[39m):\n",
      "File \u001b[0;32m~/spark-3.4.0-bin-hadoop3/python/pyspark/errors/exceptions/captured.py:175\u001b[0m, in \u001b[0;36mcapture_sql_exception.<locals>.deco\u001b[0;34m(*a, **kw)\u001b[0m\n\u001b[1;32m    171\u001b[0m converted \u001b[38;5;241m=\u001b[39m convert_exception(e\u001b[38;5;241m.\u001b[39mjava_exception)\n\u001b[1;32m    172\u001b[0m \u001b[38;5;28;01mif\u001b[39;00m \u001b[38;5;129;01mnot\u001b[39;00m \u001b[38;5;28misinstance\u001b[39m(converted, UnknownException):\n\u001b[1;32m    173\u001b[0m     \u001b[38;5;66;03m# Hide where the exception came from that shows a non-Pythonic\u001b[39;00m\n\u001b[1;32m    174\u001b[0m     \u001b[38;5;66;03m# JVM exception message.\u001b[39;00m\n\u001b[0;32m--> 175\u001b[0m     \u001b[38;5;28;01mraise\u001b[39;00m converted \u001b[38;5;28;01mfrom\u001b[39;00m \u001b[38;5;28;01mNone\u001b[39;00m\n\u001b[1;32m    176\u001b[0m \u001b[38;5;28;01melse\u001b[39;00m:\n\u001b[1;32m    177\u001b[0m     \u001b[38;5;28;01mraise\u001b[39;00m\n",
      "\u001b[0;31mIllegalArgumentException\u001b[0m: features does not exist. Available: LONGITUDE, LATITUDE, FIRE_YEAR, DISCOVERY_DOY, STAT_CAUSE_CODE, STATE_Index, FIRE_SIZE_CLASS_Index"
     ]
    }
   ],
   "source": [
    "fit_model = log_reg_model.fit(train_data)"
   ]
  },
  {
   "cell_type": "code",
   "execution_count": null,
   "id": "54f7dcc9",
   "metadata": {},
   "outputs": [],
   "source": []
  }
 ],
 "metadata": {
  "kernelspec": {
   "display_name": "Python 3 (ipykernel)",
   "language": "python",
   "name": "python3"
  },
  "language_info": {
   "codemirror_mode": {
    "name": "ipython",
    "version": 3
   },
   "file_extension": ".py",
   "mimetype": "text/x-python",
   "name": "python",
   "nbconvert_exporter": "python",
   "pygments_lexer": "ipython3",
   "version": "3.11.3"
  }
 },
 "nbformat": 4,
 "nbformat_minor": 5
}
